{
 "cells": [
  {
   "cell_type": "code",
   "execution_count": 145,
   "id": "789e7aee-51c5-40de-8b70-cb0c76ccbbbb",
   "metadata": {
    "tags": []
   },
   "outputs": [],
   "source": [
    "import numpy as np\n",
    "import mne\n",
    "# PYHRV IMPORTS\n",
    "import biosppy\n",
    "import pyhrv\n",
    "import pyhrv.time_domain as td\n",
    "import pyhrv.tools as tools\n",
    "#from pecg import Preprocessing as Pre\n",
    "# MATH\n",
    "import math\n",
    "\n",
    "# SKLEARN\n",
    "from sklearn import preprocessing\n",
    "from sklearn.model_selection import train_test_split\n",
    "from sklearn.model_selection import cross_val_score\n",
    "from sklearn.metrics import accuracy_score, zero_one_loss\n",
    "from sklearn.metrics import ConfusionMatrixDisplay, f1_score\n",
    "from sklearn.inspection import permutation_importance\n",
    "\n",
    "from sklearn.neural_network import MLPClassifier\n",
    "from sklearn.linear_model import LogisticRegression\n",
    "from sklearn.naive_bayes import GaussianNB\n",
    "from sklearn.neighbors import KNeighborsClassifier\n",
    "from sklearn.tree import DecisionTreeClassifier\n",
    "from sklearn.svm import SVC\n",
    "from sklearn import preprocessing\n",
    "\n",
    "# PYTORCH\n",
    "import torch\n",
    "import torch.nn as nn\n",
    "import torch.optim as optim\n",
    "# PANDAS\n",
    "import pandas as pd\n",
    "import csv\n",
    "import matplotlib.pyplot as plt\n",
    "seed=1234"
   ]
  },
  {
   "cell_type": "markdown",
   "id": "694fb880-cbb7-4d34-ab2a-7610d88158ca",
   "metadata": {},
   "source": [
    "# Taking data out of files #"
   ]
  },
  {
   "cell_type": "code",
   "execution_count": 2,
   "id": "a768d4ca-ac90-4da9-a35d-010089fee0d3",
   "metadata": {
    "tags": []
   },
   "outputs": [
    {
     "name": "stdout",
     "output_type": "stream",
     "text": [
      "Extracting EDF parameters from D:\\Documents\\Code\\Jupyterlab\\ECG_data\\01M_1_edited.edf...\n",
      "EDF file detected\n",
      "Setting channel info structure...\n",
      "Creating raw.info structure...\n",
      "Used Annotations descriptions: ['Event']\n",
      "<Info | 8 non-empty values\n",
      " bads: []\n",
      " ch_names: O1-Ref, O2-Ref, C3-Ref, C4-Ref, LOC-Ref, ROC-Ref, EKG\n",
      " chs: 7 EEG\n",
      " custom_ref_applied: False\n",
      " highpass: 0.5 Hz\n",
      " lowpass: 64.0 Hz\n",
      " meas_date: 2001-01-01 14:47:31 UTC\n",
      " nchan: 7\n",
      " projs: []\n",
      " sfreq: 128.0 Hz\n",
      " subject_info: 3 items (dict)\n",
      ">\n"
     ]
    }
   ],
   "source": [
    "file_1M1 = \"ECG_data/01M_1_edited.edf\"\n",
    "data_1M1 = mne.io.read_raw_edf(file_1M1)\n",
    "raw_data_1M1 = data_1M1.get_data()\n",
    "# you can get the metadata included in the file and a list of all channels:\n",
    "info_1M1 = data_1M1.info\n",
    "channels_1M1 = data_1M1.ch_names\n",
    "events_1M1 = mne.events_from_annotations(data_1M1)[0]\n",
    "print(info_1M1)"
   ]
  },
  {
   "cell_type": "code",
   "execution_count": 3,
   "id": "a5685dc0-4139-4db9-a671-316cb82ce05f",
   "metadata": {},
   "outputs": [
    {
     "name": "stdout",
     "output_type": "stream",
     "text": [
      "Extracting EDF parameters from D:\\Documents\\Code\\Jupyterlab\\ECG_data\\01M_2_edited.edf...\n",
      "EDF file detected\n",
      "Setting channel info structure...\n",
      "Creating raw.info structure...\n",
      "Used Annotations descriptions: ['Event']\n",
      "<Info | 8 non-empty values\n",
      " bads: []\n",
      " ch_names: O1-Ref, O2-Ref, C3-Ref, C4-Ref, LOC-Ref, ROC-Ref, EKG\n",
      " chs: 7 EEG\n",
      " custom_ref_applied: False\n",
      " highpass: 0.5 Hz\n",
      " lowpass: 64.0 Hz\n",
      " meas_date: 2001-01-01 14:52:38 UTC\n",
      " nchan: 7\n",
      " projs: []\n",
      " sfreq: 128.0 Hz\n",
      " subject_info: 3 items (dict)\n",
      ">\n"
     ]
    }
   ],
   "source": [
    "file_1M2 = \"ECG_data/01M_2_edited.edf\"\n",
    "data_1M2 = mne.io.read_raw_edf(file_1M2)\n",
    "raw_data_1M2 = data_1M2.get_data()\n",
    "# you can get the metadata included in the file and a list of all channels:\n",
    "info_1M2 = data_1M2.info\n",
    "channels_1M2 = data_1M2.ch_names\n",
    "events_1M2 = mne.events_from_annotations(data_1M2)[0]\n",
    "print(info_1M2)"
   ]
  },
  {
   "cell_type": "code",
   "execution_count": 4,
   "id": "ff2fff11-4800-4f57-a167-81846250eecb",
   "metadata": {},
   "outputs": [
    {
     "name": "stdout",
     "output_type": "stream",
     "text": [
      "Extracting EDF parameters from D:\\Documents\\Code\\Jupyterlab\\ECG_data\\02F_1_edited.edf...\n",
      "EDF file detected\n",
      "Setting channel info structure...\n",
      "Creating raw.info structure...\n",
      "Used Annotations descriptions: ['Event']\n",
      "<Info | 8 non-empty values\n",
      " bads: []\n",
      " ch_names: O1-Ref, O2-Ref, C3-Ref, C4-Ref, LOC-Ref, ROC-Ref, EKG\n",
      " chs: 7 EEG\n",
      " custom_ref_applied: False\n",
      " highpass: 0.5 Hz\n",
      " lowpass: 64.0 Hz\n",
      " meas_date: 2001-01-01 14:44:00 UTC\n",
      " nchan: 7\n",
      " projs: []\n",
      " sfreq: 128.0 Hz\n",
      " subject_info: 3 items (dict)\n",
      ">\n"
     ]
    }
   ],
   "source": [
    "file_2F1 = \"ECG_data/02F_1_edited.edf\"\n",
    "data_2F1 = mne.io.read_raw_edf(file_2F1)\n",
    "raw_data_2F1 = data_2F1.get_data()\n",
    "# you can get the metadata included in the file and a list of all channels:\n",
    "info_2F1 = data_2F1.info\n",
    "channels_2F1 = data_2F1.ch_names\n",
    "events_2F1 = mne.events_from_annotations(data_2F1)[0]\n",
    "print(info_2F1)"
   ]
  },
  {
   "cell_type": "code",
   "execution_count": 5,
   "id": "9a601744-1be5-401b-9e8e-e7c3a1c7f44d",
   "metadata": {},
   "outputs": [
    {
     "name": "stdout",
     "output_type": "stream",
     "text": [
      "Extracting EDF parameters from D:\\Documents\\Code\\Jupyterlab\\ECG_data\\02F_2_edited.edf...\n",
      "EDF file detected\n",
      "Setting channel info structure...\n",
      "Creating raw.info structure...\n",
      "Used Annotations descriptions: ['Event']\n",
      "<Info | 8 non-empty values\n",
      " bads: []\n",
      " ch_names: O1-Ref, O2-Ref, C3-Ref, C4-Ref, LOC-Ref, ROC-Ref, EKG\n",
      " chs: 7 EEG\n",
      " custom_ref_applied: False\n",
      " highpass: 0.5 Hz\n",
      " lowpass: 64.0 Hz\n",
      " meas_date: 2001-01-01 14:55:58 UTC\n",
      " nchan: 7\n",
      " projs: []\n",
      " sfreq: 128.0 Hz\n",
      " subject_info: 3 items (dict)\n",
      ">\n"
     ]
    }
   ],
   "source": [
    "file_2F2 = \"ECG_data/02F_2_edited.edf\"\n",
    "data_2F2 = mne.io.read_raw_edf(file_2F2)\n",
    "raw_data_2F2 = data_2F2.get_data()\n",
    "# you can get the metadata included in the file and a list of all channels:\n",
    "info_2F2 = data_2F2.info\n",
    "channels_2F2 = data_2F2.ch_names\n",
    "events_2F2 = mne.events_from_annotations(data_2F2)[0]\n",
    "print(info_2F2)"
   ]
  },
  {
   "cell_type": "code",
   "execution_count": 6,
   "id": "50fdaf4b-f52f-4d9d-a888-fac2396a36ed",
   "metadata": {},
   "outputs": [
    {
     "name": "stdout",
     "output_type": "stream",
     "text": [
      "Extracting EDF parameters from D:\\Documents\\Code\\Jupyterlab\\ECG_data\\03F_1_edited.edf...\n",
      "EDF file detected\n",
      "Setting channel info structure...\n",
      "Creating raw.info structure...\n",
      "Used Annotations descriptions: ['Event']\n",
      "<Info | 8 non-empty values\n",
      " bads: []\n",
      " ch_names: O1-Ref, O2-Ref, C3-Ref, C4-Ref, LOC-Ref, ROC-Ref, EKG\n",
      " chs: 7 EEG\n",
      " custom_ref_applied: False\n",
      " highpass: 0.5 Hz\n",
      " lowpass: 64.0 Hz\n",
      " meas_date: 2001-01-01 15:12:18 UTC\n",
      " nchan: 7\n",
      " projs: []\n",
      " sfreq: 128.0 Hz\n",
      " subject_info: 3 items (dict)\n",
      ">\n"
     ]
    }
   ],
   "source": [
    "file_3F1 = \"ECG_data/03F_1_edited.edf\"\n",
    "data_3F1 = mne.io.read_raw_edf(file_3F1)\n",
    "raw_data_3F1 = data_3F1.get_data()\n",
    "# you can get the metadata included in the file and a list of all channels:\n",
    "info_3F1 = data_3F1.info\n",
    "channels_3F1 = data_3F1.ch_names\n",
    "events_3F1 = mne.events_from_annotations(data_3F1)[0]\n",
    "print(info_3F1)"
   ]
  },
  {
   "cell_type": "code",
   "execution_count": 7,
   "id": "e4f9e648-2028-463a-bff6-92a0a4d82546",
   "metadata": {},
   "outputs": [
    {
     "name": "stdout",
     "output_type": "stream",
     "text": [
      "Extracting EDF parameters from D:\\Documents\\Code\\Jupyterlab\\ECG_data\\03F_2_edited.edf...\n",
      "EDF file detected\n",
      "Setting channel info structure...\n",
      "Creating raw.info structure...\n",
      "Used Annotations descriptions: ['Event']\n",
      "<Info | 8 non-empty values\n",
      " bads: []\n",
      " ch_names: O1-Ref, O2-Ref, C3-Ref, C4-Ref, LOC-Ref, ROC-Ref, EKG\n",
      " chs: 7 EEG\n",
      " custom_ref_applied: False\n",
      " highpass: 0.5 Hz\n",
      " lowpass: 64.0 Hz\n",
      " meas_date: 2001-01-01 14:43:22 UTC\n",
      " nchan: 7\n",
      " projs: []\n",
      " sfreq: 128.0 Hz\n",
      " subject_info: 3 items (dict)\n",
      ">\n"
     ]
    }
   ],
   "source": [
    "file_3F2 = \"ECG_data/03F_2_edited.edf\"\n",
    "data_3F2 = mne.io.read_raw_edf(file_3F2)\n",
    "raw_data_3F2 = data_3F2.get_data()\n",
    "# you can get the metadata included in the file and a list of all channels:\n",
    "info_3F2 = data_3F2.info\n",
    "channels_3F2 = data_3F2.ch_names\n",
    "events_3F2 = mne.events_from_annotations(data_3F2)[0]\n",
    "print(info_3F2)"
   ]
  },
  {
   "cell_type": "code",
   "execution_count": 8,
   "id": "7964cfbf-f26f-4319-85d5-dd65eb9676b7",
   "metadata": {},
   "outputs": [
    {
     "name": "stdout",
     "output_type": "stream",
     "text": [
      "Extracting EDF parameters from D:\\Documents\\Code\\Jupyterlab\\ECG_data\\04M_1_edited.edf...\n",
      "EDF file detected\n",
      "Setting channel info structure...\n",
      "Creating raw.info structure...\n",
      "Used Annotations descriptions: ['Event']\n",
      "<Info | 8 non-empty values\n",
      " bads: []\n",
      " ch_names: O1-Ref, O2-Ref, C3-Ref, C4-Ref, LOC-Ref, ROC-Ref, EKG\n",
      " chs: 7 EEG\n",
      " custom_ref_applied: False\n",
      " highpass: 0.5 Hz\n",
      " lowpass: 64.0 Hz\n",
      " meas_date: 2001-01-01 14:58:50 UTC\n",
      " nchan: 7\n",
      " projs: []\n",
      " sfreq: 128.0 Hz\n",
      " subject_info: 3 items (dict)\n",
      ">\n"
     ]
    }
   ],
   "source": [
    "file_4M1 = \"ECG_data/04M_1_edited.edf\"\n",
    "data_4M1 = mne.io.read_raw_edf(file_4M1)\n",
    "raw_data_4M1 = data_4M1.get_data()\n",
    "# you can get the metadata included in the file and a list of all channels:\n",
    "info_4M1 = data_4M1.info\n",
    "channels_4M1 = data_4M1.ch_names\n",
    "events_4M1 = mne.events_from_annotations(data_4M1)[0]\n",
    "print(info_4M1)"
   ]
  },
  {
   "cell_type": "code",
   "execution_count": 9,
   "id": "7752acdc-0664-4e4e-94cd-7004b4ccd01a",
   "metadata": {},
   "outputs": [
    {
     "name": "stdout",
     "output_type": "stream",
     "text": [
      "Extracting EDF parameters from D:\\Documents\\Code\\Jupyterlab\\ECG_data\\04M_2_edited.edf...\n",
      "EDF file detected\n",
      "Setting channel info structure...\n",
      "Creating raw.info structure...\n",
      "Used Annotations descriptions: ['Event']\n",
      "<Info | 8 non-empty values\n",
      " bads: []\n",
      " ch_names: O1-Ref, O2-Ref, C3-Ref, C4-Ref, LOC-Ref, ROC-Ref, EKG\n",
      " chs: 7 EEG\n",
      " custom_ref_applied: False\n",
      " highpass: 0.5 Hz\n",
      " lowpass: 64.0 Hz\n",
      " meas_date: 2001-01-01 14:38:05 UTC\n",
      " nchan: 7\n",
      " projs: []\n",
      " sfreq: 128.0 Hz\n",
      " subject_info: 3 items (dict)\n",
      ">\n"
     ]
    }
   ],
   "source": [
    "file_4M2 = \"ECG_data/04M_2_edited.edf\"\n",
    "data_4M2 = mne.io.read_raw_edf(file_4M2)\n",
    "raw_data_4M2 = data_4M2.get_data()\n",
    "# you can get the metadata included in the file and a list of all channels:\n",
    "info_4M2 = data_4M2.info\n",
    "channels_4M2 = data_4M2.ch_names\n",
    "events_4M2 = mne.events_from_annotations(data_4M2)[0]\n",
    "print(info_4M2)"
   ]
  },
  {
   "cell_type": "code",
   "execution_count": 10,
   "id": "8c1997e0-83ac-4e48-a0e7-6daffe57663b",
   "metadata": {},
   "outputs": [
    {
     "name": "stdout",
     "output_type": "stream",
     "text": [
      "Extracting EDF parameters from D:\\Documents\\Code\\Jupyterlab\\ECG_data\\05M_1_edited.edf...\n",
      "EDF file detected\n",
      "Setting channel info structure...\n",
      "Creating raw.info structure...\n",
      "Used Annotations descriptions: ['Event']\n",
      "<Info | 8 non-empty values\n",
      " bads: []\n",
      " ch_names: O1-Ref, O2-Ref, C3-Ref, C4-Ref, LOC-Ref, ROC-Ref, EKG\n",
      " chs: 7 EEG\n",
      " custom_ref_applied: False\n",
      " highpass: 0.5 Hz\n",
      " lowpass: 64.0 Hz\n",
      " meas_date: 2001-01-01 14:38:38 UTC\n",
      " nchan: 7\n",
      " projs: []\n",
      " sfreq: 128.0 Hz\n",
      " subject_info: 3 items (dict)\n",
      ">\n"
     ]
    }
   ],
   "source": [
    "file_5M1 = \"ECG_data/05M_1_edited.edf\"\n",
    "data_5M1 = mne.io.read_raw_edf(file_5M1)\n",
    "raw_data_5M1 = data_5M1.get_data()\n",
    "# you can get the metadata included in the file and a list of all channels:\n",
    "info_5M1 = data_5M1.info\n",
    "channels_5M1 = data_5M1.ch_names\n",
    "events_5M1 = mne.events_from_annotations(data_5M1)[0]\n",
    "print(info_5M1)"
   ]
  },
  {
   "cell_type": "code",
   "execution_count": 11,
   "id": "3190fe0e-0f3d-4f1e-a7d6-b9cc97f813a4",
   "metadata": {},
   "outputs": [
    {
     "name": "stdout",
     "output_type": "stream",
     "text": [
      "Extracting EDF parameters from D:\\Documents\\Code\\Jupyterlab\\ECG_data\\05M_2_edited.edf...\n",
      "EDF file detected\n",
      "Setting channel info structure...\n",
      "Creating raw.info structure...\n",
      "Used Annotations descriptions: ['Event']\n",
      "<Info | 8 non-empty values\n",
      " bads: []\n",
      " ch_names: O1-Ref, O2-Ref, C3-Ref, C4-Ref, LOC-Ref, ROC-Ref, EKG\n",
      " chs: 7 EEG\n",
      " custom_ref_applied: False\n",
      " highpass: 0.5 Hz\n",
      " lowpass: 64.0 Hz\n",
      " meas_date: 2001-01-01 14:59:56 UTC\n",
      " nchan: 7\n",
      " projs: []\n",
      " sfreq: 128.0 Hz\n",
      " subject_info: 3 items (dict)\n",
      ">\n"
     ]
    }
   ],
   "source": [
    "file_5M2 = \"ECG_data/05M_2_edited.edf\"\n",
    "data_5M2 = mne.io.read_raw_edf(file_5M2)\n",
    "raw_data_5M2 = data_5M2.get_data()\n",
    "# you can get the metadata included in the file and a list of all channels:\n",
    "info_5M2 = data_5M2.info\n",
    "channels_5M2 = data_5M2.ch_names\n",
    "events_5M2 = mne.events_from_annotations(data_5M2)[0]\n",
    "print(info_5M2)"
   ]
  },
  {
   "cell_type": "code",
   "execution_count": 12,
   "id": "5481f049-fbee-452f-8f91-cbbc148f9352",
   "metadata": {},
   "outputs": [
    {
     "name": "stdout",
     "output_type": "stream",
     "text": [
      "Extracting EDF parameters from D:\\Documents\\Code\\Jupyterlab\\ECG_data\\06M_1_edited.edf...\n",
      "EDF file detected\n",
      "Setting channel info structure...\n",
      "Creating raw.info structure...\n",
      "Used Annotations descriptions: ['Event']\n",
      "<Info | 8 non-empty values\n",
      " bads: []\n",
      " ch_names: O1-Ref, O2-Ref, C3-Ref, C4-Ref, LOC-Ref, ROC-Ref, EKG\n",
      " chs: 7 EEG\n",
      " custom_ref_applied: False\n",
      " highpass: 0.5 Hz\n",
      " lowpass: 64.0 Hz\n",
      " meas_date: 2001-01-01 14:43:31 UTC\n",
      " nchan: 7\n",
      " projs: []\n",
      " sfreq: 128.0 Hz\n",
      " subject_info: 3 items (dict)\n",
      ">\n"
     ]
    }
   ],
   "source": [
    "file_6M1 = \"ECG_data/06M_1_edited.edf\"\n",
    "data_6M1 = mne.io.read_raw_edf(file_6M1)\n",
    "raw_data_6M1 = data_6M1.get_data()\n",
    "# you can get the metadata included in the file and a list of all channels:\n",
    "info_6M1 = data_6M1.info\n",
    "channels_6M1 = data_6M1.ch_names\n",
    "events_6M1 = mne.events_from_annotations(data_6M1)[0]\n",
    "print(info_6M1)"
   ]
  },
  {
   "cell_type": "code",
   "execution_count": 13,
   "id": "ffee0d18-cafd-4224-9d7b-01bd4cea8700",
   "metadata": {},
   "outputs": [
    {
     "name": "stdout",
     "output_type": "stream",
     "text": [
      "Extracting EDF parameters from D:\\Documents\\Code\\Jupyterlab\\ECG_data\\06M_2_edited.edf...\n",
      "EDF file detected\n",
      "Setting channel info structure...\n",
      "Creating raw.info structure...\n",
      "Used Annotations descriptions: ['Event']\n",
      "<Info | 8 non-empty values\n",
      " bads: []\n",
      " ch_names: O1-Ref, O2-Ref, C3-Ref, C4-Ref, LOC-Ref, ROC-Ref, EKG\n",
      " chs: 7 EEG\n",
      " custom_ref_applied: False\n",
      " highpass: 0.5 Hz\n",
      " lowpass: 64.0 Hz\n",
      " meas_date: 2001-01-01 15:17:25 UTC\n",
      " nchan: 7\n",
      " projs: []\n",
      " sfreq: 128.0 Hz\n",
      " subject_info: 3 items (dict)\n",
      ">\n"
     ]
    }
   ],
   "source": [
    "file_6M2 = \"ECG_data/06M_2_edited.edf\"\n",
    "data_6M2 = mne.io.read_raw_edf(file_6M2)\n",
    "raw_data_6M2 = data_6M2.get_data()\n",
    "# you can get the metadata included in the file and a list of all channels:\n",
    "info_6M2 = data_6M2.info\n",
    "channels_6M2 = data_6M2.ch_names\n",
    "events_6M2 = mne.events_from_annotations(data_6M2)[0]\n",
    "print(info_6M2)"
   ]
  },
  {
   "cell_type": "code",
   "execution_count": 14,
   "id": "4ef302ff-2079-4ed1-aec4-b8d28a19b50f",
   "metadata": {},
   "outputs": [
    {
     "name": "stdout",
     "output_type": "stream",
     "text": [
      "Extracting EDF parameters from D:\\Documents\\Code\\Jupyterlab\\ECG_data\\07F_1_edited.edf...\n",
      "EDF file detected\n",
      "Setting channel info structure...\n",
      "Creating raw.info structure...\n",
      "Used Annotations descriptions: ['Event']\n",
      "<Info | 8 non-empty values\n",
      " bads: []\n",
      " ch_names: O1-Ref, O2-Ref, C3-Ref, C4-Ref, LOC-Ref, ROC-Ref, EKG\n",
      " chs: 7 EEG\n",
      " custom_ref_applied: False\n",
      " highpass: 0.5 Hz\n",
      " lowpass: 64.0 Hz\n",
      " meas_date: 2001-01-01 14:57:50 UTC\n",
      " nchan: 7\n",
      " projs: []\n",
      " sfreq: 128.0 Hz\n",
      " subject_info: 3 items (dict)\n",
      ">\n"
     ]
    }
   ],
   "source": [
    "file_7F1 = \"ECG_data/07F_1_edited.edf\"\n",
    "data_7F1 = mne.io.read_raw_edf(file_7F1)\n",
    "raw_data_7F1 = data_7F1.get_data()\n",
    "# you can get the metadata included in the file and a list of all channels:\n",
    "info_7F1 = data_7F1.info\n",
    "channels_7F1 = data_7F1.ch_names\n",
    "events_7F1 = mne.events_from_annotations(data_7F1)[0]\n",
    "print(info_7F1)"
   ]
  },
  {
   "cell_type": "code",
   "execution_count": 15,
   "id": "f96c3391-03d2-4663-88ef-1c9af71cba7c",
   "metadata": {},
   "outputs": [
    {
     "name": "stdout",
     "output_type": "stream",
     "text": [
      "Extracting EDF parameters from D:\\Documents\\Code\\Jupyterlab\\ECG_data\\07F_2_edited.edf...\n",
      "EDF file detected\n",
      "Setting channel info structure...\n",
      "Creating raw.info structure...\n",
      "Used Annotations descriptions: ['Event']\n",
      "<Info | 8 non-empty values\n",
      " bads: []\n",
      " ch_names: O1-Ref, O2-Ref, C3-Ref, C4-Ref, LOC-Ref, ROC-Ref, EKG\n",
      " chs: 7 EEG\n",
      " custom_ref_applied: False\n",
      " highpass: 0.5 Hz\n",
      " lowpass: 64.0 Hz\n",
      " meas_date: 2001-01-01 14:55:48 UTC\n",
      " nchan: 7\n",
      " projs: []\n",
      " sfreq: 128.0 Hz\n",
      " subject_info: 3 items (dict)\n",
      ">\n"
     ]
    }
   ],
   "source": [
    "file_7F2 = \"ECG_data/07F_2_edited.edf\"\n",
    "data_7F2 = mne.io.read_raw_edf(file_7F2)\n",
    "raw_data_7F2 = data_7F2.get_data()\n",
    "# you can get the metadata included in the file and a list of all channels:\n",
    "info_7F2 = data_7F2.info\n",
    "channels_7F2 = data_7F2.ch_names\n",
    "events_7F2 = mne.events_from_annotations(data_7F2)[0]\n",
    "print(info_7F2)"
   ]
  },
  {
   "cell_type": "code",
   "execution_count": 16,
   "id": "ea8ad753-e9a9-475c-abca-f008efc76770",
   "metadata": {},
   "outputs": [
    {
     "name": "stdout",
     "output_type": "stream",
     "text": [
      "Extracting EDF parameters from D:\\Documents\\Code\\Jupyterlab\\ECG_data\\08M_1_edited.edf...\n",
      "EDF file detected\n",
      "Setting channel info structure...\n",
      "Creating raw.info structure...\n",
      "Used Annotations descriptions: ['Event']\n",
      "<Info | 8 non-empty values\n",
      " bads: []\n",
      " ch_names: O1-Ref, O2-Ref, C3-Ref, C4-Ref, LOC-Ref, ROC-Ref, EKG\n",
      " chs: 7 EEG\n",
      " custom_ref_applied: False\n",
      " highpass: 0.5 Hz\n",
      " lowpass: 64.0 Hz\n",
      " meas_date: 2001-01-01 14:55:07 UTC\n",
      " nchan: 7\n",
      " projs: []\n",
      " sfreq: 128.0 Hz\n",
      " subject_info: 3 items (dict)\n",
      ">\n"
     ]
    }
   ],
   "source": [
    "file_8M1 = \"ECG_data/08M_1_edited.edf\"\n",
    "data_8M1 = mne.io.read_raw_edf(file_8M1)\n",
    "raw_data_8M1 = data_8M1.get_data()\n",
    "# you can get the metadata included in the file and a list of all channels:\n",
    "info_8M1 = data_8M1.info\n",
    "channels_8M1 = data_8M1.ch_names\n",
    "events_8M1 = mne.events_from_annotations(data_8M1)[0]\n",
    "print(info_8M1)"
   ]
  },
  {
   "cell_type": "code",
   "execution_count": 17,
   "id": "ca787fb8-abf1-4399-bf73-71c48f4781ee",
   "metadata": {},
   "outputs": [
    {
     "name": "stdout",
     "output_type": "stream",
     "text": [
      "Extracting EDF parameters from D:\\Documents\\Code\\Jupyterlab\\ECG_data\\08M_2_edited.edf...\n",
      "EDF file detected\n",
      "Setting channel info structure...\n",
      "Creating raw.info structure...\n",
      "Used Annotations descriptions: ['Event']\n",
      "<Info | 8 non-empty values\n",
      " bads: []\n",
      " ch_names: O1-Ref, O2-Ref, C3-Ref, C4-Ref, LOC-Ref, ROC-Ref, EKG\n",
      " chs: 7 EEG\n",
      " custom_ref_applied: False\n",
      " highpass: 0.5 Hz\n",
      " lowpass: 64.0 Hz\n",
      " meas_date: 2001-01-01 14:54:36 UTC\n",
      " nchan: 7\n",
      " projs: []\n",
      " sfreq: 128.0 Hz\n",
      " subject_info: 3 items (dict)\n",
      ">\n"
     ]
    }
   ],
   "source": [
    "file_8M2 = \"ECG_data/08M_2_edited.edf\"\n",
    "data_8M2 = mne.io.read_raw_edf(file_8M2)\n",
    "raw_data_8M2 = data_8M2.get_data()\n",
    "# you can get the metadata included in the file and a list of all channels:\n",
    "info_8M2 = data_8M2.info\n",
    "channels_8M2 = data_8M2.ch_names\n",
    "events_8M2 = mne.events_from_annotations(data_8M2)[0]\n",
    "print(info_8M2)"
   ]
  },
  {
   "cell_type": "code",
   "execution_count": 18,
   "id": "582f1fdf-c670-472f-9181-a5506652360e",
   "metadata": {},
   "outputs": [
    {
     "name": "stdout",
     "output_type": "stream",
     "text": [
      "Extracting EDF parameters from D:\\Documents\\Code\\Jupyterlab\\ECG_data\\09M_1_edited.edf...\n",
      "EDF file detected\n",
      "Setting channel info structure...\n",
      "Creating raw.info structure...\n",
      "Used Annotations descriptions: ['Event']\n",
      "<Info | 8 non-empty values\n",
      " bads: []\n",
      " ch_names: O1-Ref, O2-Ref, C3-Ref, C4-Ref, LOC-Ref, ROC-Ref, EKG\n",
      " chs: 7 EEG\n",
      " custom_ref_applied: False\n",
      " highpass: 0.5 Hz\n",
      " lowpass: 64.0 Hz\n",
      " meas_date: 2001-01-01 14:46:02 UTC\n",
      " nchan: 7\n",
      " projs: []\n",
      " sfreq: 128.0 Hz\n",
      " subject_info: 3 items (dict)\n",
      ">\n"
     ]
    }
   ],
   "source": [
    "file_9M1 = \"ECG_data/09M_1_edited.edf\"\n",
    "data_9M1 = mne.io.read_raw_edf(file_9M1)\n",
    "raw_data_9M1 = data_9M1.get_data()\n",
    "# you can get the metadata included in the file and a list of all channels:\n",
    "info_9M1 = data_9M1.info\n",
    "channels_9M1 = data_9M1.ch_names\n",
    "events_9M1 = mne.events_from_annotations(data_9M1)[0]\n",
    "print(info_9M1)"
   ]
  },
  {
   "cell_type": "code",
   "execution_count": 19,
   "id": "31407a87-5159-4f91-82fb-c2047101381b",
   "metadata": {},
   "outputs": [
    {
     "name": "stdout",
     "output_type": "stream",
     "text": [
      "Extracting EDF parameters from D:\\Documents\\Code\\Jupyterlab\\ECG_data\\09M_2_edited.edf...\n",
      "EDF file detected\n",
      "Setting channel info structure...\n",
      "Creating raw.info structure...\n",
      "Used Annotations descriptions: ['Event']\n",
      "<Info | 8 non-empty values\n",
      " bads: []\n",
      " ch_names: O1-Ref, O2-Ref, C3-Ref, C4-Ref, LOC-Ref, ROC-Ref, EKG\n",
      " chs: 7 EEG\n",
      " custom_ref_applied: False\n",
      " highpass: 0.5 Hz\n",
      " lowpass: 64.0 Hz\n",
      " meas_date: 2001-01-01 14:52:30 UTC\n",
      " nchan: 7\n",
      " projs: []\n",
      " sfreq: 128.0 Hz\n",
      " subject_info: 3 items (dict)\n",
      ">\n"
     ]
    }
   ],
   "source": [
    "file_9M2 = \"ECG_data/09M_2_edited.edf\"\n",
    "data_9M2 = mne.io.read_raw_edf(file_9M2)\n",
    "raw_data_9M2 = data_9M2.get_data()\n",
    "# you can get the metadata included in the file and a list of all channels:\n",
    "info_9M2 = data_9M2.info\n",
    "channels_9M2 = data_9M2.ch_names\n",
    "events_9M2 = mne.events_from_annotations(data_9M2)[0]\n",
    "print(info_9M2)"
   ]
  },
  {
   "cell_type": "code",
   "execution_count": 20,
   "id": "607b3e7f-c4b9-497e-81da-46e302c7b5c3",
   "metadata": {},
   "outputs": [
    {
     "name": "stdout",
     "output_type": "stream",
     "text": [
      "Extracting EDF parameters from D:\\Documents\\Code\\Jupyterlab\\ECG_data\\10M_1_edited.edf...\n",
      "EDF file detected\n",
      "Setting channel info structure...\n",
      "Creating raw.info structure...\n",
      "Used Annotations descriptions: ['Event']\n",
      "<Info | 8 non-empty values\n",
      " bads: []\n",
      " ch_names: O1-Ref, O2-Ref, C3-Ref, C4-Ref, LOC-Ref, ROC-Ref, EKG\n",
      " chs: 7 EEG\n",
      " custom_ref_applied: False\n",
      " highpass: 0.5 Hz\n",
      " lowpass: 64.0 Hz\n",
      " meas_date: 2001-01-01 15:06:40 UTC\n",
      " nchan: 7\n",
      " projs: []\n",
      " sfreq: 128.0 Hz\n",
      " subject_info: 3 items (dict)\n",
      ">\n"
     ]
    }
   ],
   "source": [
    "file_10M1 = \"ECG_data/10M_1_edited.edf\"\n",
    "data_10M1 = mne.io.read_raw_edf(file_10M1)\n",
    "raw_data_10M1 = data_10M1.get_data()\n",
    "# you can get the metadata included in the file and a list of all channels:\n",
    "info_10M1 = data_10M1.info\n",
    "channels_10M1 = data_10M1.ch_names\n",
    "events_10M1 = mne.events_from_annotations(data_10M1)[0]\n",
    "print(info_10M1)"
   ]
  },
  {
   "cell_type": "code",
   "execution_count": 21,
   "id": "aba27390-635e-46be-88ed-b4d37a334a4d",
   "metadata": {},
   "outputs": [
    {
     "name": "stdout",
     "output_type": "stream",
     "text": [
      "Extracting EDF parameters from D:\\Documents\\Code\\Jupyterlab\\ECG_data\\10M_2_edited.edf...\n",
      "EDF file detected\n",
      "Setting channel info structure...\n",
      "Creating raw.info structure...\n",
      "Used Annotations descriptions: ['Event']\n",
      "<Info | 8 non-empty values\n",
      " bads: []\n",
      " ch_names: O1-Ref, O2-Ref, C3-Ref, C4-Ref, LOC-Ref, ROC-Ref, EKG\n",
      " chs: 7 EEG\n",
      " custom_ref_applied: False\n",
      " highpass: 0.5 Hz\n",
      " lowpass: 64.0 Hz\n",
      " meas_date: 2001-01-01 15:50:21 UTC\n",
      " nchan: 7\n",
      " projs: []\n",
      " sfreq: 128.0 Hz\n",
      " subject_info: 3 items (dict)\n",
      ">\n"
     ]
    }
   ],
   "source": [
    "file_10M2 = \"ECG_data/10M_2_edited.edf\"\n",
    "data_10M2 = mne.io.read_raw_edf(file_10M2)\n",
    "raw_data_10M2 = data_10M2.get_data()\n",
    "# you can get the metadata included in the file and a list of all channels:\n",
    "info_10M2 = data_10M2.info\n",
    "channels_10M2 = data_10M2.ch_names\n",
    "events_10M2 = mne.events_from_annotations(data_10M2)[0]\n",
    "print(info_10M2)"
   ]
  },
  {
   "cell_type": "markdown",
   "id": "302389de-8181-42fa-9b5c-20ef0b1abafd",
   "metadata": {},
   "source": [
    "# Get Raw ECG Signal #"
   ]
  },
  {
   "cell_type": "code",
   "execution_count": 22,
   "id": "3372b12b-932c-47fc-ba68-f3528fb4508b",
   "metadata": {
    "tags": []
   },
   "outputs": [
    {
     "name": "stdout",
     "output_type": "stream",
     "text": [
      "26\n",
      "935040\n"
     ]
    }
   ],
   "source": [
    "print(len(events_1M1))\n",
    "raw_ecg_1M1 = raw_data_1M1[6]\n",
    "print(len(raw_ecg_1M1))"
   ]
  },
  {
   "cell_type": "code",
   "execution_count": 23,
   "id": "2bcd081e-17ef-4dc7-b908-8de0f8dfe0ea",
   "metadata": {},
   "outputs": [
    {
     "name": "stdout",
     "output_type": "stream",
     "text": [
      "58\n",
      "931200\n"
     ]
    }
   ],
   "source": [
    "print(len(events_1M2))\n",
    "raw_ecg_1M2 = raw_data_1M2[6]\n",
    "print(len(raw_ecg_1M2))"
   ]
  },
  {
   "cell_type": "code",
   "execution_count": 24,
   "id": "8356a9b5-1bfa-4e16-8843-75f04566daeb",
   "metadata": {},
   "outputs": [
    {
     "name": "stdout",
     "output_type": "stream",
     "text": [
      "37\n",
      "944640\n"
     ]
    }
   ],
   "source": [
    "print(len(events_2F1))\n",
    "raw_ecg_2F1 = raw_data_2F1[6]\n",
    "print(len(raw_ecg_2F1))"
   ]
  },
  {
   "cell_type": "code",
   "execution_count": 25,
   "id": "5852568a-1af4-4eb8-97d4-30ae3c067d93",
   "metadata": {},
   "outputs": [
    {
     "name": "stdout",
     "output_type": "stream",
     "text": [
      "29\n",
      "929280\n"
     ]
    }
   ],
   "source": [
    "print(len(events_2F2))\n",
    "raw_ecg_2F2 = raw_data_2F2[6]\n",
    "print(len(raw_ecg_2F2))"
   ]
  },
  {
   "cell_type": "code",
   "execution_count": 26,
   "id": "1e0ee69f-ff32-4a93-bf61-b947a93178c6",
   "metadata": {},
   "outputs": [
    {
     "name": "stdout",
     "output_type": "stream",
     "text": [
      "86\n",
      "935040\n"
     ]
    }
   ],
   "source": [
    "print(len(events_3F1))\n",
    "raw_ecg_3F1 = raw_data_3F1[6]\n",
    "print(len(raw_ecg_3F1))"
   ]
  },
  {
   "cell_type": "code",
   "execution_count": 27,
   "id": "d8b0f3fc-d39b-4b36-81a2-e8e21d6990fd",
   "metadata": {},
   "outputs": [
    {
     "name": "stdout",
     "output_type": "stream",
     "text": [
      "96\n",
      "940800\n"
     ]
    }
   ],
   "source": [
    "print(len(events_3F2))\n",
    "raw_ecg_3F2 = raw_data_3F2[6]\n",
    "print(len(raw_ecg_3F2))"
   ]
  },
  {
   "cell_type": "code",
   "execution_count": 28,
   "id": "093e7213-634d-4af7-aec6-da50184135cb",
   "metadata": {},
   "outputs": [
    {
     "name": "stdout",
     "output_type": "stream",
     "text": [
      "36\n",
      "887040\n"
     ]
    }
   ],
   "source": [
    "print(len(events_4M1))\n",
    "raw_ecg_4M1 = raw_data_4M1[6]\n",
    "print(len(raw_ecg_4M1))"
   ]
  },
  {
   "cell_type": "code",
   "execution_count": 29,
   "id": "1c11f4f2-9be0-404d-b1c3-d2b137fee0e1",
   "metadata": {},
   "outputs": [
    {
     "name": "stdout",
     "output_type": "stream",
     "text": [
      "46\n",
      "923520\n"
     ]
    }
   ],
   "source": [
    "print(len(events_4M2))\n",
    "raw_ecg_4M2 = raw_data_4M2[6]\n",
    "print(len(raw_ecg_4M2))"
   ]
  },
  {
   "cell_type": "code",
   "execution_count": 30,
   "id": "7258377d-57a9-446f-b534-e5956886ad2c",
   "metadata": {},
   "outputs": [
    {
     "name": "stdout",
     "output_type": "stream",
     "text": [
      "25\n",
      "927360\n"
     ]
    }
   ],
   "source": [
    "print(len(events_5M1))\n",
    "raw_ecg_5M1 = raw_data_5M1[6]\n",
    "print(len(raw_ecg_5M1))"
   ]
  },
  {
   "cell_type": "code",
   "execution_count": 31,
   "id": "5ebbac5c-4152-4d5a-9c1f-c807cfd14cbf",
   "metadata": {},
   "outputs": [
    {
     "name": "stdout",
     "output_type": "stream",
     "text": [
      "39\n",
      "927360\n"
     ]
    }
   ],
   "source": [
    "print(len(events_5M2))\n",
    "raw_ecg_5M2 = raw_data_5M2[6]\n",
    "print(len(raw_ecg_5M2))"
   ]
  },
  {
   "cell_type": "code",
   "execution_count": 32,
   "id": "608cc449-f6db-4e20-b17e-423341d55535",
   "metadata": {},
   "outputs": [
    {
     "name": "stdout",
     "output_type": "stream",
     "text": [
      "36\n",
      "923520\n"
     ]
    }
   ],
   "source": [
    "print(len(events_6M1))\n",
    "raw_ecg_6M1 = raw_data_6M1[6]\n",
    "print(len(raw_ecg_6M1))"
   ]
  },
  {
   "cell_type": "code",
   "execution_count": 33,
   "id": "92eef82a-4b87-4f62-afb9-0f3b20d06cfa",
   "metadata": {},
   "outputs": [
    {
     "name": "stdout",
     "output_type": "stream",
     "text": [
      "19\n",
      "938880\n"
     ]
    }
   ],
   "source": [
    "print(len(events_6M2))\n",
    "raw_ecg_6M2 = raw_data_6M2[6]\n",
    "print(len(raw_ecg_6M2))"
   ]
  },
  {
   "cell_type": "code",
   "execution_count": 34,
   "id": "84b68436-4116-400a-b91a-4e2c280e54dc",
   "metadata": {},
   "outputs": [
    {
     "name": "stdout",
     "output_type": "stream",
     "text": [
      "90\n",
      "933120\n"
     ]
    }
   ],
   "source": [
    "print(len(events_7F1))\n",
    "raw_ecg_7F1 = raw_data_7F1[6]\n",
    "print(len(raw_ecg_7F1))"
   ]
  },
  {
   "cell_type": "code",
   "execution_count": 35,
   "id": "e3f08d49-d26b-4a2a-bf7e-1d25623fadc2",
   "metadata": {},
   "outputs": [
    {
     "name": "stdout",
     "output_type": "stream",
     "text": [
      "162\n",
      "931200\n"
     ]
    }
   ],
   "source": [
    "print(len(events_7F2))\n",
    "raw_ecg_7F2 = raw_data_7F2[6]\n",
    "print(len(raw_ecg_7F2))"
   ]
  },
  {
   "cell_type": "code",
   "execution_count": 36,
   "id": "63ad317d-faf6-45e0-99d6-fddef3c3fe3c",
   "metadata": {},
   "outputs": [
    {
     "name": "stdout",
     "output_type": "stream",
     "text": [
      "5\n",
      "925440\n"
     ]
    }
   ],
   "source": [
    "print(len(events_8M1))\n",
    "raw_ecg_8M1 = raw_data_8M1[6]\n",
    "print(len(raw_ecg_8M1))"
   ]
  },
  {
   "cell_type": "code",
   "execution_count": 37,
   "id": "1060d57a-bd25-4bc8-b425-7986b54629ef",
   "metadata": {},
   "outputs": [
    {
     "name": "stdout",
     "output_type": "stream",
     "text": [
      "8\n",
      "925440\n"
     ]
    }
   ],
   "source": [
    "print(len(events_8M2))\n",
    "raw_ecg_8M2 = raw_data_8M2[6]\n",
    "print(len(raw_ecg_8M2))"
   ]
  },
  {
   "cell_type": "code",
   "execution_count": 38,
   "id": "27226aec-034c-4b00-995c-7798076b7c2b",
   "metadata": {},
   "outputs": [
    {
     "name": "stdout",
     "output_type": "stream",
     "text": [
      "2\n",
      "925440\n"
     ]
    }
   ],
   "source": [
    "print(len(events_9M1))\n",
    "raw_ecg_9M1 = raw_data_9M1[6]\n",
    "print(len(raw_ecg_9M1))"
   ]
  },
  {
   "cell_type": "code",
   "execution_count": 39,
   "id": "cd34245a-8cc2-43fa-a609-1c61adee4302",
   "metadata": {},
   "outputs": [
    {
     "name": "stdout",
     "output_type": "stream",
     "text": [
      "5\n",
      "927360\n"
     ]
    }
   ],
   "source": [
    "print(len(events_9M2))\n",
    "raw_ecg_9M2 = raw_data_9M2[6]\n",
    "print(len(raw_ecg_9M2))"
   ]
  },
  {
   "cell_type": "code",
   "execution_count": 40,
   "id": "595b371b-1c66-4e47-a88f-e6284c141c65",
   "metadata": {},
   "outputs": [
    {
     "name": "stdout",
     "output_type": "stream",
     "text": [
      "3\n",
      "925440\n"
     ]
    }
   ],
   "source": [
    "print(len(events_10M1))\n",
    "raw_ecg_10M1 = raw_data_10M1[6]\n",
    "print(len(raw_ecg_10M1))"
   ]
  },
  {
   "cell_type": "code",
   "execution_count": 41,
   "id": "a3a0b262-dc8c-4df1-8b9d-32cbf83ff8d6",
   "metadata": {},
   "outputs": [
    {
     "name": "stdout",
     "output_type": "stream",
     "text": [
      "8\n",
      "927360\n"
     ]
    }
   ],
   "source": [
    "print(len(events_10M2))\n",
    "raw_ecg_10M2 = raw_data_10M2[6]\n",
    "print(len(raw_ecg_10M2))"
   ]
  },
  {
   "cell_type": "markdown",
   "id": "faa1ec5c-6d4b-4f26-8644-15c2049148f0",
   "metadata": {},
   "source": [
    "# Get Event Series #"
   ]
  },
  {
   "cell_type": "code",
   "execution_count": 42,
   "id": "fa8c28b9-a089-4350-8822-cc793d61ad5a",
   "metadata": {},
   "outputs": [
    {
     "name": "stdout",
     "output_type": "stream",
     "text": [
      "935040\n",
      "[[  1024      0      1]\n",
      " [193280      0      1]\n",
      " [274304      0      1]\n",
      " [285312      0      1]\n",
      " [300032      0      1]\n",
      " [316288      0      1]\n",
      " [324480      0      1]\n",
      " [343808      0      1]\n",
      " [384256      0      1]\n",
      " [399488      0      1]\n",
      " [410880      0      1]\n",
      " [429440      0      1]\n",
      " [504832      0      1]\n",
      " [524928      0      1]\n",
      " [532608      0      1]\n",
      " [559488      0      1]\n",
      " [577536      0      1]\n",
      " [589568      0      1]\n",
      " [604800      0      1]\n",
      " [625664      0      1]\n",
      " [633088      0      1]\n",
      " [651776      0      1]\n",
      " [873856      0      1]\n",
      " [887936      0      1]\n",
      " [932352      0      1]\n",
      " [933632      0      1]]\n",
      "25\n"
     ]
    }
   ],
   "source": [
    "print(len(raw_ecg_1M1))\n",
    "all_event_series = []\n",
    "print(events_1M1)\n",
    "all_event_series = []\n",
    "all_event_series.append(raw_ecg_1M1[7*128:896+120*128])\n",
    "for event in events_1M1[1:-2]:\n",
    "    all_event_series.append(raw_ecg_1M1[event[0]-(60*128):event[0]+(60*128)])\n",
    "all_event_series.append(raw_ecg_1M1[len(raw_ecg_1M1)-(120*128):])\n",
    "print(len(all_event_series))"
   ]
  },
  {
   "cell_type": "code",
   "execution_count": 43,
   "id": "bf13be72-ef47-41fd-ab85-448450e484df",
   "metadata": {},
   "outputs": [
    {
     "name": "stdout",
     "output_type": "stream",
     "text": [
      "931200\n",
      "[[  1664      0      1]\n",
      " [ 71168      0      1]\n",
      " [ 92032      0      1]\n",
      " [100736      0      1]\n",
      " [106624      0      1]\n",
      " [115200      0      1]\n",
      " [136448      0      1]\n",
      " [149632      0      1]\n",
      " [156160      0      1]\n",
      " [159744      0      1]\n",
      " [167168      0      1]\n",
      " [174720      0      1]\n",
      " [176896      0      1]\n",
      " [182272      0      1]\n",
      " [190336      0      1]\n",
      " [193152      0      1]\n",
      " [198784      0      1]\n",
      " [208384      0      1]\n",
      " [216320      0      1]\n",
      " [223872      0      1]\n",
      " [231808      0      1]\n",
      " [234368      0      1]\n",
      " [241536      0      1]\n",
      " [247040      0      1]\n",
      " [269696      0      1]\n",
      " [316160      0      1]\n",
      " [332928      0      1]\n",
      " [350208      0      1]\n",
      " [391808      0      1]\n",
      " [406400      0      1]\n",
      " [417920      0      1]\n",
      " [439424      0      1]\n",
      " [460288      0      1]\n",
      " [467840      0      1]\n",
      " [474496      0      1]\n",
      " [502400      0      1]\n",
      " [506752      0      1]\n",
      " [511232      0      1]\n",
      " [514176      0      1]\n",
      " [525056      0      1]\n",
      " [548224      0      1]\n",
      " [561152      0      1]\n",
      " [567168      0      1]\n",
      " [571264      0      1]\n",
      " [575104      0      1]\n",
      " [585984      0      1]\n",
      " [740224      0      1]\n",
      " [745216      0      1]\n",
      " [758656      0      1]\n",
      " [830208      0      1]\n",
      " [841984      0      1]\n",
      " [863360      0      1]\n",
      " [880512      0      1]\n",
      " [892544      0      1]\n",
      " [909056      0      1]\n",
      " [919168      0      1]\n",
      " [925696      0      1]\n",
      " [930816      0      1]]\n",
      "81\n"
     ]
    }
   ],
   "source": [
    "print(len(raw_ecg_1M2))\n",
    "print(events_1M2)\n",
    "all_event_series.append(raw_ecg_1M2[9*128:9*128+120*128])\n",
    "for event in events_1M2[1:-3]:\n",
    "    all_event_series.append(raw_ecg_1M2[event[0]-(60*128):event[0]+(60*128)])\n",
    "all_event_series.append(raw_ecg_1M2[len(raw_ecg_1M2)-(120*128):])\n",
    "print(len(all_event_series))"
   ]
  },
  {
   "cell_type": "code",
   "execution_count": 44,
   "id": "ad670337-4c02-447e-99ba-0a072f7197c3",
   "metadata": {},
   "outputs": [
    {
     "name": "stdout",
     "output_type": "stream",
     "text": [
      "944640\n",
      "[[  1024      0      1]\n",
      " [ 28928      0      1]\n",
      " [ 48384      0      1]\n",
      " [ 49408      0      1]\n",
      " [ 79104      0      1]\n",
      " [175872      0      1]\n",
      " [196480      0      1]\n",
      " [201856      0      1]\n",
      " [282496      0      1]\n",
      " [321152      0      1]\n",
      " [344832      0      1]\n",
      " [371200      0      1]\n",
      " [388096      0      1]\n",
      " [414592      0      1]\n",
      " [584320      0      1]\n",
      " [596992      0      1]\n",
      " [598016      0      1]\n",
      " [618368      0      1]\n",
      " [639872      0      1]\n",
      " [646272      0      1]\n",
      " [649344      0      1]\n",
      " [654976      0      1]\n",
      " [668032      0      1]\n",
      " [676352      0      1]\n",
      " [678144      0      1]\n",
      " [694656      0      1]\n",
      " [701184      0      1]\n",
      " [705536      0      1]\n",
      " [707072      0      1]\n",
      " [709504      0      1]\n",
      " [725376      0      1]\n",
      " [725632      0      1]\n",
      " [747904      0      1]\n",
      " [809216      0      1]\n",
      " [817920      0      1]\n",
      " [942080      0      1]\n",
      " [942336      0      1]]\n",
      "117\n"
     ]
    }
   ],
   "source": [
    "print(len(raw_ecg_2F1))\n",
    "print(events_2F1)\n",
    "all_event_series.append(raw_ecg_2F1[8*128:8*128+120*128])\n",
    "for event in events_2F1[1:-2]:\n",
    "    all_event_series.append(raw_ecg_2F1[event[0]-(60*128):event[0]+(60*128)])\n",
    "all_event_series.append(raw_ecg_2F1[len(raw_ecg_2F1)-(120*128):])\n",
    "print(len(all_event_series))"
   ]
  },
  {
   "cell_type": "code",
   "execution_count": 45,
   "id": "963d9112-ae05-4848-8ec3-5853bc72b5dd",
   "metadata": {},
   "outputs": [
    {
     "name": "stdout",
     "output_type": "stream",
     "text": [
      "929280\n",
      "[[   896      0      1]\n",
      " [ 61696      0      1]\n",
      " [ 80000      0      1]\n",
      " [188928      0      1]\n",
      " [409984      0      1]\n",
      " [416896      0      1]\n",
      " [435584      0      1]\n",
      " [448256      0      1]\n",
      " [463872      0      1]\n",
      " [469248      0      1]\n",
      " [476544      0      1]\n",
      " [484608      0      1]\n",
      " [548736      0      1]\n",
      " [557184      0      1]\n",
      " [559744      0      1]\n",
      " [571904      0      1]\n",
      " [573184      0      1]\n",
      " [590336      0      1]\n",
      " [622208      0      1]\n",
      " [711936      0      1]\n",
      " [723072      0      1]\n",
      " [725248      0      1]\n",
      " [737280      0      1]\n",
      " [739328      0      1]\n",
      " [741632      0      1]\n",
      " [754432      0      1]\n",
      " [816000      0      1]\n",
      " [832640      0      1]\n",
      " [854400      0      1]]\n",
      "29\n",
      "[896   0   1]\n",
      "146\n"
     ]
    }
   ],
   "source": [
    "print(len(raw_ecg_2F2))\n",
    "print(events_2F2)\n",
    "print(len(events_2F2))\n",
    "all_event_series.append(raw_ecg_2F2[3*128:3*128+120*128])\n",
    "print(events_2F2[0])\n",
    "for event in events_2F2[1:]:\n",
    "    all_event_series.append(raw_ecg_2F2[event[0]-(60*128):event[0]+(60*128)])\n",
    "print(len(all_event_series))"
   ]
  },
  {
   "cell_type": "code",
   "execution_count": 46,
   "id": "b6064066-08cd-498e-975d-d9cedd9a2245",
   "metadata": {},
   "outputs": [
    {
     "name": "stdout",
     "output_type": "stream",
     "text": [
      "935040\n",
      "[[   384      0      1]\n",
      " [101760      0      1]\n",
      " [204672      0      1]\n",
      " [216832      0      1]\n",
      " [220928      0      1]\n",
      " [229504      0      1]\n",
      " [252672      0      1]\n",
      " [256512      0      1]\n",
      " [262912      0      1]\n",
      " [270336      0      1]\n",
      " [274176      0      1]\n",
      " [283648      0      1]\n",
      " [292608      0      1]\n",
      " [299648      0      1]\n",
      " [311808      0      1]\n",
      " [317440      0      1]\n",
      " [328960      0      1]\n",
      " [333824      0      1]\n",
      " [356096      0      1]\n",
      " [363136      0      1]\n",
      " [371456      0      1]\n",
      " [403968      0      1]\n",
      " [411136      0      1]\n",
      " [425728      0      1]\n",
      " [433280      0      1]\n",
      " [441728      0      1]\n",
      " [455040      0      1]\n",
      " [461440      0      1]\n",
      " [464512      0      1]\n",
      " [466688      0      1]\n",
      " [473472      0      1]\n",
      " [481920      0      1]\n",
      " [489216      0      1]\n",
      " [491904      0      1]\n",
      " [497664      0      1]\n",
      " [502400      0      1]\n",
      " [505472      0      1]\n",
      " [513408      0      1]\n",
      " [517888      0      1]\n",
      " [520576      0      1]\n",
      " [536960      0      1]\n",
      " [541952      0      1]\n",
      " [544128      0      1]\n",
      " [549504      0      1]\n",
      " [553472      0      1]\n",
      " [556032      0      1]\n",
      " [561024      0      1]\n",
      " [578432      0      1]\n",
      " [599168      0      1]\n",
      " [604160      0      1]\n",
      " [606336      0      1]\n",
      " [609792      0      1]\n",
      " [618112      0      1]\n",
      " [622080      0      1]\n",
      " [624896      0      1]\n",
      " [631168      0      1]\n",
      " [634496      0      1]\n",
      " [636928      0      1]\n",
      " [639232      0      1]\n",
      " [647424      0      1]\n",
      " [657152      0      1]\n",
      " [663936      0      1]\n",
      " [674944      0      1]\n",
      " [676864      0      1]\n",
      " [681216      0      1]\n",
      " [686720      0      1]\n",
      " [695168      0      1]\n",
      " [698624      0      1]\n",
      " [701184      0      1]\n",
      " [710784      0      1]\n",
      " [716544      0      1]\n",
      " [722688      0      1]\n",
      " [734848      0      1]\n",
      " [788864      0      1]\n",
      " [795392      0      1]\n",
      " [801536      0      1]\n",
      " [813824      0      1]\n",
      " [832768      0      1]\n",
      " [856704      0      1]\n",
      " [859392      0      1]\n",
      " [873472      0      1]\n",
      " [890240      0      1]\n",
      " [899456      0      1]\n",
      " [907008      0      1]\n",
      " [910592      0      1]\n",
      " [933504      0      1]]\n",
      "86\n",
      "232\n"
     ]
    }
   ],
   "source": [
    "print(len(raw_ecg_3F1))\n",
    "print(events_3F1)\n",
    "print(len(events_3F1))\n",
    "all_event_series.append(raw_ecg_3F1[0:120*128])\n",
    "for event in events_3F1[1:-1]:\n",
    "    all_event_series.append(raw_ecg_3F1[event[0]-(60*128):event[0]+(60*128)])\n",
    "all_event_series.append(raw_ecg_3F1[len(raw_ecg_3F1)-(120*128):])\n",
    "print(len(all_event_series))"
   ]
  },
  {
   "cell_type": "code",
   "execution_count": 47,
   "id": "bbe64b97-50a6-47e7-9865-c56281a8394a",
   "metadata": {},
   "outputs": [
    {
     "name": "stdout",
     "output_type": "stream",
     "text": [
      "940800\n",
      "[[   896      0      1]\n",
      " [ 83456      0      1]\n",
      " [ 88448      0      1]\n",
      " [ 94720      0      1]\n",
      " [ 98560      0      1]\n",
      " [106624      0      1]\n",
      " [132480      0      1]\n",
      " [141952      0      1]\n",
      " [144768      0      1]\n",
      " [151552      0      1]\n",
      " [153088      0      1]\n",
      " [156160      0      1]\n",
      " [158336      0      1]\n",
      " [159616      0      1]\n",
      " [165120      0      1]\n",
      " [166784      0      1]\n",
      " [170880      0      1]\n",
      " [176384      0      1]\n",
      " [178432      0      1]\n",
      " [183552      0      1]\n",
      " [186112      0      1]\n",
      " [188928      0      1]\n",
      " [190464      0      1]\n",
      " [194176      0      1]\n",
      " [196096      0      1]\n",
      " [198400      0      1]\n",
      " [201472      0      1]\n",
      " [204672      0      1]\n",
      " [206720      0      1]\n",
      " [208512      0      1]\n",
      " [210816      0      1]\n",
      " [214400      0      1]\n",
      " [216448      0      1]\n",
      " [218752      0      1]\n",
      " [220800      0      1]\n",
      " [222976      0      1]\n",
      " [225920      0      1]\n",
      " [227328      0      1]\n",
      " [229120      0      1]\n",
      " [231552      0      1]\n",
      " [232320      0      1]\n",
      " [235520      0      1]\n",
      " [239616      0      1]\n",
      " [279936      0      1]\n",
      " [284288      0      1]\n",
      " [286976      0      1]\n",
      " [291328      0      1]\n",
      " [293504      0      1]\n",
      " [296960      0      1]\n",
      " [299008      0      1]\n",
      " [302080      0      1]\n",
      " [304896      0      1]\n",
      " [307840      0      1]\n",
      " [310016      0      1]\n",
      " [311680      0      1]\n",
      " [313472      0      1]\n",
      " [316288      0      1]\n",
      " [317440      0      1]\n",
      " [317824      0      1]\n",
      " [322304      0      1]\n",
      " [326784      0      1]\n",
      " [329856      0      1]\n",
      " [383872      0      1]\n",
      " [430848      0      1]\n",
      " [510080      0      1]\n",
      " [515072      0      1]\n",
      " [522624      0      1]\n",
      " [533248      0      1]\n",
      " [537472      0      1]\n",
      " [752512      0      1]\n",
      " [767488      0      1]\n",
      " [779008      0      1]\n",
      " [785536      0      1]\n",
      " [792576      0      1]\n",
      " [796032      0      1]\n",
      " [799872      0      1]\n",
      " [814976      0      1]\n",
      " [829824      0      1]\n",
      " [834176      0      1]\n",
      " [840064      0      1]\n",
      " [849792      0      1]\n",
      " [852864      0      1]\n",
      " [859392      0      1]\n",
      " [864768      0      1]\n",
      " [866688      0      1]\n",
      " [868224      0      1]\n",
      " [871552      0      1]\n",
      " [879872      0      1]\n",
      " [886528      0      1]\n",
      " [894464      0      1]\n",
      " [904192      0      1]\n",
      " [908416      0      1]\n",
      " [923136      0      1]\n",
      " [926848      0      1]\n",
      " [928640      0      1]\n",
      " [939776      0      1]]\n",
      "96\n",
      "327\n"
     ]
    }
   ],
   "source": [
    "print(len(raw_ecg_3F2))\n",
    "print(events_3F2)\n",
    "print(len(events_3F2))\n",
    "all_event_series.append(raw_ecg_3F2[6*128:6*128+120*128])\n",
    "for event in events_3F2[1:-2]:\n",
    "    all_event_series.append(raw_ecg_3F2[event[0]-(60*128):event[0]+(60*128)])\n",
    "all_event_series.append(raw_ecg_3F2[len(raw_ecg_3F2)-(120*128):])\n",
    "print(len(all_event_series))"
   ]
  },
  {
   "cell_type": "code",
   "execution_count": 48,
   "id": "8c629501-046b-4acf-80ae-c623cb2d6100",
   "metadata": {},
   "outputs": [
    {
     "name": "stdout",
     "output_type": "stream",
     "text": [
      "887040\n",
      "[[  1024      0      1]\n",
      " [ 50304      0      1]\n",
      " [ 73472      0      1]\n",
      " [ 79488      0      1]\n",
      " [ 88960      0      1]\n",
      " [111616      0      1]\n",
      " [121088      0      1]\n",
      " [131456      0      1]\n",
      " [141312      0      1]\n",
      " [149120      0      1]\n",
      " [153344      0      1]\n",
      " [179968      0      1]\n",
      " [194176      0      1]\n",
      " [201216      0      1]\n",
      " [239616      0      1]\n",
      " [248576      0      1]\n",
      " [288640      0      1]\n",
      " [326144      0      1]\n",
      " [351872      0      1]\n",
      " [379776      0      1]\n",
      " [389376      0      1]\n",
      " [401536      0      1]\n",
      " [425344      0      1]\n",
      " [435072      0      1]\n",
      " [509056      0      1]\n",
      " [519040      0      1]\n",
      " [557952      0      1]\n",
      " [560640      0      1]\n",
      " [573312      0      1]\n",
      " [607104      0      1]\n",
      " [625280      0      1]\n",
      " [632576      0      1]\n",
      " [643200      0      1]\n",
      " [649984      0      1]\n",
      " [721024      0      1]\n",
      " [738048      0      1]]\n",
      "36\n",
      "363\n"
     ]
    }
   ],
   "source": [
    "print(len(raw_ecg_4M1))\n",
    "print(events_4M1)\n",
    "print(len(events_4M1))\n",
    "all_event_series.append(raw_ecg_4M1[8*128:8*128+120*128])\n",
    "for event in events_4M1[1:]:\n",
    "    all_event_series.append(raw_ecg_4M1[event[0]-(60*128):event[0]+(60*128)])\n",
    "print(len(all_event_series))"
   ]
  },
  {
   "cell_type": "code",
   "execution_count": 49,
   "id": "b73d6efb-feb5-4cad-b167-1dc6bbc74aa3",
   "metadata": {},
   "outputs": [
    {
     "name": "stdout",
     "output_type": "stream",
     "text": [
      "923520\n",
      "[[  1792      0      1]\n",
      " [ 13568      0      1]\n",
      " [ 82688      0      1]\n",
      " [ 97792      0      1]\n",
      " [113536      0      1]\n",
      " [118144      0      1]\n",
      " [135168      0      1]\n",
      " [186240      0      1]\n",
      " [204672      0      1]\n",
      " [241152      0      1]\n",
      " [275968      0      1]\n",
      " [307200      0      1]\n",
      " [313600      0      1]\n",
      " [325760      0      1]\n",
      " [331264      0      1]\n",
      " [337408      0      1]\n",
      " [342272      0      1]\n",
      " [350592      0      1]\n",
      " [358400      0      1]\n",
      " [374912      0      1]\n",
      " [385152      0      1]\n",
      " [389632      0      1]\n",
      " [407040      0      1]\n",
      " [439424      0      1]\n",
      " [441472      0      1]\n",
      " [449664      0      1]\n",
      " [478080      0      1]\n",
      " [483456      0      1]\n",
      " [497536      0      1]\n",
      " [503168      0      1]\n",
      " [517248      0      1]\n",
      " [526336      0      1]\n",
      " [571392      0      1]\n",
      " [587776      0      1]\n",
      " [590080      0      1]\n",
      " [606464      0      1]\n",
      " [614656      0      1]\n",
      " [630784      0      1]\n",
      " [648192      0      1]\n",
      " [680448      0      1]\n",
      " [721152      0      1]\n",
      " [736128      0      1]\n",
      " [755584      0      1]\n",
      " [760704      0      1]\n",
      " [771456      0      1]\n",
      " [922752      0      1]]\n",
      "46\n",
      "409\n"
     ]
    }
   ],
   "source": [
    "print(len(raw_ecg_4M2))\n",
    "print(events_4M2)\n",
    "print(len(events_4M2))\n",
    "all_event_series.append(raw_ecg_4M2[12*128:12*128+120*128])\n",
    "for event in events_4M2[1:-1]:\n",
    "    all_event_series.append(raw_ecg_4M2[event[0]-(60*128):event[0]+(60*128)])\n",
    "all_event_series.append(raw_ecg_4M2[len(raw_ecg_4M2)-(120*128):])\n",
    "print(len(all_event_series))"
   ]
  },
  {
   "cell_type": "code",
   "execution_count": 50,
   "id": "5283a4a1-4e5e-4960-8cb7-fe0b3b860649",
   "metadata": {},
   "outputs": [
    {
     "name": "stdout",
     "output_type": "stream",
     "text": [
      "927360\n",
      "[[  1024      0      1]\n",
      " [141440      0      1]\n",
      " [156800      0      1]\n",
      " [163072      0      1]\n",
      " [180864      0      1]\n",
      " [193536      0      1]\n",
      " [222976      0      1]\n",
      " [275968      0      1]\n",
      " [303872      0      1]\n",
      " [321920      0      1]\n",
      " [339968      0      1]\n",
      " [356864      0      1]\n",
      " [365312      0      1]\n",
      " [380544      0      1]\n",
      " [389120      0      1]\n",
      " [403840      0      1]\n",
      " [414720      0      1]\n",
      " [454144      0      1]\n",
      " [508032      0      1]\n",
      " [520832      0      1]\n",
      " [626688      0      1]\n",
      " [626816      0      1]\n",
      " [688512      0      1]\n",
      " [715264      0      1]\n",
      " [922496      0      1]]\n",
      "25\n",
      "434\n"
     ]
    }
   ],
   "source": [
    "print(len(raw_ecg_5M1))\n",
    "print(events_5M1)\n",
    "print(len(events_5M1))\n",
    "all_event_series.append(raw_ecg_5M1[8*128:8*128+120*128])\n",
    "for event in events_5M1[1:-1]:\n",
    "    all_event_series.append(raw_ecg_5M1[event[0]-(60*128):event[0]+(60*128)])\n",
    "all_event_series.append(raw_ecg_5M1[len(raw_ecg_5M1)-(120*128):])\n",
    "print(len(all_event_series))"
   ]
  },
  {
   "cell_type": "code",
   "execution_count": 51,
   "id": "7c0f861f-98a9-426d-b04d-70f65f358a03",
   "metadata": {},
   "outputs": [
    {
     "name": "stdout",
     "output_type": "stream",
     "text": [
      "927360\n",
      "[[  1536      0      1]\n",
      " [134144      0      1]\n",
      " [197888      0      1]\n",
      " [209536      0      1]\n",
      " [229888      0      1]\n",
      " [236416      0      1]\n",
      " [265856      0      1]\n",
      " [275712      0      1]\n",
      " [285184      0      1]\n",
      " [288000      0      1]\n",
      " [301952      0      1]\n",
      " [309120      0      1]\n",
      " [313600      0      1]\n",
      " [317056      0      1]\n",
      " [335872      0      1]\n",
      " [347136      0      1]\n",
      " [374272      0      1]\n",
      " [394880      0      1]\n",
      " [401280      0      1]\n",
      " [425728      0      1]\n",
      " [432256      0      1]\n",
      " [436224      0      1]\n",
      " [441472      0      1]\n",
      " [464384      0      1]\n",
      " [464512      0      1]\n",
      " [490496      0      1]\n",
      " [497024      0      1]\n",
      " [498816      0      1]\n",
      " [502784      0      1]\n",
      " [524416      0      1]\n",
      " [530816      0      1]\n",
      " [547328      0      1]\n",
      " [552192      0      1]\n",
      " [559744      0      1]\n",
      " [563840      0      1]\n",
      " [572672      0      1]\n",
      " [580224      0      1]\n",
      " [853760      0      1]\n",
      " [924672      0      1]]\n",
      "39\n",
      "473\n"
     ]
    }
   ],
   "source": [
    "print(len(raw_ecg_5M2))\n",
    "print(events_5M2)\n",
    "print(len(events_5M2))\n",
    "all_event_series.append(raw_ecg_5M2[12*128:12*128+120*128])\n",
    "for event in events_5M2[1:-1]:\n",
    "    all_event_series.append(raw_ecg_5M2[event[0]-(60*128):event[0]+(60*128)])\n",
    "all_event_series.append(raw_ecg_5M2[len(raw_ecg_5M2)-(120*128):])\n",
    "print(len(all_event_series))"
   ]
  },
  {
   "cell_type": "code",
   "execution_count": 52,
   "id": "325452f8-2054-47c1-a763-f4f045b6e031",
   "metadata": {},
   "outputs": [
    {
     "name": "stdout",
     "output_type": "stream",
     "text": [
      "923520\n",
      "[[  1792      0      1]\n",
      " [ 99072      0      1]\n",
      " [116736      0      1]\n",
      " [193664      0      1]\n",
      " [217728      0      1]\n",
      " [225536      0      1]\n",
      " [242688      0      1]\n",
      " [319104      0      1]\n",
      " [335616      0      1]\n",
      " [355328      0      1]\n",
      " [380160      0      1]\n",
      " [395904      0      1]\n",
      " [410624      0      1]\n",
      " [414848      0      1]\n",
      " [417536      0      1]\n",
      " [417792      0      1]\n",
      " [424832      0      1]\n",
      " [444160      0      1]\n",
      " [448512      0      1]\n",
      " [455168      0      1]\n",
      " [491136      0      1]\n",
      " [493312      0      1]\n",
      " [539648      0      1]\n",
      " [543744      0      1]\n",
      " [545920      0      1]\n",
      " [549120      0      1]\n",
      " [551936      0      1]\n",
      " [555136      0      1]\n",
      " [564992      0      1]\n",
      " [652416      0      1]\n",
      " [670848      0      1]\n",
      " [684160      0      1]\n",
      " [684288      0      1]\n",
      " [690176      0      1]\n",
      " [902656      0      1]\n",
      " [922240      0      1]]\n",
      "36\n",
      "509\n"
     ]
    }
   ],
   "source": [
    "print(len(raw_ecg_6M1))\n",
    "print(events_6M1)\n",
    "print(len(events_6M1))\n",
    "all_event_series.append(raw_ecg_6M1[14*128:14*128+120*128])\n",
    "for event in events_6M1[1:-1]:\n",
    "    all_event_series.append(raw_ecg_6M1[event[0]-(60*128):event[0]+(60*128)])\n",
    "all_event_series.append(raw_ecg_6M1[len(raw_ecg_6M1)-(120*128):])\n",
    "print(len(all_event_series))"
   ]
  },
  {
   "cell_type": "code",
   "execution_count": 53,
   "id": "e8c65108-a0cc-442b-94eb-0404b8e068f1",
   "metadata": {},
   "outputs": [
    {
     "name": "stdout",
     "output_type": "stream",
     "text": [
      "938880\n",
      "[[   768      0      1]\n",
      " [ 58496      0      1]\n",
      " [220288      0      1]\n",
      " [238080      0      1]\n",
      " [360704      0      1]\n",
      " [367744      0      1]\n",
      " [372096      0      1]\n",
      " [375168      0      1]\n",
      " [378752      0      1]\n",
      " [437504      0      1]\n",
      " [457216      0      1]\n",
      " [472064      0      1]\n",
      " [514944      0      1]\n",
      " [602624      0      1]\n",
      " [651648      0      1]\n",
      " [849408      0      1]\n",
      " [894464      0      1]\n",
      " [929024      0      1]\n",
      " [929152      0      1]]\n",
      "19\n",
      "528\n"
     ]
    }
   ],
   "source": [
    "print(len(raw_ecg_6M2))\n",
    "print(events_6M2)\n",
    "print(len(events_6M2))\n",
    "all_event_series.append(raw_ecg_6M2[0:120*128])\n",
    "for event in events_6M2[1:]:\n",
    "    all_event_series.append(raw_ecg_6M2[event[0]-(60*128):event[0]+(60*128)])\n",
    "print(len(all_event_series))"
   ]
  },
  {
   "cell_type": "code",
   "execution_count": 54,
   "id": "99a05858-66e4-454b-928c-e798f81021be",
   "metadata": {},
   "outputs": [
    {
     "name": "stdout",
     "output_type": "stream",
     "text": [
      "933120\n",
      "[[   384      0      1]\n",
      " [ 99968      0      1]\n",
      " [105728      0      1]\n",
      " [121472      0      1]\n",
      " [162816      0      1]\n",
      " [165504      0      1]\n",
      " [180736      0      1]\n",
      " [194048      0      1]\n",
      " [200192      0      1]\n",
      " [203392      0      1]\n",
      " [227712      0      1]\n",
      " [241664      0      1]\n",
      " [279040      0      1]\n",
      " [293248      0      1]\n",
      " [300544      0      1]\n",
      " [304640      0      1]\n",
      " [307968      0      1]\n",
      " [310912      0      1]\n",
      " [316416      0      1]\n",
      " [322816      0      1]\n",
      " [325632      0      1]\n",
      " [329856      0      1]\n",
      " [333056      0      1]\n",
      " [341120      0      1]\n",
      " [369664      0      1]\n",
      " [376448      0      1]\n",
      " [390528      0      1]\n",
      " [393088      0      1]\n",
      " [402560      0      1]\n",
      " [410880      0      1]\n",
      " [414464      0      1]\n",
      " [418304      0      1]\n",
      " [422656      0      1]\n",
      " [424576      0      1]\n",
      " [427648      0      1]\n",
      " [438144      0      1]\n",
      " [439680      0      1]\n",
      " [442112      0      1]\n",
      " [444032      0      1]\n",
      " [447232      0      1]\n",
      " [449152      0      1]\n",
      " [456704      0      1]\n",
      " [460160      0      1]\n",
      " [466560      0      1]\n",
      " [468864      0      1]\n",
      " [470656      0      1]\n",
      " [473088      0      1]\n",
      " [475136      0      1]\n",
      " [476928      0      1]\n",
      " [483072      0      1]\n",
      " [485376      0      1]\n",
      " [492160      0      1]\n",
      " [497792      0      1]\n",
      " [498816      0      1]\n",
      " [501504      0      1]\n",
      " [507136      0      1]\n",
      " [511872      0      1]\n",
      " [513920      0      1]\n",
      " [522112      0      1]\n",
      " [526464      0      1]\n",
      " [528256      0      1]\n",
      " [560768      0      1]\n",
      " [596736      0      1]\n",
      " [599936      0      1]\n",
      " [602496      0      1]\n",
      " [608640      0      1]\n",
      " [615296      0      1]\n",
      " [621696      0      1]\n",
      " [631296      0      1]\n",
      " [637184      0      1]\n",
      " [643456      0      1]\n",
      " [645888      0      1]\n",
      " [649472      0      1]\n",
      " [654976      0      1]\n",
      " [660736      0      1]\n",
      " [668928      0      1]\n",
      " [676352      0      1]\n",
      " [679296      0      1]\n",
      " [684544      0      1]\n",
      " [688000      0      1]\n",
      " [691712      0      1]\n",
      " [697344      0      1]\n",
      " [699648      0      1]\n",
      " [704384      0      1]\n",
      " [711296      0      1]\n",
      " [713728      0      1]\n",
      " [718336      0      1]\n",
      " [726016      0      1]\n",
      " [729344      0      1]\n",
      " [930944      0      1]]\n",
      "90\n",
      "618\n"
     ]
    }
   ],
   "source": [
    "print(len(raw_ecg_7F1))\n",
    "print(events_7F1)\n",
    "print(len(events_7F1))\n",
    "all_event_series.append(raw_ecg_7F1[0:120*128])\n",
    "for event in events_7F1[1:-1]:\n",
    "    all_event_series.append(raw_ecg_7F1[event[0]-(60*128):event[0]+(60*128)])\n",
    "all_event_series.append(raw_ecg_7F1[len(raw_ecg_7F1)-(120*128):])\n",
    "print(len(all_event_series))"
   ]
  },
  {
   "cell_type": "code",
   "execution_count": 55,
   "id": "b26805a2-c932-40a6-812e-70c06f35e4da",
   "metadata": {},
   "outputs": [
    {
     "name": "stdout",
     "output_type": "stream",
     "text": [
      "931200\n",
      "[[  1792      0      1]\n",
      " [107008      0      1]\n",
      " [116608      0      1]\n",
      " [167424      0      1]\n",
      " [179456      0      1]\n",
      " [184576      0      1]\n",
      " [190720      0      1]\n",
      " [194560      0      1]\n",
      " [198016      0      1]\n",
      " [201856      0      1]\n",
      " [210176      0      1]\n",
      " [224256      0      1]\n",
      " [230784      0      1]\n",
      " [247424      0      1]\n",
      " [258048      0      1]\n",
      " [285952      0      1]\n",
      " [299264      0      1]\n",
      " [301056      0      1]\n",
      " [304512      0      1]\n",
      " [307584      0      1]\n",
      " [312320      0      1]\n",
      " [319744      0      1]\n",
      " [322688      0      1]\n",
      " [332544      0      1]\n",
      " [341376      0      1]\n",
      " [352896      0      1]\n",
      " [354176      0      1]\n",
      " [359808      0      1]\n",
      " [363904      0      1]\n",
      " [369280      0      1]\n",
      " [372480      0      1]\n",
      " [378368      0      1]\n",
      " [381696      0      1]\n",
      " [393728      0      1]\n",
      " [401280      0      1]\n",
      " [406016      0      1]\n",
      " [413824      0      1]\n",
      " [418816      0      1]\n",
      " [419968      0      1]\n",
      " [421504      0      1]\n",
      " [427264      0      1]\n",
      " [431744      0      1]\n",
      " [433152      0      1]\n",
      " [440448      0      1]\n",
      " [442368      0      1]\n",
      " [444160      0      1]\n",
      " [445440      0      1]\n",
      " [450944      0      1]\n",
      " [453120      0      1]\n",
      " [459648      0      1]\n",
      " [461056      0      1]\n",
      " [462464      0      1]\n",
      " [463872      0      1]\n",
      " [470272      0      1]\n",
      " [473600      0      1]\n",
      " [475264      0      1]\n",
      " [477568      0      1]\n",
      " [478976      0      1]\n",
      " [480896      0      1]\n",
      " [483200      0      1]\n",
      " [484480      0      1]\n",
      " [485632      0      1]\n",
      " [491392      0      1]\n",
      " [493312      0      1]\n",
      " [499328      0      1]\n",
      " [503936      0      1]\n",
      " [505984      0      1]\n",
      " [507136      0      1]\n",
      " [507904      0      1]\n",
      " [518272      0      1]\n",
      " [519808      0      1]\n",
      " [521600      0      1]\n",
      " [525184      0      1]\n",
      " [530176      0      1]\n",
      " [531456      0      1]\n",
      " [536704      0      1]\n",
      " [539264      0      1]\n",
      " [553984      0      1]\n",
      " [561920      0      1]\n",
      " [572288      0      1]\n",
      " [584064      0      1]\n",
      " [586752      0      1]\n",
      " [593280      0      1]\n",
      " [595456      0      1]\n",
      " [595584      0      1]\n",
      " [597376      0      1]\n",
      " [600320      0      1]\n",
      " [604416      0      1]\n",
      " [605440      0      1]\n",
      " [608512      0      1]\n",
      " [613248      0      1]\n",
      " [615936      0      1]\n",
      " [618112      0      1]\n",
      " [619264      0      1]\n",
      " [621824      0      1]\n",
      " [652800      0      1]\n",
      " [666240      0      1]\n",
      " [670208      0      1]\n",
      " [672256      0      1]\n",
      " [676224      0      1]\n",
      " [679040      0      1]\n",
      " [680576      0      1]\n",
      " [681728      0      1]\n",
      " [683392      0      1]\n",
      " [684800      0      1]\n",
      " [686848      0      1]\n",
      " [688768      0      1]\n",
      " [693504      0      1]\n",
      " [695936      0      1]\n",
      " [701696      0      1]\n",
      " [707072      0      1]\n",
      " [708864      0      1]\n",
      " [710400      0      1]\n",
      " [711296      0      1]\n",
      " [713984      0      1]\n",
      " [720128      0      1]\n",
      " [723968      0      1]\n",
      " [730752      0      1]\n",
      " [733056      0      1]\n",
      " [736640      0      1]\n",
      " [741120      0      1]\n",
      " [743424      0      1]\n",
      " [745472      0      1]\n",
      " [748416      0      1]\n",
      " [749568      0      1]\n",
      " [750464      0      1]\n",
      " [751616      0      1]\n",
      " [754304      0      1]\n",
      " [758528      0      1]\n",
      " [768000      0      1]\n",
      " [770688      0      1]\n",
      " [772352      0      1]\n",
      " [779904      0      1]\n",
      " [781312      0      1]\n",
      " [787584      0      1]\n",
      " [790784      0      1]\n",
      " [795520      0      1]\n",
      " [799744      0      1]\n",
      " [802304      0      1]\n",
      " [803328      0      1]\n",
      " [804864      0      1]\n",
      " [809600      0      1]\n",
      " [810880      0      1]\n",
      " [816896      0      1]\n",
      " [818688      0      1]\n",
      " [821376      0      1]\n",
      " [822656      0      1]\n",
      " [824576      0      1]\n",
      " [827648      0      1]\n",
      " [829696      0      1]\n",
      " [835328      0      1]\n",
      " [839424      0      1]\n",
      " [841728      0      1]\n",
      " [844032      0      1]\n",
      " [849280      0      1]\n",
      " [857216      0      1]\n",
      " [863104      0      1]\n",
      " [870528      0      1]\n",
      " [875520      0      1]\n",
      " [885888      0      1]\n",
      " [891264      0      1]\n",
      " [911488      0      1]]\n",
      "162\n",
      "780\n"
     ]
    }
   ],
   "source": [
    "print(len(raw_ecg_7F2))\n",
    "print(events_7F2)\n",
    "print(len(events_7F2))\n",
    "all_event_series.append(raw_ecg_7F2[13*128:13*128+120*128])\n",
    "for event in events_7F2[1:]:\n",
    "    all_event_series.append(raw_ecg_7F2[event[0]-(60*128):event[0]+(60*128)])\n",
    "print(len(all_event_series))"
   ]
  },
  {
   "cell_type": "code",
   "execution_count": 56,
   "id": "449a0763-225d-4d10-86f5-91c6837cc1b9",
   "metadata": {},
   "outputs": [
    {
     "name": "stdout",
     "output_type": "stream",
     "text": [
      "925440\n",
      "[[   384      0      1]\n",
      " [588544      0      1]\n",
      " [666624      0      1]\n",
      " [811264      0      1]\n",
      " [923520      0      1]]\n",
      "5\n",
      "785\n"
     ]
    }
   ],
   "source": [
    "print(len(raw_ecg_8M1))\n",
    "print(events_8M1)\n",
    "print(len(events_8M1))\n",
    "all_event_series.append(raw_ecg_8M1[3*128:3*128+120*128])\n",
    "for event in events_8M1[1:-1]:\n",
    "    all_event_series.append(raw_ecg_8M1[event[0]-(60*128):event[0]+(60*128)])\n",
    "all_event_series.append(raw_ecg_8M1[len(raw_ecg_8M1)-(120*128):])\n",
    "print(len(all_event_series))"
   ]
  },
  {
   "cell_type": "code",
   "execution_count": 57,
   "id": "9b839282-c9fc-4f15-bb44-e1cbeb27f35d",
   "metadata": {},
   "outputs": [
    {
     "name": "stdout",
     "output_type": "stream",
     "text": [
      "925440\n",
      "[[  2048      0      1]\n",
      " [257536      0      1]\n",
      " [418432      0      1]\n",
      " [622080      0      1]\n",
      " [765696      0      1]\n",
      " [800768      0      1]\n",
      " [819200      0      1]\n",
      " [924416      0      1]]\n",
      "8\n",
      "793\n"
     ]
    }
   ],
   "source": [
    "print(len(raw_ecg_8M2))\n",
    "print(events_8M2)\n",
    "print(len(events_8M2))\n",
    "all_event_series.append(raw_ecg_8M2[13*128:13*128+120*128])\n",
    "for event in events_8M2[1:-1]:\n",
    "    all_event_series.append(raw_ecg_8M2[event[0]-(60*128):event[0]+(60*128)])\n",
    "all_event_series.append(raw_ecg_8M2[len(raw_ecg_8M2)-(120*128):])\n",
    "print(len(all_event_series))"
   ]
  },
  {
   "cell_type": "code",
   "execution_count": 58,
   "id": "7e9216ec-01c2-485c-8806-d76559309b3d",
   "metadata": {},
   "outputs": [
    {
     "name": "stdout",
     "output_type": "stream",
     "text": [
      "925440\n",
      "[[  1920      0      1]\n",
      " [924416      0      1]]\n",
      "2\n",
      "795\n"
     ]
    }
   ],
   "source": [
    "print(len(raw_ecg_9M1))\n",
    "print(events_9M1)\n",
    "print(len(events_9M1))\n",
    "all_event_series.append(raw_ecg_9M1[13*128:13*128+120*128])\n",
    "for event in events_9M1[1:-1]:\n",
    "    all_event_series.append(raw_ecg_9M1[event[0]-(60*128):event[0]+(60*128)])\n",
    "all_event_series.append(raw_ecg_9M1[len(raw_ecg_9M1)-(120*128):])\n",
    "print(len(all_event_series))"
   ]
  },
  {
   "cell_type": "code",
   "execution_count": 59,
   "id": "4a2c223e-1a4b-4ee8-a5c1-c75fb9778b37",
   "metadata": {},
   "outputs": [
    {
     "name": "stdout",
     "output_type": "stream",
     "text": [
      "927360\n",
      "[[  1536      0      1]\n",
      " [630912      0      1]\n",
      " [730240      0      1]\n",
      " [908416      0      1]\n",
      " [925184      0      1]]\n",
      "5\n",
      "800\n"
     ]
    }
   ],
   "source": [
    "print(len(raw_ecg_9M2))\n",
    "print(events_9M2)\n",
    "print(len(events_9M2))\n",
    "all_event_series.append(raw_ecg_9M2[7*128:7*128+120*128])\n",
    "for event in events_9M2[1:-1]:\n",
    "    all_event_series.append(raw_ecg_9M2[event[0]-(60*128):event[0]+(60*128)])\n",
    "all_event_series.append(raw_ecg_9M2[len(raw_ecg_9M2)-(120*128):])\n",
    "print(len(all_event_series))"
   ]
  },
  {
   "cell_type": "code",
   "execution_count": 60,
   "id": "6dc66438-572c-48c3-b4c3-74018f25f900",
   "metadata": {},
   "outputs": [
    {
     "name": "stdout",
     "output_type": "stream",
     "text": [
      "925440\n",
      "[[  2560      0      1]\n",
      " [434304      0      1]\n",
      " [924160      0      1]]\n",
      "3\n",
      "803\n"
     ]
    }
   ],
   "source": [
    "print(len(raw_ecg_10M1))\n",
    "print(events_10M1)\n",
    "print(len(events_10M1))\n",
    "all_event_series.append(raw_ecg_10M1[3*128:3*128+120*128])\n",
    "for event in events_10M1[1:-1]:\n",
    "    all_event_series.append(raw_ecg_10M1[event[0]-(60*128):event[0]+(60*128)])\n",
    "all_event_series.append(raw_ecg_10M1[len(raw_ecg_10M1)-(120*128):])\n",
    "print(len(all_event_series))"
   ]
  },
  {
   "cell_type": "code",
   "execution_count": 61,
   "id": "b158831f-94d5-479f-ac9a-1b33474e7c8d",
   "metadata": {},
   "outputs": [
    {
     "name": "stdout",
     "output_type": "stream",
     "text": [
      "927360\n",
      "[[   512      0      1]\n",
      " [257792      0      1]\n",
      " [355840      0      1]\n",
      " [481536      0      1]\n",
      " [557824      0      1]\n",
      " [691072      0      1]\n",
      " [865280      0      1]\n",
      " [925056      0      1]]\n",
      "8\n",
      "811\n"
     ]
    }
   ],
   "source": [
    "print(len(raw_ecg_10M2))\n",
    "print(events_10M2)\n",
    "print(len(events_10M2))\n",
    "all_event_series.append(raw_ecg_10M2[0:120*128])\n",
    "for event in events_10M2[1:-1]:\n",
    "    all_event_series.append(raw_ecg_10M2[event[0]-(60*128):event[0]+(60*128)])\n",
    "all_event_series.append(raw_ecg_10M2[len(raw_ecg_10M2)-(120*128):])\n",
    "print(len(all_event_series))"
   ]
  },
  {
   "cell_type": "markdown",
   "id": "88e37ec5-c280-48e5-a252-65f467459c94",
   "metadata": {},
   "source": [
    "# Testing How to get features #"
   ]
  },
  {
   "cell_type": "code",
   "execution_count": 62,
   "id": "e94af396-fc04-4037-8e23-4a5641163c1e",
   "metadata": {
    "tags": []
   },
   "outputs": [
    {
     "data": {
      "image/png": "[encoded data removed]",
      "text/plain": [
       "<Figure size 1000x500 with 4 Axes>"
      ]
     },
     "metadata": {},
     "output_type": "display_data"
    },
    {
     "name": "stderr",
     "output_type": "stream",
     "text": [
      "C:\\Users\\ritzb\\anaconda3\\envs\\mne\\Lib\\site-packages\\pyhrv\\utils.py:367: UserWarning: Signal duration is to short for segmentation into 300000s. Input data will be returned.\n",
      "  warnings.warn(\"Signal duration is to short for segmentation into %is. Input data will be returned.\" % duration)\n",
      "C:\\Users\\ritzb\\anaconda3\\envs\\mne\\Lib\\site-packages\\pyhrv\\time_domain.py:303: UserWarning: Signal duration too short for SDANN computation.\n",
      "  warnings.warn(\"Signal duration too short for SDANN computation.\")\n",
      "C:\\Users\\ritzb\\anaconda3\\envs\\mne\\Lib\\site-packages\\pyhrv\\time_domain.py:576: UserWarning: CAUTION: The TINN computation is currently providing incorrect results in the most cases due to a malfunction of the function. This function will be reviewed over the next updates to solve this issue\n",
      "  warnings.warn('CAUTION: The TINN computation is currently providing incorrect results in the most cases due to a '\n"
     ]
    },
    {
     "name": "stdout",
     "output_type": "stream",
     "text": [
      "ReturnTuple(nni_counter=121, nni_mean=978.176652892562, nni_min=765.625, nni_max=1296.875, hr_mean=61.87384968989552, hr_min=46.265060240963855, hr_max=78.36734693877551, hr_std=5.620221512781029, nni_diff_mean=42.057291666666664, nni_diff_min=0, nni_diff_max=140, sdnn=94.78013334519359, sdnn_index=nan, sdann=nan, rmssd=50.085376327576896, sdsd=27.312000124424586, nn50=39, pnn50=32.5, nn20=98, pnn20=81.66666666666667, nni_histogram=None, tinn_n=843.75, tinn_m=1046.875, tinn=203.125, tri_index=12.1)\n"
     ]
    }
   ],
   "source": [
    "ts, filtered, rpeaks, templates_ts, templates, heart_rate_ts, heart_rate = biosppy.signals.ecg.ecg(all_event_series[0], show=True, sampling_rate=128)\n",
    "rpeaks = rpeaks/128 * 1000\n",
    "nni = tools.nn_intervals(rpeaks)\n",
    "results = td.time_domain(nni, plot=False)\n",
    "#tools.hrv_export(results=results, path=\"D:\\Documents\\Code\\Jupyterlab\\data\\\\\", efile='resultfile', comment=None, plots=False)\n",
    "print(results)"
   ]
  },
  {
   "cell_type": "code",
   "execution_count": 63,
   "id": "9d191a52-e10d-4729-9f60-d7a576df19ce",
   "metadata": {
    "tags": []
   },
   "outputs": [],
   "source": [
    "rmssd_drowsy = []\n",
    "sdnn_drowsy = []\n",
    "mean_nn_drowsy = []\n",
    "pnn50_drowsy = []\n",
    "pnn20_drowsy = []\n",
    "sdsd_drowsy = []"
   ]
  },
  {
   "cell_type": "code",
   "execution_count": 64,
   "id": "c5605973-c1e0-45ec-bfac-dba9e8a8c5c5",
   "metadata": {},
   "outputs": [
    {
     "name": "stdout",
     "output_type": "stream",
     "text": [
      "811\n",
      "811\n",
      "811\n",
      "811\n",
      "811\n",
      "811\n"
     ]
    }
   ],
   "source": [
    "for signals in all_event_series:\n",
    "    ts, filtered, rpeaks, templates_ts, templates, heart_rate_ts, heart_rate = biosppy.signals.ecg.ecg(signals, show=False, sampling_rate=128)\n",
    "    rpeaks = rpeaks/128 * 1000\n",
    "    nni = tools.nn_intervals(rpeaks)\n",
    "    results = td.time_domain(nni, plot=False)\n",
    "    rmssd_drowsy.append(results[14])\n",
    "    sdnn_drowsy.append(results[11])\n",
    "    mean_nn_drowsy.append(results[1])\n",
    "    pnn50_drowsy.append(results[17])\n",
    "    pnn20_drowsy.append(results[19])\n",
    "    sdsd_drowsy.append(results[15])\n",
    "print(len(rmssd_drowsy))\n",
    "print(len(sdnn_drowsy))\n",
    "print(len(mean_nn_drowsy))\n",
    "print(len(pnn50_drowsy))\n",
    "print(len(pnn20_drowsy))\n",
    "print(len(sdsd_drowsy))"
   ]
  },
  {
   "cell_type": "code",
   "execution_count": null,
   "id": "3f7f14ce-2a51-49fe-a45f-5703c9be73d9",
   "metadata": {},
   "outputs": [],
   "source": []
  },
  {
   "cell_type": "markdown",
   "id": "7a6f456b-1a71-44d5-8020-3774e32adb0d",
   "metadata": {},
   "source": [
    "HRV_pNN50_Dr, HRV_pNN20_Dr, HRV_SDSD_Dr, HRV_SDNN_Dr, HRV_RMSSD_Dr, HRV_MEANNN_Dr"
   ]
  },
  {
   "cell_type": "code",
   "execution_count": null,
   "id": "170f8fff-a8f3-499b-a7cd-10f34bb52b2b",
   "metadata": {},
   "outputs": [],
   "source": []
  },
  {
   "cell_type": "code",
   "execution_count": null,
   "id": "c43f5320-5c2a-4ef8-a4cf-c7f9c562f17a",
   "metadata": {},
   "outputs": [],
   "source": []
  },
  {
   "cell_type": "code",
   "execution_count": 65,
   "id": "abdfe7d5-a8d3-48c6-8abb-8ea22704c7cc",
   "metadata": {},
   "outputs": [],
   "source": [
    "rmssd_no_drowsy = []\n",
    "sdnn_no_drowsy = []\n",
    "mean_nn_no_drowsy = []\n",
    "pnn50_no_drowsy = []\n",
    "pnn20_no_drowsy = []\n",
    "sdsd_no_drowsy = []"
   ]
  },
  {
   "cell_type": "code",
   "execution_count": 66,
   "id": "e6f4c5f3-6ae5-4ef3-93fd-f8bf8cafc0c7",
   "metadata": {
    "tags": []
   },
   "outputs": [
    {
     "name": "stdout",
     "output_type": "stream",
     "text": [
      "248\n",
      "248\n",
      "248\n",
      "248\n",
      "248\n",
      "248\n"
     ]
    }
   ],
   "source": [
    "non_drowsy_1 = pd.read_csv(\"7319612/Exp1/Exp1/Preprocessed/Physio/windows/features_window_120s_overlap_0.csv\")\n",
    "col_name = ['HRV_pNN50_Dr', 'HRV_pNN20_Dr', 'HRV_SDSD_Dr', 'HRV_SDNN_Dr', 'HRV_RMSSD_Dr', 'HRV_MeanNN_Dr']\n",
    "non_drowsy_1 = non_drowsy_1.query('period == \"Driving\"')\n",
    "non_drowsy_1 = non_drowsy_1.loc[:, non_drowsy_1.columns.isin(col_name)]\n",
    "non_drowsy_1 = non_drowsy_1.dropna(how='any')\n",
    "#print(non_drowsy_1)\n",
    "rmssd_no_drowsy.extend(non_drowsy_1['HRV_RMSSD_Dr'].tolist())\n",
    "sdnn_no_drowsy.extend(non_drowsy_1['HRV_SDNN_Dr'].tolist())\n",
    "mean_nn_no_drowsy.extend(non_drowsy_1['HRV_MeanNN_Dr'].tolist())\n",
    "pnn50_no_drowsy.extend(non_drowsy_1['HRV_pNN50_Dr'].tolist())\n",
    "pnn20_no_drowsy.extend(non_drowsy_1['HRV_pNN20_Dr'].tolist())\n",
    "sdsd_no_drowsy.extend(non_drowsy_1['HRV_SDSD_Dr'].tolist())\n",
    "print(len(rmssd_no_drowsy))\n",
    "print(len(sdnn_no_drowsy))\n",
    "print(len(mean_nn_no_drowsy))\n",
    "print(len(pnn50_no_drowsy))\n",
    "print(len(pnn20_no_drowsy))\n",
    "print(len(sdsd_no_drowsy))"
   ]
  },
  {
   "cell_type": "code",
   "execution_count": 67,
   "id": "3477b0c2-13e5-437b-b4d6-74e0f1dec9bb",
   "metadata": {
    "tags": []
   },
   "outputs": [
    {
     "name": "stdout",
     "output_type": "stream",
     "text": [
      "770\n",
      "770\n",
      "770\n",
      "770\n",
      "770\n",
      "770\n"
     ]
    }
   ],
   "source": [
    "non_drowsy_2 = pd.read_csv(\"7319612/Exp2/Exp2/Preprocessed/Physio/windows/features_window_180s_overlap_0.csv\")\n",
    "col_name = ['HRV_pNN50_Dr', 'HRV_pNN20_Dr', 'HRV_SDSD_Dr', 'HRV_SDNN_Dr', 'HRV_RMSSD_Dr', 'HRV_MeanNN_Dr']\n",
    "non_drowsy_2 = non_drowsy_2.query('period == \"Driving\"')\n",
    "non_drowsy_2 = non_drowsy_2.loc[:, non_drowsy_2.columns.isin(col_name)]\n",
    "non_drowsy_2 = non_drowsy_2.dropna(how='any')\n",
    "#print(non_drowsy_2)\n",
    "rmssd_no_drowsy.extend(non_drowsy_2['HRV_RMSSD_Dr'].tolist())\n",
    "sdnn_no_drowsy.extend(non_drowsy_2['HRV_SDNN_Dr'].tolist())\n",
    "mean_nn_no_drowsy.extend(non_drowsy_2['HRV_MeanNN_Dr'].tolist())\n",
    "pnn50_no_drowsy.extend(non_drowsy_2['HRV_pNN50_Dr'].tolist())\n",
    "pnn20_no_drowsy.extend(non_drowsy_2['HRV_pNN20_Dr'].tolist())\n",
    "sdsd_no_drowsy.extend(non_drowsy_2['HRV_SDSD_Dr'].tolist())\n",
    "print(len(rmssd_no_drowsy))\n",
    "print(len(sdnn_no_drowsy))\n",
    "print(len(mean_nn_no_drowsy))\n",
    "print(len(pnn50_no_drowsy))\n",
    "print(len(pnn20_no_drowsy))\n",
    "print(len(sdsd_no_drowsy))"
   ]
  },
  {
   "cell_type": "code",
   "execution_count": 68,
   "id": "86e5c917-c8c6-4299-883a-07309d7fd104",
   "metadata": {},
   "outputs": [
    {
     "name": "stdout",
     "output_type": "stream",
     "text": [
      "2638\n",
      "2638\n",
      "2638\n",
      "2638\n",
      "2638\n",
      "2638\n"
     ]
    }
   ],
   "source": [
    "non_drowsy_3 = pd.read_csv(\"7319612/Exp3/Exp3/Preprocessed/Physio/windows/features_window_120s_overlap_0.csv\")\n",
    "col_name = ['HRV_pNN50_Dr', 'HRV_pNN20_Dr', 'HRV_SDSD_Dr', 'HRV_SDNN_Dr', 'HRV_RMSSD_Dr', 'HRV_MeanNN_Dr']\n",
    "non_drowsy_3 = non_drowsy_3.loc[:, non_drowsy_3.columns.isin(col_name)]\n",
    "non_drowsy_3 = non_drowsy_3.dropna(how='any')\n",
    "#print(non_drowsy_2)\n",
    "rmssd_no_drowsy.extend(non_drowsy_3['HRV_RMSSD_Dr'].tolist())\n",
    "sdnn_no_drowsy.extend(non_drowsy_3['HRV_SDNN_Dr'].tolist())\n",
    "mean_nn_no_drowsy.extend(non_drowsy_3['HRV_MeanNN_Dr'].tolist())\n",
    "pnn50_no_drowsy.extend(non_drowsy_3['HRV_pNN50_Dr'].tolist())\n",
    "pnn20_no_drowsy.extend(non_drowsy_3['HRV_pNN20_Dr'].tolist())\n",
    "sdsd_no_drowsy.extend(non_drowsy_3['HRV_SDSD_Dr'].tolist())\n",
    "print(len(rmssd_no_drowsy))\n",
    "print(len(sdnn_no_drowsy))\n",
    "print(len(mean_nn_no_drowsy))\n",
    "print(len(pnn50_no_drowsy))\n",
    "print(len(pnn20_no_drowsy))\n",
    "print(len(sdsd_no_drowsy))"
   ]
  },
  {
   "cell_type": "code",
   "execution_count": 69,
   "id": "99857315-aaf3-4c4c-812d-d42626736f67",
   "metadata": {
    "tags": []
   },
   "outputs": [],
   "source": [
    "rmssd_no_drowsy = rmssd_no_drowsy[0:811]\n",
    "sdnn_no_drowsy = sdnn_no_drowsy[0:811]\n",
    "mean_nn_no_drowsy = mean_nn_no_drowsy[0:811]\n",
    "pnn50_no_drowsy = pnn50_no_drowsy[0:811]\n",
    "pnn20_no_drowsy = pnn20_no_drowsy[0:811]\n",
    "sdsd_no_drowsy = sdsd_no_drowsy[0:811]"
   ]
  },
  {
   "cell_type": "code",
   "execution_count": 70,
   "id": "90031d08-c56d-4229-9604-2b41a8070481",
   "metadata": {
    "tags": []
   },
   "outputs": [
    {
     "name": "stdout",
     "output_type": "stream",
     "text": [
      "811\n",
      "811\n",
      "811\n",
      "811\n",
      "811\n",
      "811\n",
      "811\n",
      "811\n",
      "811\n",
      "811\n",
      "811\n",
      "811\n"
     ]
    }
   ],
   "source": [
    "print(len(rmssd_drowsy))\n",
    "print(len(sdnn_drowsy))\n",
    "print(len(mean_nn_drowsy))\n",
    "print(len(pnn50_drowsy))\n",
    "print(len(pnn20_drowsy))\n",
    "print(len(sdsd_drowsy))\n",
    "print(len(rmssd_no_drowsy))\n",
    "print(len(sdnn_no_drowsy))\n",
    "print(len(mean_nn_no_drowsy))\n",
    "print(len(pnn50_no_drowsy))\n",
    "print(len(pnn20_no_drowsy))\n",
    "print(len(sdsd_no_drowsy))\n"
   ]
  },
  {
   "cell_type": "code",
   "execution_count": 71,
   "id": "8506b342-b60d-48c4-b90b-1cba61ef657a",
   "metadata": {
    "tags": []
   },
   "outputs": [],
   "source": [
    "extracted_model_csv = open('extracted_drowsy_data.csv', 'w')\n",
    "writer = csv.writer(extracted_model_csv)\n",
    "writer.writerow(('rmssd_drowsy','sdnn_drowsy','mean_nn_drowsy','pnn50_drowsy','pnn20_drowsy','sdsd_drowsy','rmssd_no_drowsy',\n",
    "                 'sdnn_no_drowsy','mean_nn_no_drowsy', 'pnn50_no_drowsy', 'pnn20_no_drowsy', 'sdsd_no_drowsy'))\n",
    "for i in range(0,811):\n",
    "    writer.writerow((rmssd_drowsy[i], sdnn_drowsy[i], mean_nn_drowsy[i], pnn50_drowsy[i], pnn20_drowsy[i], sdsd_drowsy[i], rmssd_no_drowsy[i],\n",
    "                    sdnn_no_drowsy[i], mean_nn_no_drowsy[i], pnn50_no_drowsy[i], pnn20_no_drowsy[i], sdsd_no_drowsy[i]))\n",
    "extracted_model_csv.close()"
   ]
  },
  {
   "cell_type": "code",
   "execution_count": 77,
   "id": "d0d5bbcc-6ba3-4168-8716-cd867dfa0827",
   "metadata": {
    "tags": []
   },
   "outputs": [
    {
     "name": "stdout",
     "output_type": "stream",
     "text": [
      "[[ 57.06248055  32.31108933 768.68387097 ...  43.22580645  32.41518351\n",
      "    0.        ]\n",
      " [ 39.97201996  27.31225841 796.96644295 ...  44.29530201  27.40403034\n",
      "    0.        ]\n",
      " [ 33.91508436  27.95477397 800.74324324 ...  50.          28.05018334\n",
      "    0.        ]\n",
      " ...\n",
      " [ 51.50212254  35.86642844 816.05603448 ...  59.02777778  22.15489114\n",
      "    1.        ]\n",
      " [ 50.30962425  31.22377255 791.09375    ...  52.34899329  18.9646204\n",
      "    1.        ]\n",
      " [ 68.34178194  38.30134299 834.24388112 ...  52.81690141  27.57419293\n",
      "    1.        ]]\n"
     ]
    }
   ],
   "source": [
    "#combined data\n",
    "combined_rmssd = rmssd_no_drowsy + rmssd_drowsy\n",
    "combined_sdnn = sdnn_no_drowsy + sdnn_drowsy\n",
    "combined_mean_nn = mean_nn_no_drowsy + mean_nn_drowsy\n",
    "combined_pnn50 = pnn50_no_drowsy + pnn50_drowsy\n",
    "combined_pnn20 = pnn20_no_drowsy + pnn20_drowsy\n",
    "combined_sdsd  = sdsd_no_drowsy + sdsd_drowsy\n",
    "# Create Y (label) array\n",
    "zeros = list(np.zeros((811,), dtype=int))\n",
    "ones = list(np.ones((811,), dtype=int))\n",
    "labels = zeros + ones\n",
    "\n",
    "data = np.column_stack((combined_sdnn, combined_rmssd, combined_mean_nn, combined_pnn50, combined_pnn20, combined_sdsd, labels))\n",
    "#SDSD has large negative importance\n",
    "#data = np.column_stack((combined_sdnn, combined_rmssd, combined_mean_nn, combined_pnn50, combined_pnn20, labels))\n",
    "print(data)"
   ]
  },
  {
   "cell_type": "code",
   "execution_count": 78,
   "id": "6604fd80-2714-445d-8ac4-ca74653e0533",
   "metadata": {},
   "outputs": [],
   "source": [
    "final_df = pd.DataFrame(data)\n",
    "final_df.to_csv('extracted_drowsy_data.csv')"
   ]
  },
  {
   "cell_type": "markdown",
   "id": "4daabf7c-4534-4581-bdc2-020109d99d9a",
   "metadata": {},
   "source": [
    "# Data Visualization #"
   ]
  },
  {
   "cell_type": "code",
   "execution_count": 79,
   "id": "4922d7aa-a9ef-4815-9586-8e538ed0420d",
   "metadata": {},
   "outputs": [
    {
     "name": "stdout",
     "output_type": "stream",
     "text": [
      "\n"
     ]
    },
    {
     "data": {
      "image/png": "[encoded data removed]",
      "text/plain": [
       "<Figure size 3000x3000 with 12 Axes>"
      ]
     },
     "metadata": {},
     "output_type": "display_data"
    }
   ],
   "source": [
    "fig, ax = plt.subplots(6,2, figsize=(30,30))\n",
    "#SDNN\n",
    "ax[0,0].hist(sdnn_drowsy)\n",
    "ax[0,0].set_xlabel(\"SDNN Value\")\n",
    "ax[0,0].set_ylabel(\"Frequency\")\n",
    "ax[0,0].set_title(\"SDNN drowsy\")\n",
    "\n",
    "ax[0,1].hist(sdnn_no_drowsy)\n",
    "ax[0,1].set_xlabel(\"SDNN Value\")\n",
    "ax[0,1].set_ylabel(\"Frequency\")\n",
    "ax[0,1].set_title(\"SDNN no drowsy\")\n",
    "\n",
    "#RMSSD\n",
    "ax[1,0].hist(rmssd_drowsy)\n",
    "ax[1,0].set_xlabel(\"RMSSD Value\")\n",
    "ax[1,0].set_ylabel(\"Frequency\")\n",
    "ax[1,0].set_title(\"RMSDD Drowsy\")\n",
    "\n",
    "ax[1,1].hist(rmssd_no_drowsy)\n",
    "ax[1,1].set_xlabel(\"RMSSD Value\")\n",
    "ax[1,1].set_ylabel(\"Frequency\")\n",
    "ax[1,1].set_title(\"RMSDD No Drowsy\")\n",
    "\n",
    "#mean nn\n",
    "ax[2,0].hist(mean_nn_drowsy)\n",
    "ax[2,0].set_xlabel(\"Mean NN Value\")\n",
    "ax[2,0].set_ylabel(\"Frequency\")\n",
    "ax[2,0].set_title(\"Mean NN Drowsy\")\n",
    "\n",
    "ax[2,1].hist(mean_nn_no_drowsy)\n",
    "ax[2,1].set_xlabel(\"Mean NN Value\")\n",
    "ax[2,1].set_ylabel(\"Frequency\")\n",
    "ax[2,1].set_title(\"Mean NN No Drowsy\")\n",
    "\n",
    "#PNN50\n",
    "ax[3,0].hist(pnn50_drowsy)\n",
    "ax[3,0].set_xlabel(\"pNN50 Value\")\n",
    "ax[3,0].set_ylabel(\"Frequency\")\n",
    "ax[3,0].set_title(\"pNN50 Drowsy\")\n",
    "\n",
    "ax[3,1].hist(pnn50_no_drowsy)\n",
    "ax[3,1].set_xlabel(\"pNN50 Value\")\n",
    "ax[3,1].set_ylabel(\"Frequency\")\n",
    "ax[3,1].set_title(\"pNN50 No Drowsy\")\n",
    "\n",
    "#PNN20\n",
    "ax[4,0].hist(pnn20_drowsy)\n",
    "ax[4,0].set_xlabel(\"pNN20 Value\")\n",
    "ax[4,0].set_ylabel(\"Frequency\")\n",
    "ax[4,0].set_title(\"pNN20 Drowsy\")\n",
    "\n",
    "ax[4,1].hist(pnn20_no_drowsy)\n",
    "ax[4,1].set_xlabel(\"pNN20 Value\")\n",
    "ax[4,1].set_ylabel(\"Frequency\")\n",
    "ax[4,1].set_title(\"pNN20 No Stress\")\n",
    "\n",
    "#SDSD\n",
    "ax[5,0].hist(sdsd_drowsy)\n",
    "ax[5,0].set_xlabel(\"SDSD Value\")\n",
    "ax[5,0].set_ylabel(\"Frequency\")\n",
    "ax[5,0].set_title(\"SDSD drowsy\")\n",
    "\n",
    "ax[5,1].hist(sdsd_no_drowsy)\n",
    "ax[5,1].set_xlabel(\"SDSD Value\")\n",
    "ax[5,1].set_ylabel(\"Frequency\")\n",
    "ax[5,1].set_title(\"SDSD no drowsy\")\n",
    "print()"
   ]
  },
  {
   "cell_type": "markdown",
   "id": "e16afa83-1dfc-4258-863a-6608a6fdbb0c",
   "metadata": {},
   "source": [
    "# Training Models on HRV features #"
   ]
  },
  {
   "cell_type": "markdown",
   "id": "88798c6d-f387-4a2b-b2f7-7de8387c8eea",
   "metadata": {},
   "source": [
    "## NN ##"
   ]
  },
  {
   "cell_type": "code",
   "execution_count": 98,
   "id": "6f1a7791-e96d-4815-9ee9-9c4afd869b4f",
   "metadata": {},
   "outputs": [
    {
     "name": "stdout",
     "output_type": "stream",
     "text": [
      "[[0.01736564 0.00858793 0.12567649 0.03316674 0.42937013]\n",
      " [0.01053734 0.00682038 0.13991347 0.04140278 0.44034971]\n",
      " [0.00811736 0.00704757 0.14181465 0.06252379 0.49891491]\n",
      " ...\n",
      " [0.01514406 0.00984507 0.14952285 0.15708138 0.59159528]\n",
      " [0.01466761 0.00820346 0.13695725 0.1311088  0.52302998]\n",
      " [0.02187216 0.01070604 0.15867831 0.12309066 0.52783359]]\n",
      "406\n"
     ]
    }
   ],
   "source": [
    "data = np.column_stack((combined_sdnn, combined_rmssd, combined_mean_nn, combined_pnn50, combined_pnn20, combined_sdsd, labels))\n",
    "x = final_df.values #returns a numpy array\n",
    "min_max_scaler = preprocessing.MinMaxScaler()\n",
    "x_scaled = min_max_scaler.fit_transform(x)\n",
    "data = x_scaled\n",
    "print(data[:,:5])\n",
    "X, y = data[:,:5], data[:,-1]\n",
    "X_tr, X_val, y_tr, y_val = train_test_split(X, y, test_size=0.25, random_state=seed, shuffle=True)\n",
    "print(len(X_val))"
   ]
  },
  {
   "cell_type": "code",
   "execution_count": 99,
   "id": "6d4276bd-6599-4928-9192-bce4db3cfc3b",
   "metadata": {},
   "outputs": [
    {
     "name": "stdout",
     "output_type": "stream",
     "text": [
      "Training Error:  0.45394736842105265\n",
      "Validation Error:  0.4729064039408867\n",
      "Training Accuracy:  0.5460526315789473\n",
      "Validation Accuracy:  0.5270935960591133\n"
     ]
    }
   ],
   "source": [
    "# Create and train classifier\n",
    "mlp_classifier = MLPClassifier(hidden_layer_sizes = (150,200,30), activation='relu', solver='adam', learning_rate='constant', learning_rate_init=0.1, batch_size=50, max_iter=1000)\n",
    "mlp_classifier.fit(X_tr, y_tr)\n",
    "\n",
    "# Compute the training and test error rates\n",
    "y_tr_pred = mlp_classifier.predict(X_tr)\n",
    "tr_accuracy = accuracy_score(y_tr, y_tr_pred)\n",
    "tr_error = 1 - (tr_accuracy)\n",
    "\n",
    "y_val_pred = mlp_classifier.predict(X_val)\n",
    "val_accuracy = accuracy_score(y_val, y_val_pred)\n",
    "val_error = 1 - (val_accuracy)\n",
    "\n",
    "print(\"Training Error: \", tr_error)\n",
    "print(\"Validation Error: \", val_error)\n",
    "\n",
    "print(\"Training Accuracy: \", tr_accuracy)\n",
    "print(\"Validation Accuracy: \", val_accuracy)\n",
    "\n",
    "# Confidence Score\n",
    "conf = mlp_classifier.predict_proba(X_val)\n",
    "#print(conf)\n",
    "#print(mlp_classifier.classes_)"
   ]
  },
  {
   "cell_type": "markdown",
   "id": "84ff78dd-0d66-494a-83c1-549000db15fd",
   "metadata": {},
   "source": [
    "## varying Learning rate ##"
   ]
  },
  {
   "cell_type": "code",
   "execution_count": 107,
   "id": "eaf65555-da68-4eb2-88d8-6fd61f4baf1b",
   "metadata": {},
   "outputs": [
    {
     "name": "stdout",
     "output_type": "stream",
     "text": [
      "Training Error:  0.21628289473684215\n",
      "Validation Error:  0.24876847290640391\n",
      "Training Accuracy:  0.7837171052631579\n",
      "Validation Accuracy:  0.7512315270935961\n",
      "Training Error:  0.14555921052631582\n",
      "Validation Error:  0.2142857142857143\n",
      "Training Accuracy:  0.8544407894736842\n",
      "Validation Accuracy:  0.7857142857142857\n",
      "Training Error:  0.14638157894736847\n",
      "Validation Error:  0.18965517241379315\n",
      "Training Accuracy:  0.8536184210526315\n",
      "Validation Accuracy:  0.8103448275862069\n",
      "Training Error:  0.45065789473684215\n",
      "Validation Error:  0.4704433497536946\n",
      "Training Accuracy:  0.5493421052631579\n",
      "Validation Accuracy:  0.5295566502463054\n",
      "Training Error:  0.5049342105263157\n",
      "Validation Error:  0.4852216748768473\n",
      "Training Accuracy:  0.49506578947368424\n",
      "Validation Accuracy:  0.5147783251231527\n",
      "Training Error:  0.4950657894736842\n",
      "Validation Error:  0.5147783251231527\n",
      "Training Accuracy:  0.5049342105263158\n",
      "Validation Accuracy:  0.4852216748768473\n",
      "Training Error:  0.4950657894736842\n",
      "Validation Error:  0.5147783251231527\n",
      "Training Accuracy:  0.5049342105263158\n",
      "Validation Accuracy:  0.4852216748768473\n",
      "Training Error:  0.5049342105263157\n",
      "Validation Error:  0.4852216748768473\n",
      "Training Accuracy:  0.49506578947368424\n",
      "Validation Accuracy:  0.5147783251231527\n"
     ]
    },
    {
     "data": {
      "text/plain": [
       "<matplotlib.legend.Legend at 0x1a2d1b63510>"
      ]
     },
     "execution_count": 107,
     "metadata": {},
     "output_type": "execute_result"
    },
    {
     "data": {
      "image/png": "[encoded data removed]",
      "text/plain": [
       "<Figure size 640x480 with 1 Axes>"
      ]
     },
     "metadata": {},
     "output_type": "display_data"
    }
   ],
   "source": [
    "learning_results_tr = []\n",
    "learning_results_val = []\n",
    "learning = [0.0001, 0.001, 0.01, 0.05, 0.1, 0.2, 0.25, 0.3]\n",
    "for i in learning:\n",
    "    mlp_classifier = MLPClassifier(hidden_layer_sizes = (150,200,30), activation='relu', solver='adam', learning_rate='constant', learning_rate_init=i, batch_size=50, max_iter=1000)\n",
    "    mlp_classifier.fit(X_tr, y_tr)\n",
    "    \n",
    "    # Compute the training and test error rates\n",
    "    y_tr_pred = mlp_classifier.predict(X_tr)\n",
    "    tr_accuracy = accuracy_score(y_tr, y_tr_pred)\n",
    "    tr_error = 1 - (tr_accuracy)\n",
    "    learning_results_tr.append(tr_error)\n",
    "    y_val_pred = mlp_classifier.predict(X_val)\n",
    "    val_accuracy = accuracy_score(y_val, y_val_pred)\n",
    "    val_error = 1 - (val_accuracy)\n",
    "    learning_results_val.append(val_error)\n",
    "    print(\"Training Error: \", tr_error)\n",
    "    print(\"Validation Error: \", val_error)\n",
    "    \n",
    "    print(\"Training Accuracy: \", tr_accuracy)\n",
    "    print(\"Validation Accuracy: \", val_accuracy)\n",
    "    \n",
    "    # Confidence Score\n",
    "    conf = mlp_classifier.predict_proba(X_val)\n",
    "# Plot the resulting performance as a function of C\n",
    "plt.semilogx(learning, learning_results_tr, label='tr_error')\n",
    "plt.semilogx(learning, learning_results_val, label='val_error')\n",
    "\n",
    "plt.title(\"Learning rate vs. Error\")\n",
    "plt.xlabel('Learning Rate')\n",
    "plt.ylabel('Error')\n",
    "plt.legend()"
   ]
  },
  {
   "cell_type": "code",
   "execution_count": 122,
   "id": "8b753a1a-7354-4952-8f63-50378f1e3bfa",
   "metadata": {},
   "outputs": [
    {
     "name": "stdout",
     "output_type": "stream",
     "text": [
      "Training Error:  0.17434210526315785\n",
      "Validation Error:  0.18472906403940892\n",
      "Training Accuracy:  0.8256578947368421\n",
      "Validation Accuracy:  0.8152709359605911\n"
     ]
    }
   ],
   "source": [
    "\n",
    "mlp_classifier = MLPClassifier(hidden_layer_sizes = (300,200,100), activation='relu', solver='adam', learning_rate='constant', learning_rate_init=0.01, batch_size=50, max_iter=1000)\n",
    "mlp_classifier.fit(X_tr, y_tr)\n",
    "\n",
    "# Compute the training and test error rates\n",
    "y_tr_pred = mlp_classifier.predict(X_tr)\n",
    "tr_accuracy = accuracy_score(y_tr, y_tr_pred)\n",
    "tr_error = 1 - (tr_accuracy)\n",
    "learning_results_tr.append(tr_error)\n",
    "y_val_pred = mlp_classifier.predict(X_val)\n",
    "val_accuracy = accuracy_score(y_val, y_val_pred)\n",
    "val_error = 1 - (val_accuracy)\n",
    "learning_results_val.append(val_error)\n",
    "print(\"Training Error: \", tr_error)\n",
    "print(\"Validation Error: \", val_error)\n",
    "\n",
    "print(\"Training Accuracy: \", tr_accuracy)\n",
    "print(\"Validation Accuracy: \", val_accuracy)\n",
    "\n",
    "# Confidence Score\n",
    "conf = mlp_classifier.predict_proba(X_val)"
   ]
  },
  {
   "cell_type": "markdown",
   "id": "694f6473-4d79-4c33-ac18-0cdcef7f4937",
   "metadata": {},
   "source": [
    "### Feature importance ###"
   ]
  },
  {
   "cell_type": "code",
   "execution_count": 126,
   "id": "0c38d50e-3f49-41f7-86da-939c8a575a47",
   "metadata": {},
   "outputs": [
    {
     "name": "stdout",
     "output_type": "stream",
     "text": [
      "Feature: SDNN, Score: 0.07730\n",
      "Feature: RMSSD, Score: 0.03651\n",
      "Feature: Mean NN, Score: 0.29457\n",
      "Feature: pNN50, Score: 0.17155\n",
      "Feature: pNN20, Score: 0.15609\n"
     ]
    },
    {
     "data": {
      "image/png": "[encoded data removed]",
      "text/plain": [
       "<Figure size 640x480 with 1 Axes>"
      ]
     },
     "metadata": {},
     "output_type": "display_data"
    }
   ],
   "source": [
    "# Perform permutation importance\n",
    "results = permutation_importance(mlp_classifier, X_tr, y_tr, scoring='accuracy')\n",
    "\n",
    "# Get Importance\n",
    "importance = results.importances_mean\n",
    "\n",
    "bar_labels = ['SDNN', 'RMSSD', 'Mean NN', 'pNN50', 'pNN20']\n",
    "# Summarize feature importance\n",
    "for i,v in enumerate(importance):\n",
    "    print(\"Feature: %s, Score: %.5f\" % (bar_labels[i],v))\n",
    "    \n",
    "# Plot feature importance\n",
    "\n",
    "bar_colors = ['steelblue', 'crimson', 'seagreen', 'indigo', 'yellow', 'pink']\n",
    "plt.bar(bar_labels, importance, label=bar_labels, color=bar_colors)\n",
    "plt.ylabel('Importance')\n",
    "plt.title('MLP Feature Importance')\n",
    "plt.legend()\n",
    "plt.show()"
   ]
  },
  {
   "cell_type": "markdown",
   "id": "1fa1d572-078a-4072-9b3c-62bb337d4587",
   "metadata": {},
   "source": [
    "### Confusion Matrix ###"
   ]
  },
  {
   "cell_type": "code",
   "execution_count": 130,
   "id": "de3b6842-9ea5-4161-983f-4a49b41a72b0",
   "metadata": {},
   "outputs": [
    {
     "name": "stdout",
     "output_type": "stream",
     "text": [
      "F1 Score:  0.8120300751879699\n"
     ]
    },
    {
     "data": {
      "image/png": "[encoded data removed]",
      "text/plain": [
       "<Figure size 640x480 with 2 Axes>"
      ]
     },
     "metadata": {},
     "output_type": "display_data"
    }
   ],
   "source": [
    "ConfusionMatrixDisplay.from_estimator(mlp_classifier, X_val, y_val, display_labels=['No Drowsy', 'Drowsy'])\n",
    "print(\"F1 Score: \", f1_score(y_val, y_val_pred))"
   ]
  },
  {
   "cell_type": "markdown",
   "id": "13fb6a03-cf4a-486a-8ee7-8cee27d80cf4",
   "metadata": {},
   "source": [
    "## Logistic Regression ##"
   ]
  },
  {
   "cell_type": "code",
   "execution_count": null,
   "id": "2a17729a-660a-4522-b331-91523850c025",
   "metadata": {},
   "outputs": [],
   "source": [
    "# Initialize the model\n",
    "lr = LogisticRegression()\n",
    "\n",
    "# Fit the model to the training set\n",
    "lr.fit(X_tr, y_tr)\n",
    "\n",
    "# Compute the training and test errors\n",
    "y_tr_pred = lr.predict(X_tr)\n",
    "train_error = 1 - (accuracy_score(y_tr, y_tr_pred))\n",
    "train_error = 1 - (accuracy_score(y_tr, y_tr_pred))\n",
    "\n",
    "y_val_pred = lr.predict(X_val)\n",
    "val_error = 1 - (accuracy_score(y_val, y_val_pred))\n",
    "\n",
    "print(\"Training Error: \", train_error)\n",
    "print(\"Testing Error: \", val_error)"
   ]
  },
  {
   "cell_type": "markdown",
   "id": "05cabf31-4c21-4960-90ce-bac426b9d43e",
   "metadata": {},
   "source": [
    "### Inverse Regularization ###"
   ]
  },
  {
   "cell_type": "code",
   "execution_count": null,
   "id": "c1c771eb-0a59-4985-a158-9544fa69d0bf",
   "metadata": {},
   "outputs": [],
   "source": [
    "C_vals = [.0001,.001,.01,.1,1.,2.]\n",
    "training_error = []\n",
    "val_error = []\n",
    "\n",
    "for c in C_vals:\n",
    "    # Train a logistic regression model with each inverse regularization C\n",
    "    lr_reg = LogisticRegression(C=c, solver='liblinear')\n",
    "    lr_reg.fit(X_tr, y_tr)\n",
    "    \n",
    "    # Compute the training and test error rates\n",
    "    y_tr_pred = lr_reg.predict(X_tr)\n",
    "    y_tr_error = 1 - (accuracy_score(y_tr, y_tr_pred))\n",
    "    training_error.append(y_tr_error)\n",
    "\n",
    "    y_val_pred = lr_reg.predict(X_val)\n",
    "    y_val_error = 1 - (accuracy_score(y_val, y_val_pred))\n",
    "    val_error.append(y_val_error)\n",
    "    \n",
    "# Plot the resulting performance as a function of C\n",
    "plt.semilogx(C_vals, training_error, label='tr_error')\n",
    "plt.semilogx(C_vals, val_error, label='val_error')\n",
    "\n",
    "plt.title(\"Inverse Regularization vs. Error\")\n",
    "plt.xlabel('Inverse Regularization')\n",
    "plt.ylabel('Error')\n",
    "plt.legend()"
   ]
  },
  {
   "cell_type": "code",
   "execution_count": null,
   "id": "b4a44f00-834c-4fa3-b6c2-ccdc22ef61bd",
   "metadata": {},
   "outputs": [],
   "source": [
    "# Cross Validation\n",
    "scores = cross_val_score(lr, X, y, cv=5)\n",
    "print(\"%0.2f accuracy with a standard deviation of %0.2f\" % (scores.mean(), scores.std()))"
   ]
  },
  {
   "cell_type": "code",
   "execution_count": null,
   "id": "fdd64bc1-b220-410f-9486-cb527e4c0f7b",
   "metadata": {},
   "outputs": [],
   "source": [
    "# Get Importance\n",
    "importance = lr.coef_[0]\n",
    "print(lr.coef_)\n",
    "bar_labels = ['SDNN', 'RMSSD', 'Mean NN', 'pNN50', 'pNN20']\n",
    "# Summarize feature importance\n",
    "for i,v in enumerate(importance):\n",
    "    print(\"Feature: %s, Score: %.5f\" % (bar_labels[i],v))\n",
    "    \n",
    "# Plot feature importance\n",
    "\n",
    "bar_colors = ['steelblue', 'crimson', 'seagreen', 'indigo', 'yellow']\n",
    "plt.bar(bar_labels, importance, label=bar_labels, color=bar_colors)\n",
    "plt.ylabel('Importance')\n",
    "plt.title('Logistic Regression Feature Importance')\n",
    "plt.legend()\n",
    "plt.show()"
   ]
  },
  {
   "cell_type": "code",
   "execution_count": null,
   "id": "dbf76f41-685b-45d6-8130-018f20142621",
   "metadata": {},
   "outputs": [],
   "source": [
    "ConfusionMatrixDisplay.from_estimator(lr, X_val, y_val, display_labels=['No Drowsy', 'Drowsy'])"
   ]
  },
  {
   "cell_type": "markdown",
   "id": "5f5e6c9f-49dd-4f20-827b-d3c380456d4d",
   "metadata": {},
   "source": [
    "# Naive Bayes #"
   ]
  },
  {
   "cell_type": "code",
   "execution_count": null,
   "id": "56c9adfc-91fe-4299-ba44-1f1ffc6ce3e8",
   "metadata": {},
   "outputs": [],
   "source": [
    "# Initialize the model\n",
    "nb = GaussianNB()\n",
    "\n",
    "# Fit the model to the training set\n",
    "nb.fit(X_tr, y_tr)\n",
    "\n",
    "# Compute the training and test errors\n",
    "y_tr_pred = nb.predict(X_tr)\n",
    "train_error = 1 - (accuracy_score(y_tr, y_tr_pred))\n",
    "train_error = 1 - (accuracy_score(y_tr, y_tr_pred))\n",
    "\n",
    "y_val_pred = lr.predict(X_val)\n",
    "val_error = 1 - (accuracy_score(y_val, y_val_pred))\n",
    "\n",
    "print(\"Training Error: \", train_error)\n",
    "print(\"Testing Error: \", val_error)"
   ]
  },
  {
   "cell_type": "code",
   "execution_count": null,
   "id": "9ad2ccfa-f278-4dc3-a5f4-fed51a8b536d",
   "metadata": {},
   "outputs": [],
   "source": [
    "# Get Importance\n",
    "# Perform permutation importance\n",
    "results = permutation_importance(nb, X_tr, y_tr, scoring='accuracy')\n",
    "\n",
    "# Get Importance\n",
    "importance = results.importances_mean\n",
    "bar_labels = ['SDNN', 'RMSSD', 'Mean NN', 'pNN50', 'pNN20']#, 'SDSD']\n",
    "# Summarize feature importance\n",
    "for i,v in enumerate(importance):\n",
    "    print(\"Feature: %s, Score: %.5f\" % (bar_labels[i],v))\n",
    "    \n",
    "# Plot feature importance\n",
    "\n",
    "bar_colors = ['steelblue', 'crimson', 'seagreen', 'indigo', 'yellow']#, 'pink']\n",
    "plt.bar(bar_labels, importance, label=bar_labels, color=bar_colors)\n",
    "plt.ylabel('Importance')\n",
    "plt.title('Logistic Regression Feature Importance')\n",
    "plt.legend()\n",
    "plt.show()"
   ]
  },
  {
   "cell_type": "code",
   "execution_count": null,
   "id": "ae698b0f-dc2e-43b0-8aef-bdb7d7749b61",
   "metadata": {},
   "outputs": [],
   "source": [
    "ConfusionMatrixDisplay.from_estimator(nb, X_val, y_val, display_labels=['No Drowsy', 'Drowsy'])"
   ]
  },
  {
   "cell_type": "markdown",
   "id": "d2e9c45d-b9df-45db-ba5b-95262d9ec930",
   "metadata": {},
   "source": [
    "# K nearest Neighbors #"
   ]
  },
  {
   "cell_type": "code",
   "execution_count": null,
   "id": "2b60c82a-6c27-4e4b-885c-5bbb36f448eb",
   "metadata": {},
   "outputs": [],
   "source": [
    "# Initialize the model\n",
    "knc = KNeighborsClassifier(n_neighbors=6)\n",
    "\n",
    "# Fit the model to the training set\n",
    "knc.fit(X_tr, y_tr)\n",
    "\n",
    "# Compute the training and test errors\n",
    "y_tr_pred = knc.predict(X_tr)\n",
    "train_error = 1 - (accuracy_score(y_tr, y_tr_pred))\n",
    "train_error = 1 - (accuracy_score(y_tr, y_tr_pred))\n",
    "\n",
    "y_val_pred = lr.predict(X_val)\n",
    "val_error = 1 - (accuracy_score(y_val, y_val_pred))\n",
    "\n",
    "print(\"Training Error: \", train_error)\n",
    "print(\"Testing Error: \", val_error)"
   ]
  },
  {
   "cell_type": "code",
   "execution_count": null,
   "id": "98cd6cbd-b9e4-44da-b2f1-e4d2eacc8035",
   "metadata": {},
   "outputs": [],
   "source": [
    "num_neighbors = [2, 3, 4, 5, 6, 7, 8, 9]\n",
    "training_error = []\n",
    "val_error = []\n",
    "\n",
    "for n in num_neighbors:\n",
    "    # Train a logistic regression model with each inverse regularization C\n",
    "    knc_neighbors = KNeighborsClassifier(n_neighbors=n)\n",
    "    knc_neighbors.fit(X_tr, y_tr)\n",
    "    \n",
    "    # Compute the training and test error rates\n",
    "    y_tr_pred = knc_neighbors.predict(X_tr)\n",
    "    y_tr_error = 1 - (accuracy_score(y_tr, y_tr_pred))\n",
    "    training_error.append(y_tr_error)\n",
    "\n",
    "    y_val_pred = knc_neighbors.predict(X_val)\n",
    "    y_val_error = 1 - (accuracy_score(y_val, y_val_pred))\n",
    "    val_error.append(y_val_error)\n",
    "    \n",
    "# Plot the resulting performance as a function of C\n",
    "plt.semilogx(num_neighbors, training_error, label='tr_error')\n",
    "plt.semilogx(num_neighbors, val_error, label='val_error')\n",
    "\n",
    "plt.title(\"Num Neighbors vs. Error\")\n",
    "plt.xlabel('Num Neighbors Val')\n",
    "plt.ylabel('Error')\n",
    "plt.legend()\n",
    "\n",
    "plt.show()\n",
    "print(training_error)\n",
    "print(val_error)"
   ]
  },
  {
   "cell_type": "code",
   "execution_count": null,
   "id": "f2123454-13ee-45ec-9ea6-bcb23c6d093d",
   "metadata": {},
   "outputs": [],
   "source": [
    "knc = KNeighborsClassifier(n_neighbors=6)\n",
    "knc.fit(X_tr, y_tr)\n",
    "\n",
    "# Perform permutation importance\n",
    "results = permutation_importance(knc, X_tr, y_tr, scoring='accuracy')\n",
    "\n",
    "# Get Importance\n",
    "importance = results.importances_mean\n",
    "bar_labels = ['SDNN', 'RMSSD', 'Mean NN', 'pNN50', 'pNN20', 'SDSD']\n",
    "# Summarize feature importance\n",
    "for i,v in enumerate(importance):\n",
    "    print(\"Feature: %s, Score: %.5f\" % (bar_labels[i],v))\n",
    "    \n",
    "# Plot feature importance\n",
    "\n",
    "bar_colors = ['steelblue', 'crimson', 'seagreen', 'indigo', 'yellow', 'pink']\n",
    "plt.bar(bar_labels, importance, label=bar_labels, color=bar_colors)\n",
    "plt.ylabel('Importance')\n",
    "plt.title('Logistic Regression Feature Importance')\n",
    "plt.legend()\n",
    "plt.show()"
   ]
  },
  {
   "cell_type": "code",
   "execution_count": null,
   "id": "806939b3-8c49-40e7-9cc1-19c683cfac8f",
   "metadata": {},
   "outputs": [],
   "source": [
    "# Confidence Score\n",
    "conf = knc.predict_proba(X_val)\n",
    "#print(conf)\n",
    "print(knc.classes_)\n",
    "ConfusionMatrixDisplay.from_estimator(knc, X_val, y_val, display_labels=['No Drowsy', 'Drowsy'])"
   ]
  },
  {
   "cell_type": "markdown",
   "id": "719c110f-80e7-40e2-9180-02a891d6c19b",
   "metadata": {},
   "source": [
    "# Decision Tree #"
   ]
  },
  {
   "cell_type": "code",
   "execution_count": null,
   "id": "b4ab4d7c-86b0-43a5-928b-c2f0a180b663",
   "metadata": {},
   "outputs": [],
   "source": [
    "# Initialize the model\n",
    "dt = DecisionTreeClassifier()\n",
    "\n",
    "# Fit the model to the training set\n",
    "dt.fit(X_tr, y_tr)\n",
    "\n",
    "# Compute the training and test errors\n",
    "y_tr_pred = dt.predict(X_tr)\n",
    "train_error = 1 - (accuracy_score(y_tr, y_tr_pred))\n",
    "train_error = 1 - (accuracy_score(y_tr, y_tr_pred))\n",
    "\n",
    "y_val_pred = dt.predict(X_val)\n",
    "val_error = 1 - (accuracy_score(y_val, y_val_pred))\n",
    "\n",
    "print(\"Training Error: \", train_error)\n",
    "print(\"Testing Error: \", val_error)"
   ]
  },
  {
   "cell_type": "code",
   "execution_count": null,
   "id": "5e389e47-538d-4531-b20a-ea6c79a562d7",
   "metadata": {},
   "outputs": [],
   "source": [
    "\n",
    "\n",
    "max_depth = [5, 10, 30, 50, 70, 100]\n",
    "training_error = []\n",
    "val_error = []\n",
    "\n",
    "for d in max_depth:\n",
    "    # Train a logistic regression model with each inverse regularization C\n",
    "    dt_depth = DecisionTreeClassifier(max_depth=d)\n",
    "    dt_depth.fit(X_tr, y_tr)\n",
    "    \n",
    "    # Compute the training and test error rates\n",
    "    y_tr_pred = dt_depth.predict(X_tr)\n",
    "    y_tr_error = 1 - (accuracy_score(y_tr, y_tr_pred))\n",
    "    training_error.append(y_tr_error)\n",
    "\n",
    "    y_val_pred = dt_depth.predict(X_val)\n",
    "    y_val_error = 1 - (accuracy_score(y_val, y_val_pred))\n",
    "    val_error.append(y_val_error)\n",
    "    \n",
    "# Plot the resulting performance as a function of C\n",
    "plt.semilogx(max_depth, training_error, label='tr_error')\n",
    "plt.semilogx(max_depth, val_error, label='val_error')\n",
    "\n",
    "plt.title(\"Max Depth vs. Error\")\n",
    "plt.xlabel('Max Depth Val')\n",
    "plt.ylabel('Error')\n",
    "plt.legend()\n",
    "\n",
    "plt.show()\n",
    "print(training_error)\n",
    "print(val_error)\n",
    "\n"
   ]
  },
  {
   "cell_type": "code",
   "execution_count": null,
   "id": "08605ff5-97f3-4ffb-9796-04a5c05be9f3",
   "metadata": {},
   "outputs": [],
   "source": [
    "min_samps = [2, 10, 30, 50, 100, 200, 500]\n",
    "training_error = []\n",
    "val_error = []\n",
    "\n",
    "for s in min_samps:\n",
    "    # Train a logistic regression model with each inverse regularization C\n",
    "    dt_min_samp = DecisionTreeClassifier(min_samples_split=s)\n",
    "    dt_min_samp.fit(X_tr, y_tr)\n",
    "    \n",
    "    # Compute the training and test error rates\n",
    "    y_tr_pred = dt_min_samp.predict(X_tr)\n",
    "    y_tr_error = 1 - (accuracy_score(y_tr, y_tr_pred))\n",
    "    training_error.append(y_tr_error)\n",
    "\n",
    "    y_val_pred = dt_min_samp.predict(X_val)\n",
    "    y_val_error = 1 - (accuracy_score(y_val, y_val_pred))\n",
    "    val_error.append(y_val_error)\n",
    "    \n",
    "# Plot the resulting performance as a function of C\n",
    "plt.semilogx(min_samps, training_error, label='tr_error')\n",
    "plt.semilogx(min_samps, val_error, label='val_error')\n",
    "\n",
    "plt.title(\"Min Samps Split vs. Error\")\n",
    "plt.xlabel('Min Samples Val')\n",
    "plt.ylabel('Error')\n",
    "plt.legend()\n",
    "\n",
    "plt.show()\n",
    "print(training_error)\n",
    "print(val_error)"
   ]
  },
  {
   "cell_type": "code",
   "execution_count": null,
   "id": "b344d000-5c6d-4534-a621-b9fbeb13c6fb",
   "metadata": {},
   "outputs": [],
   "source": [
    "min_samps_leaf = [2, 10, 30, 50, 100, 200]\n",
    "training_error = []\n",
    "val_error = []\n",
    "\n",
    "for s in min_samps_leaf:\n",
    "    # Train a logistic regression model with each inverse regularization C\n",
    "    dt_min_samp_leaf = DecisionTreeClassifier(min_samples_leaf=s)\n",
    "    dt_min_samp_leaf.fit(X_tr, y_tr)\n",
    "    \n",
    "    # Compute the training and test error rates\n",
    "    y_tr_pred = dt_min_samp_leaf.predict(X_tr)\n",
    "    y_tr_error = 1 - (accuracy_score(y_tr, y_tr_pred))\n",
    "    training_error.append(y_tr_error)\n",
    "\n",
    "    y_val_pred = dt_min_samp_leaf.predict(X_val)\n",
    "    y_val_error = 1 - (accuracy_score(y_val, y_val_pred))\n",
    "    val_error.append(y_val_error)\n",
    "    \n",
    "# Plot the resulting performance as a function of C\n",
    "plt.semilogx(min_samps_leaf, training_error, label='tr_error')\n",
    "plt.semilogx(min_samps_leaf, val_error, label='val_error')\n",
    "\n",
    "plt.title(\"Min Samps Leaf vs. Error\")\n",
    "plt.xlabel('Min Samples Leaf Val')\n",
    "plt.ylabel('Error')\n",
    "plt.legend()\n",
    "\n",
    "plt.show()\n",
    "print(training_error)\n",
    "print(val_error)"
   ]
  },
  {
   "cell_type": "code",
   "execution_count": null,
   "id": "06e2db33-8441-4c81-905b-f880ef2e5eca",
   "metadata": {},
   "outputs": [],
   "source": [
    "# Get Importance\n",
    "importance = dt.feature_importances_\n",
    "bar_labels = ['SDNN', 'RMSSD', 'Mean NN', 'pNN50', 'pNN20']#, 'SDSD']\n",
    "# Summarize feature importance\n",
    "for i,v in enumerate(importance):\n",
    "    print(\"Feature: %s, Score: %.5f\" % (bar_labels[i],v))\n",
    "\n",
    "# Summarize feature importance\n",
    "for i,v in enumerate(importance):\n",
    "    print(\"Feature: %s, Score: %.5f\" % (bar_labels[i],v))\n",
    "    \n",
    "# Plot feature importance\n",
    "\n",
    "bar_colors = ['steelblue', 'crimson', 'seagreen', 'indigo', 'yellow']#, 'pink']\n",
    "plt.bar(bar_labels, importance, label=bar_labels, color=bar_colors)\n",
    "plt.ylabel('Importance')\n",
    "plt.title('Logistic Regression Feature Importance')\n",
    "plt.legend()\n",
    "plt.show()    "
   ]
  },
  {
   "cell_type": "code",
   "execution_count": null,
   "id": "ea1d802f-bd35-45b1-be0a-e3f26bdc852e",
   "metadata": {},
   "outputs": [],
   "source": [
    "ConfusionMatrixDisplay.from_estimator(dt, X_val, y_val, display_labels=['No Drowsy', 'Drowsy'])"
   ]
  },
  {
   "cell_type": "code",
   "execution_count": null,
   "id": "1904bdf4-ed9d-4103-a879-7a5e60dc7ce3",
   "metadata": {},
   "outputs": [],
   "source": [
    "# Initialize the model\n",
    "mlp = MLPClassifier()\n",
    "\n",
    "# Fit the model to the training set\n",
    "mlp.fit(X_tr, y_tr)\n",
    "\n",
    "# Compute the training and test errors\n",
    "y_tr_pred = mlp.predict(X_tr)\n",
    "train_error = 1 - (accuracy_score(y_tr, y_tr_pred))\n",
    "train_error = 1 - (accuracy_score(y_tr, y_tr_pred))\n",
    "\n",
    "y_val_pred = mlp.predict(X_val)\n",
    "val_error = 1 - (accuracy_score(y_val, y_val_pred))\n",
    "\n",
    "print(\"Training Error: \", train_error)\n",
    "print(\"Testing Error: \", val_error)"
   ]
  },
  {
   "cell_type": "code",
   "execution_count": null,
   "id": "cca76765-f846-4c4a-b9e9-5b649e25148b",
   "metadata": {},
   "outputs": [],
   "source": [
    "mlp.predict_proba(np.array([1,0,1,0,0]).reshape(1,-1))"
   ]
  },
  {
   "cell_type": "markdown",
   "id": "95f04d15-62cc-473a-88fa-e4e6413380c9",
   "metadata": {},
   "source": [
    "# PYTORCH MODEL #"
   ]
  },
  {
   "cell_type": "code",
   "execution_count": 137,
   "id": "3a4c695e-256a-47d2-ac20-38825a9a84a5",
   "metadata": {},
   "outputs": [
    {
     "name": "stdout",
     "output_type": "stream",
     "text": [
      "          SDNN     RMSSD    MeanNN     pNN50     pNN20      SDSD  Label\n",
      "0     0.421157  0.270854  0.431612  0.055798  0.453113  0.290836    1.0\n",
      "1     0.222354  0.202036  0.487970  0.069654  0.467478  0.223864    1.0\n",
      "2     0.151898  0.210882  0.495496  0.105186  0.544102  0.232500    1.0\n",
      "3     0.294860  0.275798  0.522104  0.142170  0.534903  0.295743    1.0\n",
      "4     0.350408  0.420842  0.732381  0.469307  0.736729  0.436872    1.0\n",
      "...        ...       ...       ...       ...       ...       ...    ...\n",
      "1219  0.381162  0.323266  0.466550  0.219099  0.642603  0.145187    0.0\n",
      "1220  0.486344  0.375489  0.448105  0.238976  0.605960  0.226199    0.0\n",
      "1221  0.356477  0.319800  0.526010  0.264264  0.665362  0.153712    0.0\n",
      "1222  0.342605  0.255885  0.476268  0.220570  0.575654  0.111076    0.0\n",
      "1223  0.552362  0.353320  0.562253  0.207080  0.581939  0.226138    0.0\n",
      "\n",
      "[1224 rows x 7 columns]\n",
      "[[0.42115681 0.27085401 0.43161194 ... 0.45311275 0.29083589 1.        ]\n",
      " [0.22235436 0.20203629 0.48797038 ... 0.46747803 0.22386427 1.        ]\n",
      " [0.15189789 0.21088165 0.49549638 ... 0.5441025  0.23249979 1.        ]\n",
      " ...\n",
      " [0.3564767  0.31979952 0.52601005 ... 0.66536197 0.15371208 0.        ]\n",
      " [0.34260513 0.25588518 0.47626792 ... 0.57565375 0.11107567 0.        ]\n",
      " [0.55236173 0.35332041 0.56225283 ... 0.58193861 0.22613841 0.        ]]\n"
     ]
    }
   ],
   "source": [
    "data = pd.read_csv(\"extracted_drowsy_data_filtered.csv\")\n",
    "data.drop(['Unnamed: 0'], inplace=True, axis=1)\n",
    "data=(data-data.min())/(data.max()-data.min())\n",
    "print(data)\n",
    "data = data.to_numpy()\n",
    "print(data)\n",
    "\n",
    "#print(data[:,:5])\n",
    "X, y = data[:,:5], data[:,-1]\n",
    "X_tr, X_val, y_tr, y_val = train_test_split(X, y, test_size=0.25, random_state=seed, shuffle=True)"
   ]
  },
  {
   "cell_type": "code",
   "execution_count": 138,
   "id": "f642d17a-3b11-4f4a-b409-e9b0acf9d996",
   "metadata": {},
   "outputs": [],
   "source": [
    "device = 'cuda' if torch.cuda.is_available() else 'cpu'\n",
    "# Our data was in Numpy arrays, but we need to transform them into PyTorch's Tensors\n",
    "# and then we send them to the chosen device\n",
    "x_train_tensor = torch.from_numpy(X_tr).float().to(device)\n",
    "y_train_tensor = torch.from_numpy(y_tr).float().to(device)"
   ]
  },
  {
   "cell_type": "code",
   "execution_count": 142,
   "id": "cc30b106-88a3-4b4b-a50d-93fb640afe7c",
   "metadata": {},
   "outputs": [
    {
     "name": "stdout",
     "output_type": "stream",
     "text": [
      "tensor([1.3362], device='cuda:0', requires_grad=True) tensor([-0.2421], device='cuda:0', requires_grad=True)\n"
     ]
    }
   ],
   "source": [
    "torch.manual_seed(41)\n",
    "a = torch.randn(1, requires_grad=True, dtype=torch.float, device=device)\n",
    "b = torch.randn(1, requires_grad=True, dtype=torch.float, device=device)\n",
    "print(a, b)"
   ]
  },
  {
   "cell_type": "code",
   "execution_count": 156,
   "id": "68103788-3c58-4b04-a36c-84d4d3a32a16",
   "metadata": {},
   "outputs": [],
   "source": [
    "model = nn.Sequential(\n",
    "    nn.Linear(100, 5),\n",
    "    nn.ReLU(),\n",
    "    nn.Linear(100, 1),\n",
    "    nn.ReLU(),\n",
    "    nn.Linear(1, 1),\n",
    "    nn.Sigmoid()).to(device)\n",
    "loss_fn = nn.BCELoss()  # binary cross entropy\n",
    "optimizer = optim.Adam(model.parameters(), lr=0.001)\n"
   ]
  },
  {
   "cell_type": "code",
   "execution_count": 157,
   "id": "3b451a82-468e-40c2-8f8a-c2532cf1b698",
   "metadata": {},
   "outputs": [
    {
     "ename": "RuntimeError",
     "evalue": "mat1 and mat2 shapes cannot be multiplied (10x5 and 100x5)",
     "output_type": "error",
     "traceback": [
      "\u001b[1;31m---------------------------------------------------------------------------\u001b[0m",
      "\u001b[1;31mRuntimeError\u001b[0m                              Traceback (most recent call last)",
      "Cell \u001b[1;32mIn[157], line 7\u001b[0m\n\u001b[0;32m      5\u001b[0m \u001b[38;5;28;01mfor\u001b[39;00m i \u001b[38;5;129;01min\u001b[39;00m \u001b[38;5;28mrange\u001b[39m(\u001b[38;5;241m0\u001b[39m, \u001b[38;5;28mlen\u001b[39m(x_train_tensor), batch_size):\n\u001b[0;32m      6\u001b[0m     Xbatch \u001b[38;5;241m=\u001b[39m x_train_tensor[i:i\u001b[38;5;241m+\u001b[39mbatch_size]\n\u001b[1;32m----> 7\u001b[0m     y_pred \u001b[38;5;241m=\u001b[39m \u001b[43mmodel\u001b[49m\u001b[43m(\u001b[49m\u001b[43mXbatch\u001b[49m\u001b[43m)\u001b[49m\n\u001b[0;32m      8\u001b[0m     ybatch \u001b[38;5;241m=\u001b[39m y_train_tensor[i:i\u001b[38;5;241m+\u001b[39mbatch_size]\n\u001b[0;32m      9\u001b[0m     loss \u001b[38;5;241m=\u001b[39m loss_fn(y_pred, ybatch)\n",
      "File \u001b[1;32m~\\anaconda3\\envs\\mne\\Lib\\site-packages\\torch\\nn\\modules\\module.py:1511\u001b[0m, in \u001b[0;36mModule._wrapped_call_impl\u001b[1;34m(self, *args, **kwargs)\u001b[0m\n\u001b[0;32m   1509\u001b[0m     \u001b[38;5;28;01mreturn\u001b[39;00m \u001b[38;5;28mself\u001b[39m\u001b[38;5;241m.\u001b[39m_compiled_call_impl(\u001b[38;5;241m*\u001b[39margs, \u001b[38;5;241m*\u001b[39m\u001b[38;5;241m*\u001b[39mkwargs)  \u001b[38;5;66;03m# type: ignore[misc]\u001b[39;00m\n\u001b[0;32m   1510\u001b[0m \u001b[38;5;28;01melse\u001b[39;00m:\n\u001b[1;32m-> 1511\u001b[0m     \u001b[38;5;28;01mreturn\u001b[39;00m \u001b[38;5;28;43mself\u001b[39;49m\u001b[38;5;241;43m.\u001b[39;49m\u001b[43m_call_impl\u001b[49m\u001b[43m(\u001b[49m\u001b[38;5;241;43m*\u001b[39;49m\u001b[43margs\u001b[49m\u001b[43m,\u001b[49m\u001b[43m \u001b[49m\u001b[38;5;241;43m*\u001b[39;49m\u001b[38;5;241;43m*\u001b[39;49m\u001b[43mkwargs\u001b[49m\u001b[43m)\u001b[49m\n",
      "File \u001b[1;32m~\\anaconda3\\envs\\mne\\Lib\\site-packages\\torch\\nn\\modules\\module.py:1520\u001b[0m, in \u001b[0;36mModule._call_impl\u001b[1;34m(self, *args, **kwargs)\u001b[0m\n\u001b[0;32m   1515\u001b[0m \u001b[38;5;66;03m# If we don't have any hooks, we want to skip the rest of the logic in\u001b[39;00m\n\u001b[0;32m   1516\u001b[0m \u001b[38;5;66;03m# this function, and just call forward.\u001b[39;00m\n\u001b[0;32m   1517\u001b[0m \u001b[38;5;28;01mif\u001b[39;00m \u001b[38;5;129;01mnot\u001b[39;00m (\u001b[38;5;28mself\u001b[39m\u001b[38;5;241m.\u001b[39m_backward_hooks \u001b[38;5;129;01mor\u001b[39;00m \u001b[38;5;28mself\u001b[39m\u001b[38;5;241m.\u001b[39m_backward_pre_hooks \u001b[38;5;129;01mor\u001b[39;00m \u001b[38;5;28mself\u001b[39m\u001b[38;5;241m.\u001b[39m_forward_hooks \u001b[38;5;129;01mor\u001b[39;00m \u001b[38;5;28mself\u001b[39m\u001b[38;5;241m.\u001b[39m_forward_pre_hooks\n\u001b[0;32m   1518\u001b[0m         \u001b[38;5;129;01mor\u001b[39;00m _global_backward_pre_hooks \u001b[38;5;129;01mor\u001b[39;00m _global_backward_hooks\n\u001b[0;32m   1519\u001b[0m         \u001b[38;5;129;01mor\u001b[39;00m _global_forward_hooks \u001b[38;5;129;01mor\u001b[39;00m _global_forward_pre_hooks):\n\u001b[1;32m-> 1520\u001b[0m     \u001b[38;5;28;01mreturn\u001b[39;00m \u001b[43mforward_call\u001b[49m\u001b[43m(\u001b[49m\u001b[38;5;241;43m*\u001b[39;49m\u001b[43margs\u001b[49m\u001b[43m,\u001b[49m\u001b[43m \u001b[49m\u001b[38;5;241;43m*\u001b[39;49m\u001b[38;5;241;43m*\u001b[39;49m\u001b[43mkwargs\u001b[49m\u001b[43m)\u001b[49m\n\u001b[0;32m   1522\u001b[0m \u001b[38;5;28;01mtry\u001b[39;00m:\n\u001b[0;32m   1523\u001b[0m     result \u001b[38;5;241m=\u001b[39m \u001b[38;5;28;01mNone\u001b[39;00m\n",
      "File \u001b[1;32m~\\anaconda3\\envs\\mne\\Lib\\site-packages\\torch\\nn\\modules\\container.py:217\u001b[0m, in \u001b[0;36mSequential.forward\u001b[1;34m(self, input)\u001b[0m\n\u001b[0;32m    215\u001b[0m \u001b[38;5;28;01mdef\u001b[39;00m \u001b[38;5;21mforward\u001b[39m(\u001b[38;5;28mself\u001b[39m, \u001b[38;5;28minput\u001b[39m):\n\u001b[0;32m    216\u001b[0m     \u001b[38;5;28;01mfor\u001b[39;00m module \u001b[38;5;129;01min\u001b[39;00m \u001b[38;5;28mself\u001b[39m:\n\u001b[1;32m--> 217\u001b[0m         \u001b[38;5;28minput\u001b[39m \u001b[38;5;241m=\u001b[39m \u001b[43mmodule\u001b[49m\u001b[43m(\u001b[49m\u001b[38;5;28;43minput\u001b[39;49m\u001b[43m)\u001b[49m\n\u001b[0;32m    218\u001b[0m     \u001b[38;5;28;01mreturn\u001b[39;00m \u001b[38;5;28minput\u001b[39m\n",
      "File \u001b[1;32m~\\anaconda3\\envs\\mne\\Lib\\site-packages\\torch\\nn\\modules\\module.py:1511\u001b[0m, in \u001b[0;36mModule._wrapped_call_impl\u001b[1;34m(self, *args, **kwargs)\u001b[0m\n\u001b[0;32m   1509\u001b[0m     \u001b[38;5;28;01mreturn\u001b[39;00m \u001b[38;5;28mself\u001b[39m\u001b[38;5;241m.\u001b[39m_compiled_call_impl(\u001b[38;5;241m*\u001b[39margs, \u001b[38;5;241m*\u001b[39m\u001b[38;5;241m*\u001b[39mkwargs)  \u001b[38;5;66;03m# type: ignore[misc]\u001b[39;00m\n\u001b[0;32m   1510\u001b[0m \u001b[38;5;28;01melse\u001b[39;00m:\n\u001b[1;32m-> 1511\u001b[0m     \u001b[38;5;28;01mreturn\u001b[39;00m \u001b[38;5;28;43mself\u001b[39;49m\u001b[38;5;241;43m.\u001b[39;49m\u001b[43m_call_impl\u001b[49m\u001b[43m(\u001b[49m\u001b[38;5;241;43m*\u001b[39;49m\u001b[43margs\u001b[49m\u001b[43m,\u001b[49m\u001b[43m \u001b[49m\u001b[38;5;241;43m*\u001b[39;49m\u001b[38;5;241;43m*\u001b[39;49m\u001b[43mkwargs\u001b[49m\u001b[43m)\u001b[49m\n",
      "File \u001b[1;32m~\\anaconda3\\envs\\mne\\Lib\\site-packages\\torch\\nn\\modules\\module.py:1520\u001b[0m, in \u001b[0;36mModule._call_impl\u001b[1;34m(self, *args, **kwargs)\u001b[0m\n\u001b[0;32m   1515\u001b[0m \u001b[38;5;66;03m# If we don't have any hooks, we want to skip the rest of the logic in\u001b[39;00m\n\u001b[0;32m   1516\u001b[0m \u001b[38;5;66;03m# this function, and just call forward.\u001b[39;00m\n\u001b[0;32m   1517\u001b[0m \u001b[38;5;28;01mif\u001b[39;00m \u001b[38;5;129;01mnot\u001b[39;00m (\u001b[38;5;28mself\u001b[39m\u001b[38;5;241m.\u001b[39m_backward_hooks \u001b[38;5;129;01mor\u001b[39;00m \u001b[38;5;28mself\u001b[39m\u001b[38;5;241m.\u001b[39m_backward_pre_hooks \u001b[38;5;129;01mor\u001b[39;00m \u001b[38;5;28mself\u001b[39m\u001b[38;5;241m.\u001b[39m_forward_hooks \u001b[38;5;129;01mor\u001b[39;00m \u001b[38;5;28mself\u001b[39m\u001b[38;5;241m.\u001b[39m_forward_pre_hooks\n\u001b[0;32m   1518\u001b[0m         \u001b[38;5;129;01mor\u001b[39;00m _global_backward_pre_hooks \u001b[38;5;129;01mor\u001b[39;00m _global_backward_hooks\n\u001b[0;32m   1519\u001b[0m         \u001b[38;5;129;01mor\u001b[39;00m _global_forward_hooks \u001b[38;5;129;01mor\u001b[39;00m _global_forward_pre_hooks):\n\u001b[1;32m-> 1520\u001b[0m     \u001b[38;5;28;01mreturn\u001b[39;00m \u001b[43mforward_call\u001b[49m\u001b[43m(\u001b[49m\u001b[38;5;241;43m*\u001b[39;49m\u001b[43margs\u001b[49m\u001b[43m,\u001b[49m\u001b[43m \u001b[49m\u001b[38;5;241;43m*\u001b[39;49m\u001b[38;5;241;43m*\u001b[39;49m\u001b[43mkwargs\u001b[49m\u001b[43m)\u001b[49m\n\u001b[0;32m   1522\u001b[0m \u001b[38;5;28;01mtry\u001b[39;00m:\n\u001b[0;32m   1523\u001b[0m     result \u001b[38;5;241m=\u001b[39m \u001b[38;5;28;01mNone\u001b[39;00m\n",
      "File \u001b[1;32m~\\anaconda3\\envs\\mne\\Lib\\site-packages\\torch\\nn\\modules\\linear.py:116\u001b[0m, in \u001b[0;36mLinear.forward\u001b[1;34m(self, input)\u001b[0m\n\u001b[0;32m    115\u001b[0m \u001b[38;5;28;01mdef\u001b[39;00m \u001b[38;5;21mforward\u001b[39m(\u001b[38;5;28mself\u001b[39m, \u001b[38;5;28minput\u001b[39m: Tensor) \u001b[38;5;241m-\u001b[39m\u001b[38;5;241m>\u001b[39m Tensor:\n\u001b[1;32m--> 116\u001b[0m     \u001b[38;5;28;01mreturn\u001b[39;00m \u001b[43mF\u001b[49m\u001b[38;5;241;43m.\u001b[39;49m\u001b[43mlinear\u001b[49m\u001b[43m(\u001b[49m\u001b[38;5;28;43minput\u001b[39;49m\u001b[43m,\u001b[49m\u001b[43m \u001b[49m\u001b[38;5;28;43mself\u001b[39;49m\u001b[38;5;241;43m.\u001b[39;49m\u001b[43mweight\u001b[49m\u001b[43m,\u001b[49m\u001b[43m \u001b[49m\u001b[38;5;28;43mself\u001b[39;49m\u001b[38;5;241;43m.\u001b[39;49m\u001b[43mbias\u001b[49m\u001b[43m)\u001b[49m\n",
      "\u001b[1;31mRuntimeError\u001b[0m: mat1 and mat2 shapes cannot be multiplied (10x5 and 100x5)"
     ]
    }
   ],
   "source": [
    "n_epochs = 100\n",
    "batch_size = 10\n",
    " \n",
    "for epoch in range(n_epochs):\n",
    "    for i in range(0, len(x_train_tensor), batch_size):\n",
    "        Xbatch = x_train_tensor[i:i+batch_size]\n",
    "        y_pred = model(Xbatch)\n",
    "        ybatch = y_train_tensor[i:i+batch_size]\n",
    "        loss = loss_fn(y_pred, ybatch)\n",
    "        optimizer.zero_grad()\n",
    "        loss.backward()\n",
    "        optimizer.step()\n",
    "    print(f'Finished epoch {epoch}, latest loss {loss}')"
   ]
  },
  {
   "cell_type": "code",
   "execution_count": null,
   "id": "2ef84606-3bc3-4d29-80ef-17e94a625d81",
   "metadata": {},
   "outputs": [],
   "source": []
  }
 ],
 "metadata": {
  "kernelspec": {
   "display_name": "Python 3 (ipykernel)",
   "language": "python",
   "name": "python3"
  },
  "language_info": {
   "codemirror_mode": {
    "name": "ipython",
    "version": 3
   },
   "file_extension": ".py",
   "mimetype": "text/x-python",
   "name": "python",
   "nbconvert_exporter": "python",
   "pygments_lexer": "ipython3",
   "version": "3.11.7"
  }
 },
 "nbformat": 4,
 "nbformat_minor": 5
}
