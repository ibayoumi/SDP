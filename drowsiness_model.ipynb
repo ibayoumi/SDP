{
 "cells": [
  {
   "cell_type": "code",
   "execution_count": 1,
   "id": "789e7aee-51c5-40de-8b70-cb0c76ccbbbb",
   "metadata": {
    "tags": []
   },
   "outputs": [],
   "source": [
    "import numpy as np\n",
    "import mne\n",
    "# PYHRV IMPORTS\n",
    "import biosppy\n",
    "import pyhrv\n",
    "import pyhrv.time_domain as td\n",
    "import pyhrv.tools as tools\n",
    "#from pecg import Preprocessing as Pre\n",
    "# MATH\n",
    "import math\n",
    "\n",
    "# SKLEARN\n",
    "from sklearn import preprocessing\n",
    "from sklearn.model_selection import train_test_split\n",
    "from sklearn.metrics import accuracy_score, zero_one_loss\n",
    "from sklearn.neural_network import MLPClassifier\n",
    "\n",
    "# PANDAS\n",
    "import pandas as pd"
   ]
  },
  {
   "cell_type": "markdown",
   "id": "694fb880-cbb7-4d34-ab2a-7610d88158ca",
   "metadata": {},
   "source": [
    "# Taking data out of files #"
   ]
  },
  {
   "cell_type": "code",
   "execution_count": 38,
   "id": "a768d4ca-ac90-4da9-a35d-010089fee0d3",
   "metadata": {
    "tags": []
   },
   "outputs": [
    {
     "name": "stdout",
     "output_type": "stream",
     "text": [
      "Extracting EDF parameters from D:\\Documents\\Code\\Jupyterlab\\ECG_data\\01M_1_edited.edf...\n",
      "EDF file detected\n",
      "Setting channel info structure...\n",
      "Creating raw.info structure...\n",
      "Used Annotations descriptions: ['Event']\n",
      "<Info | 8 non-empty values\n",
      " bads: []\n",
      " ch_names: O1-Ref, O2-Ref, C3-Ref, C4-Ref, LOC-Ref, ROC-Ref, EKG\n",
      " chs: 7 EEG\n",
      " custom_ref_applied: False\n",
      " highpass: 0.5 Hz\n",
      " lowpass: 64.0 Hz\n",
      " meas_date: 2001-01-01 14:47:31 UTC\n",
      " nchan: 7\n",
      " projs: []\n",
      " sfreq: 128.0 Hz\n",
      " subject_info: 3 items (dict)\n",
      ">\n"
     ]
    }
   ],
   "source": [
    "file_1M1 = \"ECG_data/01M_1_edited.edf\"\n",
    "data_1M1 = mne.io.read_raw_edf(file_1M1)\n",
    "raw_data_1M1 = data_1M1.get_data()\n",
    "# you can get the metadata included in the file and a list of all channels:\n",
    "info_1M1 = data_1M1.info\n",
    "channels_1M1 = data_1M1.ch_names\n",
    "events_1M1 = mne.events_from_annotations(data_1M1)[0]\n",
    "print(info_1M1)"
   ]
  },
  {
   "cell_type": "code",
   "execution_count": 39,
   "id": "a5685dc0-4139-4db9-a671-316cb82ce05f",
   "metadata": {},
   "outputs": [
    {
     "name": "stdout",
     "output_type": "stream",
     "text": [
      "Extracting EDF parameters from D:\\Documents\\Code\\Jupyterlab\\ECG_data\\01M_2_edited.edf...\n",
      "EDF file detected\n",
      "Setting channel info structure...\n",
      "Creating raw.info structure...\n",
      "Used Annotations descriptions: ['Event']\n",
      "<Info | 8 non-empty values\n",
      " bads: []\n",
      " ch_names: O1-Ref, O2-Ref, C3-Ref, C4-Ref, LOC-Ref, ROC-Ref, EKG\n",
      " chs: 7 EEG\n",
      " custom_ref_applied: False\n",
      " highpass: 0.5 Hz\n",
      " lowpass: 64.0 Hz\n",
      " meas_date: 2001-01-01 14:52:38 UTC\n",
      " nchan: 7\n",
      " projs: []\n",
      " sfreq: 128.0 Hz\n",
      " subject_info: 3 items (dict)\n",
      ">\n"
     ]
    }
   ],
   "source": [
    "file_1M2 = \"ECG_data/01M_2_edited.edf\"\n",
    "data_1M2 = mne.io.read_raw_edf(file_1M2)\n",
    "raw_data_1M2 = data_1M2.get_data()\n",
    "# you can get the metadata included in the file and a list of all channels:\n",
    "info_1M2 = data_1M2.info\n",
    "channels_1M2 = data_1M2.ch_names\n",
    "events_1M2 = mne.events_from_annotations(data_1M2)[0]\n",
    "print(info_1M2)"
   ]
  },
  {
   "cell_type": "code",
   "execution_count": 40,
   "id": "ff2fff11-4800-4f57-a167-81846250eecb",
   "metadata": {},
   "outputs": [
    {
     "name": "stdout",
     "output_type": "stream",
     "text": [
      "Extracting EDF parameters from D:\\Documents\\Code\\Jupyterlab\\ECG_data\\02F_1_edited.edf...\n",
      "EDF file detected\n",
      "Setting channel info structure...\n",
      "Creating raw.info structure...\n",
      "Used Annotations descriptions: ['Event']\n",
      "<Info | 8 non-empty values\n",
      " bads: []\n",
      " ch_names: O1-Ref, O2-Ref, C3-Ref, C4-Ref, LOC-Ref, ROC-Ref, EKG\n",
      " chs: 7 EEG\n",
      " custom_ref_applied: False\n",
      " highpass: 0.5 Hz\n",
      " lowpass: 64.0 Hz\n",
      " meas_date: 2001-01-01 14:44:00 UTC\n",
      " nchan: 7\n",
      " projs: []\n",
      " sfreq: 128.0 Hz\n",
      " subject_info: 3 items (dict)\n",
      ">\n"
     ]
    }
   ],
   "source": [
    "file_2F1 = \"ECG_data/02F_1_edited.edf\"\n",
    "data_2F1 = mne.io.read_raw_edf(file_2F1)\n",
    "raw_data_2F1 = data_2F1.get_data()\n",
    "# you can get the metadata included in the file and a list of all channels:\n",
    "info_2F1 = data_2F1.info\n",
    "channels_2F1 = data_2F1.ch_names\n",
    "events_2F1 = mne.events_from_annotations(data_2F1)[0]\n",
    "print(info_2F1)"
   ]
  },
  {
   "cell_type": "code",
   "execution_count": 41,
   "id": "9a601744-1be5-401b-9e8e-e7c3a1c7f44d",
   "metadata": {},
   "outputs": [
    {
     "name": "stdout",
     "output_type": "stream",
     "text": [
      "Extracting EDF parameters from D:\\Documents\\Code\\Jupyterlab\\ECG_data\\02F_2_edited.edf...\n",
      "EDF file detected\n",
      "Setting channel info structure...\n",
      "Creating raw.info structure...\n",
      "Used Annotations descriptions: ['Event']\n",
      "<Info | 8 non-empty values\n",
      " bads: []\n",
      " ch_names: O1-Ref, O2-Ref, C3-Ref, C4-Ref, LOC-Ref, ROC-Ref, EKG\n",
      " chs: 7 EEG\n",
      " custom_ref_applied: False\n",
      " highpass: 0.5 Hz\n",
      " lowpass: 64.0 Hz\n",
      " meas_date: 2001-01-01 14:55:58 UTC\n",
      " nchan: 7\n",
      " projs: []\n",
      " sfreq: 128.0 Hz\n",
      " subject_info: 3 items (dict)\n",
      ">\n"
     ]
    }
   ],
   "source": [
    "file_2F2 = \"ECG_data/02F_2_edited.edf\"\n",
    "data_2F2 = mne.io.read_raw_edf(file_2F2)\n",
    "raw_data_2F2 = data_2F2.get_data()\n",
    "# you can get the metadata included in the file and a list of all channels:\n",
    "info_2F2 = data_2F2.info\n",
    "channels_2F2 = data_2F2.ch_names\n",
    "events_2F2 = mne.events_from_annotations(data_2F2)[0]\n",
    "print(info_2F2)"
   ]
  },
  {
   "cell_type": "code",
   "execution_count": 42,
   "id": "50fdaf4b-f52f-4d9d-a888-fac2396a36ed",
   "metadata": {},
   "outputs": [
    {
     "name": "stdout",
     "output_type": "stream",
     "text": [
      "Extracting EDF parameters from D:\\Documents\\Code\\Jupyterlab\\ECG_data\\03F_1_edited.edf...\n",
      "EDF file detected\n",
      "Setting channel info structure...\n",
      "Creating raw.info structure...\n",
      "Used Annotations descriptions: ['Event']\n",
      "<Info | 8 non-empty values\n",
      " bads: []\n",
      " ch_names: O1-Ref, O2-Ref, C3-Ref, C4-Ref, LOC-Ref, ROC-Ref, EKG\n",
      " chs: 7 EEG\n",
      " custom_ref_applied: False\n",
      " highpass: 0.5 Hz\n",
      " lowpass: 64.0 Hz\n",
      " meas_date: 2001-01-01 15:12:18 UTC\n",
      " nchan: 7\n",
      " projs: []\n",
      " sfreq: 128.0 Hz\n",
      " subject_info: 3 items (dict)\n",
      ">\n"
     ]
    }
   ],
   "source": [
    "file_3F1 = \"ECG_data/03F_1_edited.edf\"\n",
    "data_3F1 = mne.io.read_raw_edf(file_3F1)\n",
    "raw_data_3F1 = data_3F1.get_data()\n",
    "# you can get the metadata included in the file and a list of all channels:\n",
    "info_3F1 = data_3F1.info\n",
    "channels_3F1 = data_3F1.ch_names\n",
    "events_3F1 = mne.events_from_annotations(data_3F1)[0]\n",
    "print(info_3F1)"
   ]
  },
  {
   "cell_type": "code",
   "execution_count": 43,
   "id": "e4f9e648-2028-463a-bff6-92a0a4d82546",
   "metadata": {},
   "outputs": [
    {
     "name": "stdout",
     "output_type": "stream",
     "text": [
      "Extracting EDF parameters from D:\\Documents\\Code\\Jupyterlab\\ECG_data\\03F_2_edited.edf...\n",
      "EDF file detected\n",
      "Setting channel info structure...\n",
      "Creating raw.info structure...\n",
      "Used Annotations descriptions: ['Event']\n",
      "<Info | 8 non-empty values\n",
      " bads: []\n",
      " ch_names: O1-Ref, O2-Ref, C3-Ref, C4-Ref, LOC-Ref, ROC-Ref, EKG\n",
      " chs: 7 EEG\n",
      " custom_ref_applied: False\n",
      " highpass: 0.5 Hz\n",
      " lowpass: 64.0 Hz\n",
      " meas_date: 2001-01-01 14:43:22 UTC\n",
      " nchan: 7\n",
      " projs: []\n",
      " sfreq: 128.0 Hz\n",
      " subject_info: 3 items (dict)\n",
      ">\n"
     ]
    }
   ],
   "source": [
    "file_3F2 = \"ECG_data/03F_2_edited.edf\"\n",
    "data_3F2 = mne.io.read_raw_edf(file_3F2)\n",
    "raw_data_3F2 = data_3F2.get_data()\n",
    "# you can get the metadata included in the file and a list of all channels:\n",
    "info_3F2 = data_3F2.info\n",
    "channels_3F2 = data_3F2.ch_names\n",
    "events_3F2 = mne.events_from_annotations(data_3F2)[0]\n",
    "print(info_3F2)"
   ]
  },
  {
   "cell_type": "code",
   "execution_count": 44,
   "id": "7964cfbf-f26f-4319-85d5-dd65eb9676b7",
   "metadata": {},
   "outputs": [
    {
     "name": "stdout",
     "output_type": "stream",
     "text": [
      "Extracting EDF parameters from D:\\Documents\\Code\\Jupyterlab\\ECG_data\\04M_1_edited.edf...\n",
      "EDF file detected\n",
      "Setting channel info structure...\n",
      "Creating raw.info structure...\n",
      "Used Annotations descriptions: ['Event']\n",
      "<Info | 8 non-empty values\n",
      " bads: []\n",
      " ch_names: O1-Ref, O2-Ref, C3-Ref, C4-Ref, LOC-Ref, ROC-Ref, EKG\n",
      " chs: 7 EEG\n",
      " custom_ref_applied: False\n",
      " highpass: 0.5 Hz\n",
      " lowpass: 64.0 Hz\n",
      " meas_date: 2001-01-01 14:58:50 UTC\n",
      " nchan: 7\n",
      " projs: []\n",
      " sfreq: 128.0 Hz\n",
      " subject_info: 3 items (dict)\n",
      ">\n"
     ]
    }
   ],
   "source": [
    "file_4M1 = \"ECG_data/04M_1_edited.edf\"\n",
    "data_4M1 = mne.io.read_raw_edf(file_4M1)\n",
    "raw_data_4M1 = data_4M1.get_data()\n",
    "# you can get the metadata included in the file and a list of all channels:\n",
    "info_4M1 = data_4M1.info\n",
    "channels_4M1 = data_4M1.ch_names\n",
    "events_4M1 = mne.events_from_annotations(data_4M1)[0]\n",
    "print(info_4M1)"
   ]
  },
  {
   "cell_type": "code",
   "execution_count": 45,
   "id": "7752acdc-0664-4e4e-94cd-7004b4ccd01a",
   "metadata": {},
   "outputs": [
    {
     "name": "stdout",
     "output_type": "stream",
     "text": [
      "Extracting EDF parameters from D:\\Documents\\Code\\Jupyterlab\\ECG_data\\04M_2_edited.edf...\n",
      "EDF file detected\n",
      "Setting channel info structure...\n",
      "Creating raw.info structure...\n",
      "Used Annotations descriptions: ['Event']\n",
      "<Info | 8 non-empty values\n",
      " bads: []\n",
      " ch_names: O1-Ref, O2-Ref, C3-Ref, C4-Ref, LOC-Ref, ROC-Ref, EKG\n",
      " chs: 7 EEG\n",
      " custom_ref_applied: False\n",
      " highpass: 0.5 Hz\n",
      " lowpass: 64.0 Hz\n",
      " meas_date: 2001-01-01 14:38:05 UTC\n",
      " nchan: 7\n",
      " projs: []\n",
      " sfreq: 128.0 Hz\n",
      " subject_info: 3 items (dict)\n",
      ">\n"
     ]
    }
   ],
   "source": [
    "file_4M2 = \"ECG_data/04M_2_edited.edf\"\n",
    "data_4M2 = mne.io.read_raw_edf(file_4M2)\n",
    "raw_data_4M2 = data_4M2.get_data()\n",
    "# you can get the metadata included in the file and a list of all channels:\n",
    "info_4M2 = data_4M2.info\n",
    "channels_4M2 = data_4M2.ch_names\n",
    "events_4M2 = mne.events_from_annotations(data_4M2)[0]\n",
    "print(info_4M2)"
   ]
  },
  {
   "cell_type": "code",
   "execution_count": 46,
   "id": "8c1997e0-83ac-4e48-a0e7-6daffe57663b",
   "metadata": {},
   "outputs": [
    {
     "name": "stdout",
     "output_type": "stream",
     "text": [
      "Extracting EDF parameters from D:\\Documents\\Code\\Jupyterlab\\ECG_data\\05M_1_edited.edf...\n",
      "EDF file detected\n",
      "Setting channel info structure...\n",
      "Creating raw.info structure...\n",
      "Used Annotations descriptions: ['Event']\n",
      "<Info | 8 non-empty values\n",
      " bads: []\n",
      " ch_names: O1-Ref, O2-Ref, C3-Ref, C4-Ref, LOC-Ref, ROC-Ref, EKG\n",
      " chs: 7 EEG\n",
      " custom_ref_applied: False\n",
      " highpass: 0.5 Hz\n",
      " lowpass: 64.0 Hz\n",
      " meas_date: 2001-01-01 14:38:38 UTC\n",
      " nchan: 7\n",
      " projs: []\n",
      " sfreq: 128.0 Hz\n",
      " subject_info: 3 items (dict)\n",
      ">\n"
     ]
    }
   ],
   "source": [
    "file_5M1 = \"ECG_data/05M_1_edited.edf\"\n",
    "data_5M1 = mne.io.read_raw_edf(file_5M1)\n",
    "raw_data_5M1 = data_5M1.get_data()\n",
    "# you can get the metadata included in the file and a list of all channels:\n",
    "info_5M1 = data_5M1.info\n",
    "channels_5M1 = data_5M1.ch_names\n",
    "events_5M1 = mne.events_from_annotations(data_5M1)[0]\n",
    "print(info_5M1)"
   ]
  },
  {
   "cell_type": "code",
   "execution_count": 47,
   "id": "3190fe0e-0f3d-4f1e-a7d6-b9cc97f813a4",
   "metadata": {},
   "outputs": [
    {
     "name": "stdout",
     "output_type": "stream",
     "text": [
      "Extracting EDF parameters from D:\\Documents\\Code\\Jupyterlab\\ECG_data\\05M_2_edited.edf...\n",
      "EDF file detected\n",
      "Setting channel info structure...\n",
      "Creating raw.info structure...\n",
      "Used Annotations descriptions: ['Event']\n",
      "<Info | 8 non-empty values\n",
      " bads: []\n",
      " ch_names: O1-Ref, O2-Ref, C3-Ref, C4-Ref, LOC-Ref, ROC-Ref, EKG\n",
      " chs: 7 EEG\n",
      " custom_ref_applied: False\n",
      " highpass: 0.5 Hz\n",
      " lowpass: 64.0 Hz\n",
      " meas_date: 2001-01-01 14:59:56 UTC\n",
      " nchan: 7\n",
      " projs: []\n",
      " sfreq: 128.0 Hz\n",
      " subject_info: 3 items (dict)\n",
      ">\n"
     ]
    }
   ],
   "source": [
    "file_5M2 = \"ECG_data/05M_2_edited.edf\"\n",
    "data_5M2 = mne.io.read_raw_edf(file_5M2)\n",
    "raw_data_5M2 = data_5M2.get_data()\n",
    "# you can get the metadata included in the file and a list of all channels:\n",
    "info_5M2 = data_5M2.info\n",
    "channels_5M2 = data_5M2.ch_names\n",
    "events_5M2 = mne.events_from_annotations(data_5M2)[0]\n",
    "print(info_5M2)"
   ]
  },
  {
   "cell_type": "code",
   "execution_count": 48,
   "id": "5481f049-fbee-452f-8f91-cbbc148f9352",
   "metadata": {},
   "outputs": [
    {
     "name": "stdout",
     "output_type": "stream",
     "text": [
      "Extracting EDF parameters from D:\\Documents\\Code\\Jupyterlab\\ECG_data\\06M_1_edited.edf...\n",
      "EDF file detected\n",
      "Setting channel info structure...\n",
      "Creating raw.info structure...\n",
      "Used Annotations descriptions: ['Event']\n",
      "<Info | 8 non-empty values\n",
      " bads: []\n",
      " ch_names: O1-Ref, O2-Ref, C3-Ref, C4-Ref, LOC-Ref, ROC-Ref, EKG\n",
      " chs: 7 EEG\n",
      " custom_ref_applied: False\n",
      " highpass: 0.5 Hz\n",
      " lowpass: 64.0 Hz\n",
      " meas_date: 2001-01-01 14:43:31 UTC\n",
      " nchan: 7\n",
      " projs: []\n",
      " sfreq: 128.0 Hz\n",
      " subject_info: 3 items (dict)\n",
      ">\n"
     ]
    }
   ],
   "source": [
    "file_6M1 = \"ECG_data/06M_1_edited.edf\"\n",
    "data_6M1 = mne.io.read_raw_edf(file_6M1)\n",
    "raw_data_6M1 = data_6M1.get_data()\n",
    "# you can get the metadata included in the file and a list of all channels:\n",
    "info_6M1 = data_6M1.info\n",
    "channels_6M1 = data_6M1.ch_names\n",
    "events_6M1 = mne.events_from_annotations(data_6M1)[0]\n",
    "print(info_6M1)"
   ]
  },
  {
   "cell_type": "code",
   "execution_count": 49,
   "id": "ffee0d18-cafd-4224-9d7b-01bd4cea8700",
   "metadata": {},
   "outputs": [
    {
     "name": "stdout",
     "output_type": "stream",
     "text": [
      "Extracting EDF parameters from D:\\Documents\\Code\\Jupyterlab\\ECG_data\\06M_2_edited.edf...\n",
      "EDF file detected\n",
      "Setting channel info structure...\n",
      "Creating raw.info structure...\n",
      "Used Annotations descriptions: ['Event']\n",
      "<Info | 8 non-empty values\n",
      " bads: []\n",
      " ch_names: O1-Ref, O2-Ref, C3-Ref, C4-Ref, LOC-Ref, ROC-Ref, EKG\n",
      " chs: 7 EEG\n",
      " custom_ref_applied: False\n",
      " highpass: 0.5 Hz\n",
      " lowpass: 64.0 Hz\n",
      " meas_date: 2001-01-01 15:17:25 UTC\n",
      " nchan: 7\n",
      " projs: []\n",
      " sfreq: 128.0 Hz\n",
      " subject_info: 3 items (dict)\n",
      ">\n"
     ]
    }
   ],
   "source": [
    "file_6M2 = \"ECG_data/06M_2_edited.edf\"\n",
    "data_6M2 = mne.io.read_raw_edf(file_6M2)\n",
    "raw_data_6M2 = data_6M2.get_data()\n",
    "# you can get the metadata included in the file and a list of all channels:\n",
    "info_6M2 = data_6M2.info\n",
    "channels_6M2 = data_6M2.ch_names\n",
    "events_6M2 = mne.events_from_annotations(data_6M2)[0]\n",
    "print(info_6M2)"
   ]
  },
  {
   "cell_type": "code",
   "execution_count": 50,
   "id": "4ef302ff-2079-4ed1-aec4-b8d28a19b50f",
   "metadata": {},
   "outputs": [
    {
     "name": "stdout",
     "output_type": "stream",
     "text": [
      "Extracting EDF parameters from D:\\Documents\\Code\\Jupyterlab\\ECG_data\\07F_1_edited.edf...\n",
      "EDF file detected\n",
      "Setting channel info structure...\n",
      "Creating raw.info structure...\n",
      "Used Annotations descriptions: ['Event']\n",
      "<Info | 8 non-empty values\n",
      " bads: []\n",
      " ch_names: O1-Ref, O2-Ref, C3-Ref, C4-Ref, LOC-Ref, ROC-Ref, EKG\n",
      " chs: 7 EEG\n",
      " custom_ref_applied: False\n",
      " highpass: 0.5 Hz\n",
      " lowpass: 64.0 Hz\n",
      " meas_date: 2001-01-01 14:57:50 UTC\n",
      " nchan: 7\n",
      " projs: []\n",
      " sfreq: 128.0 Hz\n",
      " subject_info: 3 items (dict)\n",
      ">\n"
     ]
    }
   ],
   "source": [
    "file_7F1 = \"ECG_data/07F_1_edited.edf\"\n",
    "data_7F1 = mne.io.read_raw_edf(file_7F1)\n",
    "raw_data_7F1 = data_7F1.get_data()\n",
    "# you can get the metadata included in the file and a list of all channels:\n",
    "info_7F1 = data_7F1.info\n",
    "channels_7F1 = data_7F1.ch_names\n",
    "events_7F1 = mne.events_from_annotations(data_7F1)[0]\n",
    "print(info_7F1)"
   ]
  },
  {
   "cell_type": "code",
   "execution_count": 51,
   "id": "f96c3391-03d2-4663-88ef-1c9af71cba7c",
   "metadata": {},
   "outputs": [
    {
     "name": "stdout",
     "output_type": "stream",
     "text": [
      "Extracting EDF parameters from D:\\Documents\\Code\\Jupyterlab\\ECG_data\\07F_2_edited.edf...\n",
      "EDF file detected\n",
      "Setting channel info structure...\n",
      "Creating raw.info structure...\n",
      "Used Annotations descriptions: ['Event']\n",
      "<Info | 8 non-empty values\n",
      " bads: []\n",
      " ch_names: O1-Ref, O2-Ref, C3-Ref, C4-Ref, LOC-Ref, ROC-Ref, EKG\n",
      " chs: 7 EEG\n",
      " custom_ref_applied: False\n",
      " highpass: 0.5 Hz\n",
      " lowpass: 64.0 Hz\n",
      " meas_date: 2001-01-01 14:55:48 UTC\n",
      " nchan: 7\n",
      " projs: []\n",
      " sfreq: 128.0 Hz\n",
      " subject_info: 3 items (dict)\n",
      ">\n"
     ]
    }
   ],
   "source": [
    "file_7F2 = \"ECG_data/07F_2_edited.edf\"\n",
    "data_7F2 = mne.io.read_raw_edf(file_7F2)\n",
    "raw_data_7F2 = data_7F2.get_data()\n",
    "# you can get the metadata included in the file and a list of all channels:\n",
    "info_7F2 = data_7F2.info\n",
    "channels_7F2 = data_7F2.ch_names\n",
    "events_7F2 = mne.events_from_annotations(data_7F2)[0]\n",
    "print(info_7F2)"
   ]
  },
  {
   "cell_type": "code",
   "execution_count": 52,
   "id": "ea8ad753-e9a9-475c-abca-f008efc76770",
   "metadata": {},
   "outputs": [
    {
     "name": "stdout",
     "output_type": "stream",
     "text": [
      "Extracting EDF parameters from D:\\Documents\\Code\\Jupyterlab\\ECG_data\\08M_1_edited.edf...\n",
      "EDF file detected\n",
      "Setting channel info structure...\n",
      "Creating raw.info structure...\n",
      "Used Annotations descriptions: ['Event']\n",
      "<Info | 8 non-empty values\n",
      " bads: []\n",
      " ch_names: O1-Ref, O2-Ref, C3-Ref, C4-Ref, LOC-Ref, ROC-Ref, EKG\n",
      " chs: 7 EEG\n",
      " custom_ref_applied: False\n",
      " highpass: 0.5 Hz\n",
      " lowpass: 64.0 Hz\n",
      " meas_date: 2001-01-01 14:55:07 UTC\n",
      " nchan: 7\n",
      " projs: []\n",
      " sfreq: 128.0 Hz\n",
      " subject_info: 3 items (dict)\n",
      ">\n"
     ]
    }
   ],
   "source": [
    "file_8M1 = \"ECG_data/08M_1_edited.edf\"\n",
    "data_8M1 = mne.io.read_raw_edf(file_8M1)\n",
    "raw_data_8M1 = data_8M1.get_data()\n",
    "# you can get the metadata included in the file and a list of all channels:\n",
    "info_8M1 = data_8M1.info\n",
    "channels_8M1 = data_8M1.ch_names\n",
    "events_8M1 = mne.events_from_annotations(data_8M1)[0]\n",
    "print(info_8M1)"
   ]
  },
  {
   "cell_type": "code",
   "execution_count": 53,
   "id": "ca787fb8-abf1-4399-bf73-71c48f4781ee",
   "metadata": {},
   "outputs": [
    {
     "name": "stdout",
     "output_type": "stream",
     "text": [
      "Extracting EDF parameters from D:\\Documents\\Code\\Jupyterlab\\ECG_data\\08M_2_edited.edf...\n",
      "EDF file detected\n",
      "Setting channel info structure...\n",
      "Creating raw.info structure...\n",
      "Used Annotations descriptions: ['Event']\n",
      "<Info | 8 non-empty values\n",
      " bads: []\n",
      " ch_names: O1-Ref, O2-Ref, C3-Ref, C4-Ref, LOC-Ref, ROC-Ref, EKG\n",
      " chs: 7 EEG\n",
      " custom_ref_applied: False\n",
      " highpass: 0.5 Hz\n",
      " lowpass: 64.0 Hz\n",
      " meas_date: 2001-01-01 14:54:36 UTC\n",
      " nchan: 7\n",
      " projs: []\n",
      " sfreq: 128.0 Hz\n",
      " subject_info: 3 items (dict)\n",
      ">\n"
     ]
    }
   ],
   "source": [
    "file_8M2 = \"ECG_data/08M_2_edited.edf\"\n",
    "data_8M2 = mne.io.read_raw_edf(file_8M2)\n",
    "raw_data_8M2 = data_8M2.get_data()\n",
    "# you can get the metadata included in the file and a list of all channels:\n",
    "info_8M2 = data_8M2.info\n",
    "channels_8M2 = data_8M2.ch_names\n",
    "events_8M2 = mne.events_from_annotations(data_8M2)[0]\n",
    "print(info_8M2)"
   ]
  },
  {
   "cell_type": "code",
   "execution_count": 54,
   "id": "582f1fdf-c670-472f-9181-a5506652360e",
   "metadata": {},
   "outputs": [
    {
     "name": "stdout",
     "output_type": "stream",
     "text": [
      "Extracting EDF parameters from D:\\Documents\\Code\\Jupyterlab\\ECG_data\\09M_1_edited.edf...\n",
      "EDF file detected\n",
      "Setting channel info structure...\n",
      "Creating raw.info structure...\n",
      "Used Annotations descriptions: ['Event']\n",
      "<Info | 8 non-empty values\n",
      " bads: []\n",
      " ch_names: O1-Ref, O2-Ref, C3-Ref, C4-Ref, LOC-Ref, ROC-Ref, EKG\n",
      " chs: 7 EEG\n",
      " custom_ref_applied: False\n",
      " highpass: 0.5 Hz\n",
      " lowpass: 64.0 Hz\n",
      " meas_date: 2001-01-01 14:46:02 UTC\n",
      " nchan: 7\n",
      " projs: []\n",
      " sfreq: 128.0 Hz\n",
      " subject_info: 3 items (dict)\n",
      ">\n"
     ]
    }
   ],
   "source": [
    "file_9M1 = \"ECG_data/09M_1_edited.edf\"\n",
    "data_9M1 = mne.io.read_raw_edf(file_9M1)\n",
    "raw_data_9M1 = data_9M1.get_data()\n",
    "# you can get the metadata included in the file and a list of all channels:\n",
    "info_9M1 = data_9M1.info\n",
    "channels_9M1 = data_9M1.ch_names\n",
    "events_9M1 = mne.events_from_annotations(data_9M1)[0]\n",
    "print(info_9M1)"
   ]
  },
  {
   "cell_type": "code",
   "execution_count": 55,
   "id": "31407a87-5159-4f91-82fb-c2047101381b",
   "metadata": {},
   "outputs": [
    {
     "name": "stdout",
     "output_type": "stream",
     "text": [
      "Extracting EDF parameters from D:\\Documents\\Code\\Jupyterlab\\ECG_data\\09M_2_edited.edf...\n",
      "EDF file detected\n",
      "Setting channel info structure...\n",
      "Creating raw.info structure...\n",
      "Used Annotations descriptions: ['Event']\n",
      "<Info | 8 non-empty values\n",
      " bads: []\n",
      " ch_names: O1-Ref, O2-Ref, C3-Ref, C4-Ref, LOC-Ref, ROC-Ref, EKG\n",
      " chs: 7 EEG\n",
      " custom_ref_applied: False\n",
      " highpass: 0.5 Hz\n",
      " lowpass: 64.0 Hz\n",
      " meas_date: 2001-01-01 14:52:30 UTC\n",
      " nchan: 7\n",
      " projs: []\n",
      " sfreq: 128.0 Hz\n",
      " subject_info: 3 items (dict)\n",
      ">\n"
     ]
    }
   ],
   "source": [
    "file_9M2 = \"ECG_data/09M_2_edited.edf\"\n",
    "data_9M2 = mne.io.read_raw_edf(file_9M2)\n",
    "raw_data_9M2 = data_9M2.get_data()\n",
    "# you can get the metadata included in the file and a list of all channels:\n",
    "info_9M2 = data_9M2.info\n",
    "channels_9M2 = data_9M2.ch_names\n",
    "events_9M2 = mne.events_from_annotations(data_9M2)[0]\n",
    "print(info_9M2)"
   ]
  },
  {
   "cell_type": "code",
   "execution_count": 56,
   "id": "607b3e7f-c4b9-497e-81da-46e302c7b5c3",
   "metadata": {},
   "outputs": [
    {
     "name": "stdout",
     "output_type": "stream",
     "text": [
      "Extracting EDF parameters from D:\\Documents\\Code\\Jupyterlab\\ECG_data\\10M_1_edited.edf...\n",
      "EDF file detected\n",
      "Setting channel info structure...\n",
      "Creating raw.info structure...\n",
      "Used Annotations descriptions: ['Event']\n",
      "<Info | 8 non-empty values\n",
      " bads: []\n",
      " ch_names: O1-Ref, O2-Ref, C3-Ref, C4-Ref, LOC-Ref, ROC-Ref, EKG\n",
      " chs: 7 EEG\n",
      " custom_ref_applied: False\n",
      " highpass: 0.5 Hz\n",
      " lowpass: 64.0 Hz\n",
      " meas_date: 2001-01-01 15:06:40 UTC\n",
      " nchan: 7\n",
      " projs: []\n",
      " sfreq: 128.0 Hz\n",
      " subject_info: 3 items (dict)\n",
      ">\n"
     ]
    }
   ],
   "source": [
    "file_10M1 = \"ECG_data/10M_1_edited.edf\"\n",
    "data_10M1 = mne.io.read_raw_edf(file_10M1)\n",
    "raw_data_10M1 = data_10M1.get_data()\n",
    "# you can get the metadata included in the file and a list of all channels:\n",
    "info_10M1 = data_10M1.info\n",
    "channels_10M1 = data_10M1.ch_names\n",
    "events_10M1 = mne.events_from_annotations(data_10M1)[0]\n",
    "print(info_10M1)"
   ]
  },
  {
   "cell_type": "code",
   "execution_count": 57,
   "id": "aba27390-635e-46be-88ed-b4d37a334a4d",
   "metadata": {},
   "outputs": [
    {
     "name": "stdout",
     "output_type": "stream",
     "text": [
      "Extracting EDF parameters from D:\\Documents\\Code\\Jupyterlab\\ECG_data\\10M_2_edited.edf...\n",
      "EDF file detected\n",
      "Setting channel info structure...\n",
      "Creating raw.info structure...\n",
      "Used Annotations descriptions: ['Event']\n",
      "<Info | 8 non-empty values\n",
      " bads: []\n",
      " ch_names: O1-Ref, O2-Ref, C3-Ref, C4-Ref, LOC-Ref, ROC-Ref, EKG\n",
      " chs: 7 EEG\n",
      " custom_ref_applied: False\n",
      " highpass: 0.5 Hz\n",
      " lowpass: 64.0 Hz\n",
      " meas_date: 2001-01-01 15:50:21 UTC\n",
      " nchan: 7\n",
      " projs: []\n",
      " sfreq: 128.0 Hz\n",
      " subject_info: 3 items (dict)\n",
      ">\n"
     ]
    }
   ],
   "source": [
    "file_10M2 = \"ECG_data/10M_2_edited.edf\"\n",
    "data_10M2 = mne.io.read_raw_edf(file_10M2)\n",
    "raw_data_10M2 = data_10M2.get_data()\n",
    "# you can get the metadata included in the file and a list of all channels:\n",
    "info_10M2 = data_10M2.info\n",
    "channels_10M2 = data_10M2.ch_names\n",
    "events_10M2 = mne.events_from_annotations(data_10M2)[0]\n",
    "print(info_10M2)"
   ]
  },
  {
   "cell_type": "markdown",
   "id": "302389de-8181-42fa-9b5c-20ef0b1abafd",
   "metadata": {},
   "source": [
    "# Get Raw ECG Signal #"
   ]
  },
  {
   "cell_type": "code",
   "execution_count": 91,
   "id": "3372b12b-932c-47fc-ba68-f3528fb4508b",
   "metadata": {
    "tags": []
   },
   "outputs": [
    {
     "name": "stdout",
     "output_type": "stream",
     "text": [
      "26\n",
      "935040\n"
     ]
    }
   ],
   "source": [
    "print(len(events_1M1))\n",
    "raw_ecg_1M1 = raw_data_1M1[6]\n",
    "print(len(raw_ecg_1M1))"
   ]
  },
  {
   "cell_type": "code",
   "execution_count": 92,
   "id": "2bcd081e-17ef-4dc7-b908-8de0f8dfe0ea",
   "metadata": {},
   "outputs": [
    {
     "name": "stdout",
     "output_type": "stream",
     "text": [
      "58\n",
      "931200\n"
     ]
    }
   ],
   "source": [
    "print(len(events_1M2))\n",
    "raw_ecg_1M2 = raw_data_1M2[6]\n",
    "print(len(raw_ecg_1M2))"
   ]
  },
  {
   "cell_type": "code",
   "execution_count": 93,
   "id": "8356a9b5-1bfa-4e16-8843-75f04566daeb",
   "metadata": {},
   "outputs": [
    {
     "name": "stdout",
     "output_type": "stream",
     "text": [
      "37\n",
      "944640\n"
     ]
    }
   ],
   "source": [
    "print(len(events_2F1))\n",
    "raw_ecg_2F1 = raw_data_2F1[6]\n",
    "print(len(raw_ecg_2F1))"
   ]
  },
  {
   "cell_type": "code",
   "execution_count": 94,
   "id": "5852568a-1af4-4eb8-97d4-30ae3c067d93",
   "metadata": {},
   "outputs": [
    {
     "name": "stdout",
     "output_type": "stream",
     "text": [
      "29\n",
      "929280\n"
     ]
    }
   ],
   "source": [
    "print(len(events_2F2))\n",
    "raw_ecg_2F2 = raw_data_2F2[6]\n",
    "print(len(raw_ecg_2F2))"
   ]
  },
  {
   "cell_type": "code",
   "execution_count": 95,
   "id": "1e0ee69f-ff32-4a93-bf61-b947a93178c6",
   "metadata": {},
   "outputs": [
    {
     "name": "stdout",
     "output_type": "stream",
     "text": [
      "86\n",
      "935040\n"
     ]
    }
   ],
   "source": [
    "print(len(events_3F1))\n",
    "raw_ecg_3F1 = raw_data_3F1[6]\n",
    "print(len(raw_ecg_3F1))"
   ]
  },
  {
   "cell_type": "code",
   "execution_count": 90,
   "id": "d8b0f3fc-d39b-4b36-81a2-e8e21d6990fd",
   "metadata": {},
   "outputs": [
    {
     "name": "stdout",
     "output_type": "stream",
     "text": [
      "96\n",
      "940800\n"
     ]
    }
   ],
   "source": [
    "print(len(events_3F2))\n",
    "raw_ecg_3F2 = raw_data_3F2[6]\n",
    "print(len(raw_ecg_3F2))"
   ]
  },
  {
   "cell_type": "code",
   "execution_count": 89,
   "id": "093e7213-634d-4af7-aec6-da50184135cb",
   "metadata": {},
   "outputs": [
    {
     "name": "stdout",
     "output_type": "stream",
     "text": [
      "36\n",
      "887040\n"
     ]
    }
   ],
   "source": [
    "print(len(events_4M1))\n",
    "raw_ecg_4M1 = raw_data_4M1[6]\n",
    "print(len(raw_ecg_4M1))"
   ]
  },
  {
   "cell_type": "code",
   "execution_count": 88,
   "id": "1c11f4f2-9be0-404d-b1c3-d2b137fee0e1",
   "metadata": {},
   "outputs": [
    {
     "name": "stdout",
     "output_type": "stream",
     "text": [
      "46\n",
      "923520\n"
     ]
    }
   ],
   "source": [
    "print(len(events_4M2))\n",
    "raw_ecg_4M2 = raw_data_4M2[6]\n",
    "print(len(raw_ecg_4M2))"
   ]
  },
  {
   "cell_type": "code",
   "execution_count": 87,
   "id": "7258377d-57a9-446f-b534-e5956886ad2c",
   "metadata": {},
   "outputs": [
    {
     "name": "stdout",
     "output_type": "stream",
     "text": [
      "25\n",
      "927360\n"
     ]
    }
   ],
   "source": [
    "print(len(events_5M1))\n",
    "raw_ecg_5M1 = raw_data_5M1[6]\n",
    "print(len(raw_ecg_5M1))"
   ]
  },
  {
   "cell_type": "code",
   "execution_count": 70,
   "id": "5ebbac5c-4152-4d5a-9c1f-c807cfd14cbf",
   "metadata": {},
   "outputs": [
    {
     "name": "stdout",
     "output_type": "stream",
     "text": [
      "39\n",
      "927360\n"
     ]
    }
   ],
   "source": [
    "print(len(events_5M2))\n",
    "raw_ecg_5M2 = raw_data_5M2[6]\n",
    "print(len(raw_ecg_5M2))"
   ]
  },
  {
   "cell_type": "code",
   "execution_count": 71,
   "id": "608cc449-f6db-4e20-b17e-423341d55535",
   "metadata": {},
   "outputs": [
    {
     "name": "stdout",
     "output_type": "stream",
     "text": [
      "36\n",
      "923520\n"
     ]
    }
   ],
   "source": [
    "print(len(events_6M1))\n",
    "raw_ecg_6M1 = raw_data_6M1[6]\n",
    "print(len(raw_ecg_6M1))"
   ]
  },
  {
   "cell_type": "code",
   "execution_count": 72,
   "id": "92eef82a-4b87-4f62-afb9-0f3b20d06cfa",
   "metadata": {},
   "outputs": [
    {
     "name": "stdout",
     "output_type": "stream",
     "text": [
      "19\n",
      "938880\n"
     ]
    }
   ],
   "source": [
    "print(len(events_6M2))\n",
    "raw_ecg_6M2 = raw_data_6M2[6]\n",
    "print(len(raw_ecg_6M2))"
   ]
  },
  {
   "cell_type": "code",
   "execution_count": 73,
   "id": "84b68436-4116-400a-b91a-4e2c280e54dc",
   "metadata": {},
   "outputs": [
    {
     "name": "stdout",
     "output_type": "stream",
     "text": [
      "90\n",
      "933120\n"
     ]
    }
   ],
   "source": [
    "print(len(events_7F1))\n",
    "raw_ecg_7F1 = raw_data_7F1[6]\n",
    "print(len(raw_ecg_7F1))"
   ]
  },
  {
   "cell_type": "code",
   "execution_count": 74,
   "id": "e3f08d49-d26b-4a2a-bf7e-1d25623fadc2",
   "metadata": {},
   "outputs": [
    {
     "name": "stdout",
     "output_type": "stream",
     "text": [
      "162\n",
      "931200\n"
     ]
    }
   ],
   "source": [
    "print(len(events_7F2))\n",
    "raw_ecg_7F2 = raw_data_7F2[6]\n",
    "print(len(raw_ecg_7F2))"
   ]
  },
  {
   "cell_type": "code",
   "execution_count": 75,
   "id": "63ad317d-faf6-45e0-99d6-fddef3c3fe3c",
   "metadata": {},
   "outputs": [
    {
     "name": "stdout",
     "output_type": "stream",
     "text": [
      "5\n",
      "925440\n"
     ]
    }
   ],
   "source": [
    "print(len(events_8M1))\n",
    "raw_ecg_8M1 = raw_data_8M1[6]\n",
    "print(len(raw_ecg_8M1))"
   ]
  },
  {
   "cell_type": "code",
   "execution_count": 76,
   "id": "1060d57a-bd25-4bc8-b425-7986b54629ef",
   "metadata": {},
   "outputs": [
    {
     "name": "stdout",
     "output_type": "stream",
     "text": [
      "8\n",
      "925440\n"
     ]
    }
   ],
   "source": [
    "print(len(events_8M2))\n",
    "raw_ecg_8M2 = raw_data_8M2[6]\n",
    "print(len(raw_ecg_8M2))"
   ]
  },
  {
   "cell_type": "code",
   "execution_count": 77,
   "id": "27226aec-034c-4b00-995c-7798076b7c2b",
   "metadata": {},
   "outputs": [
    {
     "name": "stdout",
     "output_type": "stream",
     "text": [
      "2\n",
      "925440\n"
     ]
    }
   ],
   "source": [
    "print(len(events_9M1))\n",
    "raw_ecg_9M1 = raw_data_9M1[6]\n",
    "print(len(raw_ecg_9M1))"
   ]
  },
  {
   "cell_type": "code",
   "execution_count": 78,
   "id": "cd34245a-8cc2-43fa-a609-1c61adee4302",
   "metadata": {},
   "outputs": [
    {
     "name": "stdout",
     "output_type": "stream",
     "text": [
      "5\n",
      "927360\n"
     ]
    }
   ],
   "source": [
    "print(len(events_9M2))\n",
    "raw_ecg_9M2 = raw_data_9M2[6]\n",
    "print(len(raw_ecg_9M2))"
   ]
  },
  {
   "cell_type": "code",
   "execution_count": 79,
   "id": "595b371b-1c66-4e47-a88f-e6284c141c65",
   "metadata": {},
   "outputs": [
    {
     "name": "stdout",
     "output_type": "stream",
     "text": [
      "3\n",
      "925440\n"
     ]
    }
   ],
   "source": [
    "print(len(events_10M1))\n",
    "raw_ecg_10M1 = raw_data_10M1[6]\n",
    "print(len(raw_ecg_10M1))"
   ]
  },
  {
   "cell_type": "code",
   "execution_count": 80,
   "id": "a3a0b262-dc8c-4df1-8b9d-32cbf83ff8d6",
   "metadata": {},
   "outputs": [
    {
     "name": "stdout",
     "output_type": "stream",
     "text": [
      "8\n",
      "927360\n"
     ]
    }
   ],
   "source": [
    "print(len(events_10M2))\n",
    "raw_ecg_10M2 = raw_data_10M2[6]\n",
    "print(len(raw_ecg_10M2))"
   ]
  },
  {
   "cell_type": "markdown",
   "id": "faa1ec5c-6d4b-4f26-8644-15c2049148f0",
   "metadata": {},
   "source": [
    "# Get Event Series #"
   ]
  },
  {
   "cell_type": "code",
   "execution_count": 216,
   "id": "fa8c28b9-a089-4350-8822-cc793d61ad5a",
   "metadata": {},
   "outputs": [
    {
     "name": "stdout",
     "output_type": "stream",
     "text": [
      "935040\n",
      "[[  1024      0      1]\n",
      " [193280      0      1]\n",
      " [274304      0      1]\n",
      " [285312      0      1]\n",
      " [300032      0      1]\n",
      " [316288      0      1]\n",
      " [324480      0      1]\n",
      " [343808      0      1]\n",
      " [384256      0      1]\n",
      " [399488      0      1]\n",
      " [410880      0      1]\n",
      " [429440      0      1]\n",
      " [504832      0      1]\n",
      " [524928      0      1]\n",
      " [532608      0      1]\n",
      " [559488      0      1]\n",
      " [577536      0      1]\n",
      " [589568      0      1]\n",
      " [604800      0      1]\n",
      " [625664      0      1]\n",
      " [633088      0      1]\n",
      " [651776      0      1]\n",
      " [873856      0      1]\n",
      " [887936      0      1]\n",
      " [932352      0      1]\n",
      " [933632      0      1]]\n",
      "25\n"
     ]
    }
   ],
   "source": [
    "print(len(raw_ecg_1M1))\n",
    "all_event_series = []\n",
    "print(events_1M1)\n",
    "all_event_series = []\n",
    "all_event_series.append(raw_ecg_1M1[7*128:896+120*128])\n",
    "for event in events_1M1[1:-2]:\n",
    "    all_event_series.append(raw_ecg_1M1[event[0]-(60*128):event[0]+(60*128)])\n",
    "all_event_series.append(raw_ecg_1M1[len(raw_ecg_1M1)-(120*128):])\n",
    "print(len(all_event_series))"
   ]
  },
  {
   "cell_type": "code",
   "execution_count": 217,
   "id": "bf13be72-ef47-41fd-ab85-448450e484df",
   "metadata": {},
   "outputs": [
    {
     "name": "stdout",
     "output_type": "stream",
     "text": [
      "931200\n",
      "[[  1664      0      1]\n",
      " [ 71168      0      1]\n",
      " [ 92032      0      1]\n",
      " [100736      0      1]\n",
      " [106624      0      1]\n",
      " [115200      0      1]\n",
      " [136448      0      1]\n",
      " [149632      0      1]\n",
      " [156160      0      1]\n",
      " [159744      0      1]\n",
      " [167168      0      1]\n",
      " [174720      0      1]\n",
      " [176896      0      1]\n",
      " [182272      0      1]\n",
      " [190336      0      1]\n",
      " [193152      0      1]\n",
      " [198784      0      1]\n",
      " [208384      0      1]\n",
      " [216320      0      1]\n",
      " [223872      0      1]\n",
      " [231808      0      1]\n",
      " [234368      0      1]\n",
      " [241536      0      1]\n",
      " [247040      0      1]\n",
      " [269696      0      1]\n",
      " [316160      0      1]\n",
      " [332928      0      1]\n",
      " [350208      0      1]\n",
      " [391808      0      1]\n",
      " [406400      0      1]\n",
      " [417920      0      1]\n",
      " [439424      0      1]\n",
      " [460288      0      1]\n",
      " [467840      0      1]\n",
      " [474496      0      1]\n",
      " [502400      0      1]\n",
      " [506752      0      1]\n",
      " [511232      0      1]\n",
      " [514176      0      1]\n",
      " [525056      0      1]\n",
      " [548224      0      1]\n",
      " [561152      0      1]\n",
      " [567168      0      1]\n",
      " [571264      0      1]\n",
      " [575104      0      1]\n",
      " [585984      0      1]\n",
      " [740224      0      1]\n",
      " [745216      0      1]\n",
      " [758656      0      1]\n",
      " [830208      0      1]\n",
      " [841984      0      1]\n",
      " [863360      0      1]\n",
      " [880512      0      1]\n",
      " [892544      0      1]\n",
      " [909056      0      1]\n",
      " [919168      0      1]\n",
      " [925696      0      1]\n",
      " [930816      0      1]]\n",
      "81\n"
     ]
    }
   ],
   "source": [
    "print(len(raw_ecg_1M2))\n",
    "print(events_1M2)\n",
    "all_event_series.append(raw_ecg_1M2[9*128:9*128+120*128])\n",
    "for event in events_1M2[1:-3]:\n",
    "    all_event_series.append(raw_ecg_1M2[event[0]-(60*128):event[0]+(60*128)])\n",
    "all_event_series.append(raw_ecg_1M2[len(raw_ecg_1M2)-(120*128):])\n",
    "print(len(all_event_series))"
   ]
  },
  {
   "cell_type": "code",
   "execution_count": 218,
   "id": "ad670337-4c02-447e-99ba-0a072f7197c3",
   "metadata": {},
   "outputs": [
    {
     "name": "stdout",
     "output_type": "stream",
     "text": [
      "944640\n",
      "[[  1024      0      1]\n",
      " [ 28928      0      1]\n",
      " [ 48384      0      1]\n",
      " [ 49408      0      1]\n",
      " [ 79104      0      1]\n",
      " [175872      0      1]\n",
      " [196480      0      1]\n",
      " [201856      0      1]\n",
      " [282496      0      1]\n",
      " [321152      0      1]\n",
      " [344832      0      1]\n",
      " [371200      0      1]\n",
      " [388096      0      1]\n",
      " [414592      0      1]\n",
      " [584320      0      1]\n",
      " [596992      0      1]\n",
      " [598016      0      1]\n",
      " [618368      0      1]\n",
      " [639872      0      1]\n",
      " [646272      0      1]\n",
      " [649344      0      1]\n",
      " [654976      0      1]\n",
      " [668032      0      1]\n",
      " [676352      0      1]\n",
      " [678144      0      1]\n",
      " [694656      0      1]\n",
      " [701184      0      1]\n",
      " [705536      0      1]\n",
      " [707072      0      1]\n",
      " [709504      0      1]\n",
      " [725376      0      1]\n",
      " [725632      0      1]\n",
      " [747904      0      1]\n",
      " [809216      0      1]\n",
      " [817920      0      1]\n",
      " [942080      0      1]\n",
      " [942336      0      1]]\n",
      "117\n"
     ]
    }
   ],
   "source": [
    "print(len(raw_ecg_2F1))\n",
    "print(events_2F1)\n",
    "all_event_series.append(raw_ecg_2F1[8*128:8*128+120*128])\n",
    "for event in events_2F1[1:-2]:\n",
    "    all_event_series.append(raw_ecg_2F1[event[0]-(60*128):event[0]+(60*128)])\n",
    "all_event_series.append(raw_ecg_2F1[len(raw_ecg_2F1)-(120*128):])\n",
    "print(len(all_event_series))"
   ]
  },
  {
   "cell_type": "code",
   "execution_count": 219,
   "id": "963d9112-ae05-4848-8ec3-5853bc72b5dd",
   "metadata": {},
   "outputs": [
    {
     "name": "stdout",
     "output_type": "stream",
     "text": [
      "929280\n",
      "[[   896      0      1]\n",
      " [ 61696      0      1]\n",
      " [ 80000      0      1]\n",
      " [188928      0      1]\n",
      " [409984      0      1]\n",
      " [416896      0      1]\n",
      " [435584      0      1]\n",
      " [448256      0      1]\n",
      " [463872      0      1]\n",
      " [469248      0      1]\n",
      " [476544      0      1]\n",
      " [484608      0      1]\n",
      " [548736      0      1]\n",
      " [557184      0      1]\n",
      " [559744      0      1]\n",
      " [571904      0      1]\n",
      " [573184      0      1]\n",
      " [590336      0      1]\n",
      " [622208      0      1]\n",
      " [711936      0      1]\n",
      " [723072      0      1]\n",
      " [725248      0      1]\n",
      " [737280      0      1]\n",
      " [739328      0      1]\n",
      " [741632      0      1]\n",
      " [754432      0      1]\n",
      " [816000      0      1]\n",
      " [832640      0      1]\n",
      " [854400      0      1]]\n",
      "29\n",
      "[896   0   1]\n",
      "146\n"
     ]
    }
   ],
   "source": [
    "print(len(raw_ecg_2F2))\n",
    "print(events_2F2)\n",
    "print(len(events_2F2))\n",
    "all_event_series.append(raw_ecg_2F2[3*128:3*128+120*128])\n",
    "print(events_2F2[0])\n",
    "for event in events_2F2[1:]:\n",
    "    all_event_series.append(raw_ecg_2F2[event[0]-(60*128):event[0]+(60*128)])\n",
    "print(len(all_event_series))"
   ]
  },
  {
   "cell_type": "code",
   "execution_count": 220,
   "id": "b6064066-08cd-498e-975d-d9cedd9a2245",
   "metadata": {},
   "outputs": [
    {
     "name": "stdout",
     "output_type": "stream",
     "text": [
      "935040\n",
      "[[   384      0      1]\n",
      " [101760      0      1]\n",
      " [204672      0      1]\n",
      " [216832      0      1]\n",
      " [220928      0      1]\n",
      " [229504      0      1]\n",
      " [252672      0      1]\n",
      " [256512      0      1]\n",
      " [262912      0      1]\n",
      " [270336      0      1]\n",
      " [274176      0      1]\n",
      " [283648      0      1]\n",
      " [292608      0      1]\n",
      " [299648      0      1]\n",
      " [311808      0      1]\n",
      " [317440      0      1]\n",
      " [328960      0      1]\n",
      " [333824      0      1]\n",
      " [356096      0      1]\n",
      " [363136      0      1]\n",
      " [371456      0      1]\n",
      " [403968      0      1]\n",
      " [411136      0      1]\n",
      " [425728      0      1]\n",
      " [433280      0      1]\n",
      " [441728      0      1]\n",
      " [455040      0      1]\n",
      " [461440      0      1]\n",
      " [464512      0      1]\n",
      " [466688      0      1]\n",
      " [473472      0      1]\n",
      " [481920      0      1]\n",
      " [489216      0      1]\n",
      " [491904      0      1]\n",
      " [497664      0      1]\n",
      " [502400      0      1]\n",
      " [505472      0      1]\n",
      " [513408      0      1]\n",
      " [517888      0      1]\n",
      " [520576      0      1]\n",
      " [536960      0      1]\n",
      " [541952      0      1]\n",
      " [544128      0      1]\n",
      " [549504      0      1]\n",
      " [553472      0      1]\n",
      " [556032      0      1]\n",
      " [561024      0      1]\n",
      " [578432      0      1]\n",
      " [599168      0      1]\n",
      " [604160      0      1]\n",
      " [606336      0      1]\n",
      " [609792      0      1]\n",
      " [618112      0      1]\n",
      " [622080      0      1]\n",
      " [624896      0      1]\n",
      " [631168      0      1]\n",
      " [634496      0      1]\n",
      " [636928      0      1]\n",
      " [639232      0      1]\n",
      " [647424      0      1]\n",
      " [657152      0      1]\n",
      " [663936      0      1]\n",
      " [674944      0      1]\n",
      " [676864      0      1]\n",
      " [681216      0      1]\n",
      " [686720      0      1]\n",
      " [695168      0      1]\n",
      " [698624      0      1]\n",
      " [701184      0      1]\n",
      " [710784      0      1]\n",
      " [716544      0      1]\n",
      " [722688      0      1]\n",
      " [734848      0      1]\n",
      " [788864      0      1]\n",
      " [795392      0      1]\n",
      " [801536      0      1]\n",
      " [813824      0      1]\n",
      " [832768      0      1]\n",
      " [856704      0      1]\n",
      " [859392      0      1]\n",
      " [873472      0      1]\n",
      " [890240      0      1]\n",
      " [899456      0      1]\n",
      " [907008      0      1]\n",
      " [910592      0      1]\n",
      " [933504      0      1]]\n",
      "86\n",
      "232\n"
     ]
    }
   ],
   "source": [
    "print(len(raw_ecg_3F1))\n",
    "print(events_3F1)\n",
    "print(len(events_3F1))\n",
    "all_event_series.append(raw_ecg_3F1[0:120*128])\n",
    "for event in events_3F1[1:-1]:\n",
    "    all_event_series.append(raw_ecg_3F1[event[0]-(60*128):event[0]+(60*128)])\n",
    "all_event_series.append(raw_ecg_3F1[len(raw_ecg_3F1)-(120*128):])\n",
    "print(len(all_event_series))"
   ]
  },
  {
   "cell_type": "code",
   "execution_count": 221,
   "id": "bbe64b97-50a6-47e7-9865-c56281a8394a",
   "metadata": {},
   "outputs": [
    {
     "name": "stdout",
     "output_type": "stream",
     "text": [
      "940800\n",
      "[[   896      0      1]\n",
      " [ 83456      0      1]\n",
      " [ 88448      0      1]\n",
      " [ 94720      0      1]\n",
      " [ 98560      0      1]\n",
      " [106624      0      1]\n",
      " [132480      0      1]\n",
      " [141952      0      1]\n",
      " [144768      0      1]\n",
      " [151552      0      1]\n",
      " [153088      0      1]\n",
      " [156160      0      1]\n",
      " [158336      0      1]\n",
      " [159616      0      1]\n",
      " [165120      0      1]\n",
      " [166784      0      1]\n",
      " [170880      0      1]\n",
      " [176384      0      1]\n",
      " [178432      0      1]\n",
      " [183552      0      1]\n",
      " [186112      0      1]\n",
      " [188928      0      1]\n",
      " [190464      0      1]\n",
      " [194176      0      1]\n",
      " [196096      0      1]\n",
      " [198400      0      1]\n",
      " [201472      0      1]\n",
      " [204672      0      1]\n",
      " [206720      0      1]\n",
      " [208512      0      1]\n",
      " [210816      0      1]\n",
      " [214400      0      1]\n",
      " [216448      0      1]\n",
      " [218752      0      1]\n",
      " [220800      0      1]\n",
      " [222976      0      1]\n",
      " [225920      0      1]\n",
      " [227328      0      1]\n",
      " [229120      0      1]\n",
      " [231552      0      1]\n",
      " [232320      0      1]\n",
      " [235520      0      1]\n",
      " [239616      0      1]\n",
      " [279936      0      1]\n",
      " [284288      0      1]\n",
      " [286976      0      1]\n",
      " [291328      0      1]\n",
      " [293504      0      1]\n",
      " [296960      0      1]\n",
      " [299008      0      1]\n",
      " [302080      0      1]\n",
      " [304896      0      1]\n",
      " [307840      0      1]\n",
      " [310016      0      1]\n",
      " [311680      0      1]\n",
      " [313472      0      1]\n",
      " [316288      0      1]\n",
      " [317440      0      1]\n",
      " [317824      0      1]\n",
      " [322304      0      1]\n",
      " [326784      0      1]\n",
      " [329856      0      1]\n",
      " [383872      0      1]\n",
      " [430848      0      1]\n",
      " [510080      0      1]\n",
      " [515072      0      1]\n",
      " [522624      0      1]\n",
      " [533248      0      1]\n",
      " [537472      0      1]\n",
      " [752512      0      1]\n",
      " [767488      0      1]\n",
      " [779008      0      1]\n",
      " [785536      0      1]\n",
      " [792576      0      1]\n",
      " [796032      0      1]\n",
      " [799872      0      1]\n",
      " [814976      0      1]\n",
      " [829824      0      1]\n",
      " [834176      0      1]\n",
      " [840064      0      1]\n",
      " [849792      0      1]\n",
      " [852864      0      1]\n",
      " [859392      0      1]\n",
      " [864768      0      1]\n",
      " [866688      0      1]\n",
      " [868224      0      1]\n",
      " [871552      0      1]\n",
      " [879872      0      1]\n",
      " [886528      0      1]\n",
      " [894464      0      1]\n",
      " [904192      0      1]\n",
      " [908416      0      1]\n",
      " [923136      0      1]\n",
      " [926848      0      1]\n",
      " [928640      0      1]\n",
      " [939776      0      1]]\n",
      "96\n",
      "327\n"
     ]
    }
   ],
   "source": [
    "print(len(raw_ecg_3F2))\n",
    "print(events_3F2)\n",
    "print(len(events_3F2))\n",
    "all_event_series.append(raw_ecg_3F2[6*128:6*128+120*128])\n",
    "for event in events_3F2[1:-2]:\n",
    "    all_event_series.append(raw_ecg_3F2[event[0]-(60*128):event[0]+(60*128)])\n",
    "all_event_series.append(raw_ecg_3F2[len(raw_ecg_3F2)-(120*128):])\n",
    "print(len(all_event_series))"
   ]
  },
  {
   "cell_type": "code",
   "execution_count": 222,
   "id": "8c629501-046b-4acf-80ae-c623cb2d6100",
   "metadata": {},
   "outputs": [
    {
     "name": "stdout",
     "output_type": "stream",
     "text": [
      "887040\n",
      "[[  1024      0      1]\n",
      " [ 50304      0      1]\n",
      " [ 73472      0      1]\n",
      " [ 79488      0      1]\n",
      " [ 88960      0      1]\n",
      " [111616      0      1]\n",
      " [121088      0      1]\n",
      " [131456      0      1]\n",
      " [141312      0      1]\n",
      " [149120      0      1]\n",
      " [153344      0      1]\n",
      " [179968      0      1]\n",
      " [194176      0      1]\n",
      " [201216      0      1]\n",
      " [239616      0      1]\n",
      " [248576      0      1]\n",
      " [288640      0      1]\n",
      " [326144      0      1]\n",
      " [351872      0      1]\n",
      " [379776      0      1]\n",
      " [389376      0      1]\n",
      " [401536      0      1]\n",
      " [425344      0      1]\n",
      " [435072      0      1]\n",
      " [509056      0      1]\n",
      " [519040      0      1]\n",
      " [557952      0      1]\n",
      " [560640      0      1]\n",
      " [573312      0      1]\n",
      " [607104      0      1]\n",
      " [625280      0      1]\n",
      " [632576      0      1]\n",
      " [643200      0      1]\n",
      " [649984      0      1]\n",
      " [721024      0      1]\n",
      " [738048      0      1]]\n",
      "36\n",
      "363\n"
     ]
    }
   ],
   "source": [
    "print(len(raw_ecg_4M1))\n",
    "print(events_4M1)\n",
    "print(len(events_4M1))\n",
    "all_event_series.append(raw_ecg_4M1[8*128:8*128+120*128])\n",
    "for event in events_4M1[1:]:\n",
    "    all_event_series.append(raw_ecg_4M1[event[0]-(60*128):event[0]+(60*128)])\n",
    "print(len(all_event_series))"
   ]
  },
  {
   "cell_type": "code",
   "execution_count": 223,
   "id": "b73d6efb-feb5-4cad-b167-1dc6bbc74aa3",
   "metadata": {},
   "outputs": [
    {
     "name": "stdout",
     "output_type": "stream",
     "text": [
      "923520\n",
      "[[  1792      0      1]\n",
      " [ 13568      0      1]\n",
      " [ 82688      0      1]\n",
      " [ 97792      0      1]\n",
      " [113536      0      1]\n",
      " [118144      0      1]\n",
      " [135168      0      1]\n",
      " [186240      0      1]\n",
      " [204672      0      1]\n",
      " [241152      0      1]\n",
      " [275968      0      1]\n",
      " [307200      0      1]\n",
      " [313600      0      1]\n",
      " [325760      0      1]\n",
      " [331264      0      1]\n",
      " [337408      0      1]\n",
      " [342272      0      1]\n",
      " [350592      0      1]\n",
      " [358400      0      1]\n",
      " [374912      0      1]\n",
      " [385152      0      1]\n",
      " [389632      0      1]\n",
      " [407040      0      1]\n",
      " [439424      0      1]\n",
      " [441472      0      1]\n",
      " [449664      0      1]\n",
      " [478080      0      1]\n",
      " [483456      0      1]\n",
      " [497536      0      1]\n",
      " [503168      0      1]\n",
      " [517248      0      1]\n",
      " [526336      0      1]\n",
      " [571392      0      1]\n",
      " [587776      0      1]\n",
      " [590080      0      1]\n",
      " [606464      0      1]\n",
      " [614656      0      1]\n",
      " [630784      0      1]\n",
      " [648192      0      1]\n",
      " [680448      0      1]\n",
      " [721152      0      1]\n",
      " [736128      0      1]\n",
      " [755584      0      1]\n",
      " [760704      0      1]\n",
      " [771456      0      1]\n",
      " [922752      0      1]]\n",
      "46\n",
      "409\n"
     ]
    }
   ],
   "source": [
    "print(len(raw_ecg_4M2))\n",
    "print(events_4M2)\n",
    "print(len(events_4M2))\n",
    "all_event_series.append(raw_ecg_4M2[12*128:12*128+120*128])\n",
    "for event in events_4M2[1:-1]:\n",
    "    all_event_series.append(raw_ecg_4M2[event[0]-(60*128):event[0]+(60*128)])\n",
    "all_event_series.append(raw_ecg_4M2[len(raw_ecg_4M2)-(120*128):])\n",
    "print(len(all_event_series))"
   ]
  },
  {
   "cell_type": "code",
   "execution_count": 224,
   "id": "5283a4a1-4e5e-4960-8cb7-fe0b3b860649",
   "metadata": {},
   "outputs": [
    {
     "name": "stdout",
     "output_type": "stream",
     "text": [
      "927360\n",
      "[[  1024      0      1]\n",
      " [141440      0      1]\n",
      " [156800      0      1]\n",
      " [163072      0      1]\n",
      " [180864      0      1]\n",
      " [193536      0      1]\n",
      " [222976      0      1]\n",
      " [275968      0      1]\n",
      " [303872      0      1]\n",
      " [321920      0      1]\n",
      " [339968      0      1]\n",
      " [356864      0      1]\n",
      " [365312      0      1]\n",
      " [380544      0      1]\n",
      " [389120      0      1]\n",
      " [403840      0      1]\n",
      " [414720      0      1]\n",
      " [454144      0      1]\n",
      " [508032      0      1]\n",
      " [520832      0      1]\n",
      " [626688      0      1]\n",
      " [626816      0      1]\n",
      " [688512      0      1]\n",
      " [715264      0      1]\n",
      " [922496      0      1]]\n",
      "25\n",
      "434\n"
     ]
    }
   ],
   "source": [
    "print(len(raw_ecg_5M1))\n",
    "print(events_5M1)\n",
    "print(len(events_5M1))\n",
    "all_event_series.append(raw_ecg_5M1[8*128:8*128+120*128])\n",
    "for event in events_5M1[1:-1]:\n",
    "    all_event_series.append(raw_ecg_5M1[event[0]-(60*128):event[0]+(60*128)])\n",
    "all_event_series.append(raw_ecg_5M1[len(raw_ecg_5M1)-(120*128):])\n",
    "print(len(all_event_series))"
   ]
  },
  {
   "cell_type": "code",
   "execution_count": 225,
   "id": "7c0f861f-98a9-426d-b04d-70f65f358a03",
   "metadata": {},
   "outputs": [
    {
     "name": "stdout",
     "output_type": "stream",
     "text": [
      "927360\n",
      "[[  1536      0      1]\n",
      " [134144      0      1]\n",
      " [197888      0      1]\n",
      " [209536      0      1]\n",
      " [229888      0      1]\n",
      " [236416      0      1]\n",
      " [265856      0      1]\n",
      " [275712      0      1]\n",
      " [285184      0      1]\n",
      " [288000      0      1]\n",
      " [301952      0      1]\n",
      " [309120      0      1]\n",
      " [313600      0      1]\n",
      " [317056      0      1]\n",
      " [335872      0      1]\n",
      " [347136      0      1]\n",
      " [374272      0      1]\n",
      " [394880      0      1]\n",
      " [401280      0      1]\n",
      " [425728      0      1]\n",
      " [432256      0      1]\n",
      " [436224      0      1]\n",
      " [441472      0      1]\n",
      " [464384      0      1]\n",
      " [464512      0      1]\n",
      " [490496      0      1]\n",
      " [497024      0      1]\n",
      " [498816      0      1]\n",
      " [502784      0      1]\n",
      " [524416      0      1]\n",
      " [530816      0      1]\n",
      " [547328      0      1]\n",
      " [552192      0      1]\n",
      " [559744      0      1]\n",
      " [563840      0      1]\n",
      " [572672      0      1]\n",
      " [580224      0      1]\n",
      " [853760      0      1]\n",
      " [924672      0      1]]\n",
      "39\n",
      "473\n"
     ]
    }
   ],
   "source": [
    "print(len(raw_ecg_5M2))\n",
    "print(events_5M2)\n",
    "print(len(events_5M2))\n",
    "all_event_series.append(raw_ecg_5M2[12*128:12*128+120*128])\n",
    "for event in events_5M2[1:-1]:\n",
    "    all_event_series.append(raw_ecg_5M2[event[0]-(60*128):event[0]+(60*128)])\n",
    "all_event_series.append(raw_ecg_5M2[len(raw_ecg_5M2)-(120*128):])\n",
    "print(len(all_event_series))"
   ]
  },
  {
   "cell_type": "code",
   "execution_count": 226,
   "id": "325452f8-2054-47c1-a763-f4f045b6e031",
   "metadata": {},
   "outputs": [
    {
     "name": "stdout",
     "output_type": "stream",
     "text": [
      "923520\n",
      "[[  1792      0      1]\n",
      " [ 99072      0      1]\n",
      " [116736      0      1]\n",
      " [193664      0      1]\n",
      " [217728      0      1]\n",
      " [225536      0      1]\n",
      " [242688      0      1]\n",
      " [319104      0      1]\n",
      " [335616      0      1]\n",
      " [355328      0      1]\n",
      " [380160      0      1]\n",
      " [395904      0      1]\n",
      " [410624      0      1]\n",
      " [414848      0      1]\n",
      " [417536      0      1]\n",
      " [417792      0      1]\n",
      " [424832      0      1]\n",
      " [444160      0      1]\n",
      " [448512      0      1]\n",
      " [455168      0      1]\n",
      " [491136      0      1]\n",
      " [493312      0      1]\n",
      " [539648      0      1]\n",
      " [543744      0      1]\n",
      " [545920      0      1]\n",
      " [549120      0      1]\n",
      " [551936      0      1]\n",
      " [555136      0      1]\n",
      " [564992      0      1]\n",
      " [652416      0      1]\n",
      " [670848      0      1]\n",
      " [684160      0      1]\n",
      " [684288      0      1]\n",
      " [690176      0      1]\n",
      " [902656      0      1]\n",
      " [922240      0      1]]\n",
      "36\n",
      "509\n"
     ]
    }
   ],
   "source": [
    "print(len(raw_ecg_6M1))\n",
    "print(events_6M1)\n",
    "print(len(events_6M1))\n",
    "all_event_series.append(raw_ecg_6M1[14*128:14*128+120*128])\n",
    "for event in events_6M1[1:-1]:\n",
    "    all_event_series.append(raw_ecg_6M1[event[0]-(60*128):event[0]+(60*128)])\n",
    "all_event_series.append(raw_ecg_6M1[len(raw_ecg_6M1)-(120*128):])\n",
    "print(len(all_event_series))"
   ]
  },
  {
   "cell_type": "code",
   "execution_count": 227,
   "id": "e8c65108-a0cc-442b-94eb-0404b8e068f1",
   "metadata": {},
   "outputs": [
    {
     "name": "stdout",
     "output_type": "stream",
     "text": [
      "938880\n",
      "[[   768      0      1]\n",
      " [ 58496      0      1]\n",
      " [220288      0      1]\n",
      " [238080      0      1]\n",
      " [360704      0      1]\n",
      " [367744      0      1]\n",
      " [372096      0      1]\n",
      " [375168      0      1]\n",
      " [378752      0      1]\n",
      " [437504      0      1]\n",
      " [457216      0      1]\n",
      " [472064      0      1]\n",
      " [514944      0      1]\n",
      " [602624      0      1]\n",
      " [651648      0      1]\n",
      " [849408      0      1]\n",
      " [894464      0      1]\n",
      " [929024      0      1]\n",
      " [929152      0      1]]\n",
      "19\n",
      "528\n"
     ]
    }
   ],
   "source": [
    "print(len(raw_ecg_6M2))\n",
    "print(events_6M2)\n",
    "print(len(events_6M2))\n",
    "all_event_series.append(raw_ecg_6M2[0:120*128])\n",
    "for event in events_6M2[1:]:\n",
    "    all_event_series.append(raw_ecg_6M2[event[0]-(60*128):event[0]+(60*128)])\n",
    "print(len(all_event_series))"
   ]
  },
  {
   "cell_type": "code",
   "execution_count": 228,
   "id": "99a05858-66e4-454b-928c-e798f81021be",
   "metadata": {},
   "outputs": [
    {
     "name": "stdout",
     "output_type": "stream",
     "text": [
      "933120\n",
      "[[   384      0      1]\n",
      " [ 99968      0      1]\n",
      " [105728      0      1]\n",
      " [121472      0      1]\n",
      " [162816      0      1]\n",
      " [165504      0      1]\n",
      " [180736      0      1]\n",
      " [194048      0      1]\n",
      " [200192      0      1]\n",
      " [203392      0      1]\n",
      " [227712      0      1]\n",
      " [241664      0      1]\n",
      " [279040      0      1]\n",
      " [293248      0      1]\n",
      " [300544      0      1]\n",
      " [304640      0      1]\n",
      " [307968      0      1]\n",
      " [310912      0      1]\n",
      " [316416      0      1]\n",
      " [322816      0      1]\n",
      " [325632      0      1]\n",
      " [329856      0      1]\n",
      " [333056      0      1]\n",
      " [341120      0      1]\n",
      " [369664      0      1]\n",
      " [376448      0      1]\n",
      " [390528      0      1]\n",
      " [393088      0      1]\n",
      " [402560      0      1]\n",
      " [410880      0      1]\n",
      " [414464      0      1]\n",
      " [418304      0      1]\n",
      " [422656      0      1]\n",
      " [424576      0      1]\n",
      " [427648      0      1]\n",
      " [438144      0      1]\n",
      " [439680      0      1]\n",
      " [442112      0      1]\n",
      " [444032      0      1]\n",
      " [447232      0      1]\n",
      " [449152      0      1]\n",
      " [456704      0      1]\n",
      " [460160      0      1]\n",
      " [466560      0      1]\n",
      " [468864      0      1]\n",
      " [470656      0      1]\n",
      " [473088      0      1]\n",
      " [475136      0      1]\n",
      " [476928      0      1]\n",
      " [483072      0      1]\n",
      " [485376      0      1]\n",
      " [492160      0      1]\n",
      " [497792      0      1]\n",
      " [498816      0      1]\n",
      " [501504      0      1]\n",
      " [507136      0      1]\n",
      " [511872      0      1]\n",
      " [513920      0      1]\n",
      " [522112      0      1]\n",
      " [526464      0      1]\n",
      " [528256      0      1]\n",
      " [560768      0      1]\n",
      " [596736      0      1]\n",
      " [599936      0      1]\n",
      " [602496      0      1]\n",
      " [608640      0      1]\n",
      " [615296      0      1]\n",
      " [621696      0      1]\n",
      " [631296      0      1]\n",
      " [637184      0      1]\n",
      " [643456      0      1]\n",
      " [645888      0      1]\n",
      " [649472      0      1]\n",
      " [654976      0      1]\n",
      " [660736      0      1]\n",
      " [668928      0      1]\n",
      " [676352      0      1]\n",
      " [679296      0      1]\n",
      " [684544      0      1]\n",
      " [688000      0      1]\n",
      " [691712      0      1]\n",
      " [697344      0      1]\n",
      " [699648      0      1]\n",
      " [704384      0      1]\n",
      " [711296      0      1]\n",
      " [713728      0      1]\n",
      " [718336      0      1]\n",
      " [726016      0      1]\n",
      " [729344      0      1]\n",
      " [930944      0      1]]\n",
      "90\n",
      "618\n"
     ]
    }
   ],
   "source": [
    "print(len(raw_ecg_7F1))\n",
    "print(events_7F1)\n",
    "print(len(events_7F1))\n",
    "all_event_series.append(raw_ecg_7F1[0:120*128])\n",
    "for event in events_7F1[1:-1]:\n",
    "    all_event_series.append(raw_ecg_7F1[event[0]-(60*128):event[0]+(60*128)])\n",
    "all_event_series.append(raw_ecg_7F1[len(raw_ecg_7F1)-(120*128):])\n",
    "print(len(all_event_series))"
   ]
  },
  {
   "cell_type": "code",
   "execution_count": 229,
   "id": "b26805a2-c932-40a6-812e-70c06f35e4da",
   "metadata": {},
   "outputs": [
    {
     "name": "stdout",
     "output_type": "stream",
     "text": [
      "931200\n",
      "[[  1792      0      1]\n",
      " [107008      0      1]\n",
      " [116608      0      1]\n",
      " [167424      0      1]\n",
      " [179456      0      1]\n",
      " [184576      0      1]\n",
      " [190720      0      1]\n",
      " [194560      0      1]\n",
      " [198016      0      1]\n",
      " [201856      0      1]\n",
      " [210176      0      1]\n",
      " [224256      0      1]\n",
      " [230784      0      1]\n",
      " [247424      0      1]\n",
      " [258048      0      1]\n",
      " [285952      0      1]\n",
      " [299264      0      1]\n",
      " [301056      0      1]\n",
      " [304512      0      1]\n",
      " [307584      0      1]\n",
      " [312320      0      1]\n",
      " [319744      0      1]\n",
      " [322688      0      1]\n",
      " [332544      0      1]\n",
      " [341376      0      1]\n",
      " [352896      0      1]\n",
      " [354176      0      1]\n",
      " [359808      0      1]\n",
      " [363904      0      1]\n",
      " [369280      0      1]\n",
      " [372480      0      1]\n",
      " [378368      0      1]\n",
      " [381696      0      1]\n",
      " [393728      0      1]\n",
      " [401280      0      1]\n",
      " [406016      0      1]\n",
      " [413824      0      1]\n",
      " [418816      0      1]\n",
      " [419968      0      1]\n",
      " [421504      0      1]\n",
      " [427264      0      1]\n",
      " [431744      0      1]\n",
      " [433152      0      1]\n",
      " [440448      0      1]\n",
      " [442368      0      1]\n",
      " [444160      0      1]\n",
      " [445440      0      1]\n",
      " [450944      0      1]\n",
      " [453120      0      1]\n",
      " [459648      0      1]\n",
      " [461056      0      1]\n",
      " [462464      0      1]\n",
      " [463872      0      1]\n",
      " [470272      0      1]\n",
      " [473600      0      1]\n",
      " [475264      0      1]\n",
      " [477568      0      1]\n",
      " [478976      0      1]\n",
      " [480896      0      1]\n",
      " [483200      0      1]\n",
      " [484480      0      1]\n",
      " [485632      0      1]\n",
      " [491392      0      1]\n",
      " [493312      0      1]\n",
      " [499328      0      1]\n",
      " [503936      0      1]\n",
      " [505984      0      1]\n",
      " [507136      0      1]\n",
      " [507904      0      1]\n",
      " [518272      0      1]\n",
      " [519808      0      1]\n",
      " [521600      0      1]\n",
      " [525184      0      1]\n",
      " [530176      0      1]\n",
      " [531456      0      1]\n",
      " [536704      0      1]\n",
      " [539264      0      1]\n",
      " [553984      0      1]\n",
      " [561920      0      1]\n",
      " [572288      0      1]\n",
      " [584064      0      1]\n",
      " [586752      0      1]\n",
      " [593280      0      1]\n",
      " [595456      0      1]\n",
      " [595584      0      1]\n",
      " [597376      0      1]\n",
      " [600320      0      1]\n",
      " [604416      0      1]\n",
      " [605440      0      1]\n",
      " [608512      0      1]\n",
      " [613248      0      1]\n",
      " [615936      0      1]\n",
      " [618112      0      1]\n",
      " [619264      0      1]\n",
      " [621824      0      1]\n",
      " [652800      0      1]\n",
      " [666240      0      1]\n",
      " [670208      0      1]\n",
      " [672256      0      1]\n",
      " [676224      0      1]\n",
      " [679040      0      1]\n",
      " [680576      0      1]\n",
      " [681728      0      1]\n",
      " [683392      0      1]\n",
      " [684800      0      1]\n",
      " [686848      0      1]\n",
      " [688768      0      1]\n",
      " [693504      0      1]\n",
      " [695936      0      1]\n",
      " [701696      0      1]\n",
      " [707072      0      1]\n",
      " [708864      0      1]\n",
      " [710400      0      1]\n",
      " [711296      0      1]\n",
      " [713984      0      1]\n",
      " [720128      0      1]\n",
      " [723968      0      1]\n",
      " [730752      0      1]\n",
      " [733056      0      1]\n",
      " [736640      0      1]\n",
      " [741120      0      1]\n",
      " [743424      0      1]\n",
      " [745472      0      1]\n",
      " [748416      0      1]\n",
      " [749568      0      1]\n",
      " [750464      0      1]\n",
      " [751616      0      1]\n",
      " [754304      0      1]\n",
      " [758528      0      1]\n",
      " [768000      0      1]\n",
      " [770688      0      1]\n",
      " [772352      0      1]\n",
      " [779904      0      1]\n",
      " [781312      0      1]\n",
      " [787584      0      1]\n",
      " [790784      0      1]\n",
      " [795520      0      1]\n",
      " [799744      0      1]\n",
      " [802304      0      1]\n",
      " [803328      0      1]\n",
      " [804864      0      1]\n",
      " [809600      0      1]\n",
      " [810880      0      1]\n",
      " [816896      0      1]\n",
      " [818688      0      1]\n",
      " [821376      0      1]\n",
      " [822656      0      1]\n",
      " [824576      0      1]\n",
      " [827648      0      1]\n",
      " [829696      0      1]\n",
      " [835328      0      1]\n",
      " [839424      0      1]\n",
      " [841728      0      1]\n",
      " [844032      0      1]\n",
      " [849280      0      1]\n",
      " [857216      0      1]\n",
      " [863104      0      1]\n",
      " [870528      0      1]\n",
      " [875520      0      1]\n",
      " [885888      0      1]\n",
      " [891264      0      1]\n",
      " [911488      0      1]]\n",
      "162\n",
      "780\n"
     ]
    }
   ],
   "source": [
    "print(len(raw_ecg_7F2))\n",
    "print(events_7F2)\n",
    "print(len(events_7F2))\n",
    "all_event_series.append(raw_ecg_7F2[13*128:13*128+120*128])\n",
    "for event in events_7F2[1:]:\n",
    "    all_event_series.append(raw_ecg_7F2[event[0]-(60*128):event[0]+(60*128)])\n",
    "print(len(all_event_series))"
   ]
  },
  {
   "cell_type": "code",
   "execution_count": 230,
   "id": "449a0763-225d-4d10-86f5-91c6837cc1b9",
   "metadata": {},
   "outputs": [
    {
     "name": "stdout",
     "output_type": "stream",
     "text": [
      "925440\n",
      "[[   384      0      1]\n",
      " [588544      0      1]\n",
      " [666624      0      1]\n",
      " [811264      0      1]\n",
      " [923520      0      1]]\n",
      "5\n",
      "785\n"
     ]
    }
   ],
   "source": [
    "print(len(raw_ecg_8M1))\n",
    "print(events_8M1)\n",
    "print(len(events_8M1))\n",
    "all_event_series.append(raw_ecg_8M1[3*128:3*128+120*128])\n",
    "for event in events_8M1[1:-1]:\n",
    "    all_event_series.append(raw_ecg_8M1[event[0]-(60*128):event[0]+(60*128)])\n",
    "all_event_series.append(raw_ecg_8M1[len(raw_ecg_8M1)-(120*128):])\n",
    "print(len(all_event_series))"
   ]
  },
  {
   "cell_type": "code",
   "execution_count": 231,
   "id": "9b839282-c9fc-4f15-bb44-e1cbeb27f35d",
   "metadata": {},
   "outputs": [
    {
     "name": "stdout",
     "output_type": "stream",
     "text": [
      "925440\n",
      "[[  2048      0      1]\n",
      " [257536      0      1]\n",
      " [418432      0      1]\n",
      " [622080      0      1]\n",
      " [765696      0      1]\n",
      " [800768      0      1]\n",
      " [819200      0      1]\n",
      " [924416      0      1]]\n",
      "8\n",
      "793\n"
     ]
    }
   ],
   "source": [
    "print(len(raw_ecg_8M2))\n",
    "print(events_8M2)\n",
    "print(len(events_8M2))\n",
    "all_event_series.append(raw_ecg_8M2[13*128:13*128+120*128])\n",
    "for event in events_8M2[1:-1]:\n",
    "    all_event_series.append(raw_ecg_8M2[event[0]-(60*128):event[0]+(60*128)])\n",
    "all_event_series.append(raw_ecg_8M2[len(raw_ecg_8M2)-(120*128):])\n",
    "print(len(all_event_series))"
   ]
  },
  {
   "cell_type": "code",
   "execution_count": 232,
   "id": "7e9216ec-01c2-485c-8806-d76559309b3d",
   "metadata": {},
   "outputs": [
    {
     "name": "stdout",
     "output_type": "stream",
     "text": [
      "925440\n",
      "[[  1920      0      1]\n",
      " [924416      0      1]]\n",
      "2\n",
      "795\n"
     ]
    }
   ],
   "source": [
    "print(len(raw_ecg_9M1))\n",
    "print(events_9M1)\n",
    "print(len(events_9M1))\n",
    "all_event_series.append(raw_ecg_9M1[13*128:13*128+120*128])\n",
    "for event in events_9M1[1:-1]:\n",
    "    all_event_series.append(raw_ecg_9M1[event[0]-(60*128):event[0]+(60*128)])\n",
    "all_event_series.append(raw_ecg_9M1[len(raw_ecg_9M1)-(120*128):])\n",
    "print(len(all_event_series))"
   ]
  },
  {
   "cell_type": "code",
   "execution_count": 233,
   "id": "4a2c223e-1a4b-4ee8-a5c1-c75fb9778b37",
   "metadata": {},
   "outputs": [
    {
     "name": "stdout",
     "output_type": "stream",
     "text": [
      "927360\n",
      "[[  1536      0      1]\n",
      " [630912      0      1]\n",
      " [730240      0      1]\n",
      " [908416      0      1]\n",
      " [925184      0      1]]\n",
      "5\n",
      "800\n"
     ]
    }
   ],
   "source": [
    "print(len(raw_ecg_9M2))\n",
    "print(events_9M2)\n",
    "print(len(events_9M2))\n",
    "all_event_series.append(raw_ecg_9M2[7*128:7*128+120*128])\n",
    "for event in events_9M2[1:-1]:\n",
    "    all_event_series.append(raw_ecg_9M2[event[0]-(60*128):event[0]+(60*128)])\n",
    "all_event_series.append(raw_ecg_9M2[len(raw_ecg_9M2)-(120*128):])\n",
    "print(len(all_event_series))"
   ]
  },
  {
   "cell_type": "code",
   "execution_count": 234,
   "id": "6dc66438-572c-48c3-b4c3-74018f25f900",
   "metadata": {},
   "outputs": [
    {
     "name": "stdout",
     "output_type": "stream",
     "text": [
      "925440\n",
      "[[  2560      0      1]\n",
      " [434304      0      1]\n",
      " [924160      0      1]]\n",
      "3\n",
      "803\n"
     ]
    }
   ],
   "source": [
    "print(len(raw_ecg_10M1))\n",
    "print(events_10M1)\n",
    "print(len(events_10M1))\n",
    "all_event_series.append(raw_ecg_10M1[3*128:3*128+120*128])\n",
    "for event in events_10M1[1:-1]:\n",
    "    all_event_series.append(raw_ecg_10M1[event[0]-(60*128):event[0]+(60*128)])\n",
    "all_event_series.append(raw_ecg_10M1[len(raw_ecg_10M1)-(120*128):])\n",
    "print(len(all_event_series))"
   ]
  },
  {
   "cell_type": "code",
   "execution_count": 235,
   "id": "b158831f-94d5-479f-ac9a-1b33474e7c8d",
   "metadata": {},
   "outputs": [
    {
     "name": "stdout",
     "output_type": "stream",
     "text": [
      "927360\n",
      "[[   512      0      1]\n",
      " [257792      0      1]\n",
      " [355840      0      1]\n",
      " [481536      0      1]\n",
      " [557824      0      1]\n",
      " [691072      0      1]\n",
      " [865280      0      1]\n",
      " [925056      0      1]]\n",
      "8\n",
      "811\n"
     ]
    }
   ],
   "source": [
    "print(len(raw_ecg_10M2))\n",
    "print(events_10M2)\n",
    "print(len(events_10M2))\n",
    "all_event_series.append(raw_ecg_10M2[0:120*128])\n",
    "for event in events_10M2[1:-1]:\n",
    "    all_event_series.append(raw_ecg_10M2[event[0]-(60*128):event[0]+(60*128)])\n",
    "all_event_series.append(raw_ecg_10M2[len(raw_ecg_10M2)-(120*128):])\n",
    "print(len(all_event_series))"
   ]
  },
  {
   "cell_type": "markdown",
   "id": "88e37ec5-c280-48e5-a252-65f467459c94",
   "metadata": {},
   "source": [
    "# Testing How to get features #"
   ]
  },
  {
   "cell_type": "code",
   "execution_count": 236,
   "id": "e94af396-fc04-4037-8e23-4a5641163c1e",
   "metadata": {
    "tags": []
   },
   "outputs": [
    {
     "data": {
      "image/png": "[encoded data removed]",
      "text/plain": [
       "<Figure size 1000x500 with 4 Axes>"
      ]
     },
     "metadata": {},
     "output_type": "display_data"
    },
    {
     "name": "stdout",
     "output_type": "stream",
     "text": [
      "ReturnTuple(hr_mean=68.33578284737197, hr_min=59.07692307692308, hr_max=80.0, hr_std=4.337517826708085) ReturnTuple(sdnn=56.07098158188642) ReturnTuple(rmssd=65.66302425412464)\n"
     ]
    }
   ],
   "source": [
    "ts, filtered, rpeaks, templates_ts, templates, heart_rate_ts, heart_rate = biosppy.signals.ecg.ecg(all_event_series[100], show=True, sampling_rate=128)\n",
    "rpeaks = rpeaks/128 * 1000\n",
    "nni = tools.nn_intervals(rpeaks)\n",
    "hr_params = td.hr_parameters(nni)\n",
    "sdnn = td.sdnn(nni)\n",
    "rmssd = td.rmssd(nni)\n",
    "print(hr_params, sdnn, rmssd)\n"
   ]
  },
  {
   "cell_type": "code",
   "execution_count": 239,
   "id": "9d191a52-e10d-4729-9f60-d7a576df19ce",
   "metadata": {
    "tags": []
   },
   "outputs": [],
   "source": [
    "#results = pyhrv.hrv(nni)\n",
    "#print(results)"
   ]
  },
  {
   "cell_type": "code",
   "execution_count": 237,
   "id": "e6f4c5f3-6ae5-4ef3-93fd-f8bf8cafc0c7",
   "metadata": {
    "tags": []
   },
   "outputs": [
    {
     "name": "stdout",
     "output_type": "stream",
     "text": [
      "     subject_id  label_relaxation  label_passenger   period  segment_id  \\\n",
      "4             1                 0                0  Driving           0   \n",
      "5             1                 0                0  Driving           1   \n",
      "6             1                 0                0  Driving           2   \n",
      "7             1                 0                0  Driving           3   \n",
      "12            2                 1                0  Driving           0   \n",
      "..          ...               ...              ...      ...         ...   \n",
      "489          60                 0                1  Driving           4   \n",
      "495          61                 0                1  Driving           0   \n",
      "496          61                 0                1  Driving           1   \n",
      "497          61                 0                1  Driving           2   \n",
      "498          61                 0                1  Driving           3   \n",
      "\n",
      "     time_start  time_end  ECG_Rate_Mean_Bl  HRV_MeanNN_Bl  HRV_SDNN_Bl  ...  \\\n",
      "4             0       120         70.750229     848.184358    42.238214  ...   \n",
      "5           120       240         70.750229     848.184358    42.238214  ...   \n",
      "6           240       360         70.750229     848.184358    42.238214  ...   \n",
      "7           360       480         70.750229     848.184358    42.238214  ...   \n",
      "12            0       120         64.525927     930.401274    80.201293  ...   \n",
      "..          ...       ...               ...            ...          ...  ...   \n",
      "489         480       600         67.475613     889.728358    67.262741  ...   \n",
      "495           0       120         73.177014     820.087671    55.945647  ...   \n",
      "496         120       240         73.177014     820.087671    55.945647  ...   \n",
      "497         240       360         73.177014     820.087671    55.945647  ...   \n",
      "498         360       480         73.177014     820.087671    55.945647  ...   \n",
      "\n",
      "     HRV_SampEn_Dr-Bl  HRV_ShanEn_Dr-Bl  HRV_FuzzyEn_Dr-Bl  HRV_MSE_Dr-Bl  \\\n",
      "4           -0.403444         -0.418312          -0.408100      -1.161570   \n",
      "5           -0.307494         -0.630592          -0.095398      -1.161570   \n",
      "6            0.045181         -0.555421           0.035960      -1.161570   \n",
      "7           -0.193016         -0.650256          -0.115244      -1.161570   \n",
      "12          -0.390620         -0.947173           0.023289      -1.000912   \n",
      "..                ...               ...                ...            ...   \n",
      "489          0.510826         -0.636246          -0.063419      -0.888787   \n",
      "495         -0.443781         -0.254034          -0.369989      -1.292481   \n",
      "496          0.103850         -0.712366           0.023150      -1.292481   \n",
      "497         -0.690058         -0.162168          -0.448783      -1.292481   \n",
      "498         -0.332706         -0.460705          -0.085425      -1.292481   \n",
      "\n",
      "     HRV_CMSE_Dr-Bl  HRV_RCMSE_Dr-Bl  HRV_CD_Dr-Bl  HRV_HFD_Dr-Bl  \\\n",
      "4         -0.423901        -0.666512     -0.277505       0.084517   \n",
      "5         -0.079171        -0.282170      0.037569      -0.118723   \n",
      "6         -0.083999        -0.034712      0.210561       0.120738   \n",
      "7         -0.342694         0.081946     -0.077626      -0.099110   \n",
      "12        -0.174455        -0.264863      0.130289       0.027086   \n",
      "..              ...              ...           ...            ...   \n",
      "489        0.392218         0.538746      0.241602      -0.006827   \n",
      "495       -0.308623         0.089290     -0.018334      -0.182795   \n",
      "496       -0.500928         0.174414      0.032552      -0.016005   \n",
      "497       -0.825718         0.220994     -0.148173      -0.207853   \n",
      "498       -0.320137         0.309282      0.006306       0.075572   \n",
      "\n",
      "     HRV_KFD_Dr-Bl  HRV_LZC_Dr-Bl  \n",
      "4        -1.362374      -0.267469  \n",
      "5        -0.720445      -0.147947  \n",
      "6        -0.236801       0.002640  \n",
      "7        -0.907293      -0.085193  \n",
      "12        0.187504       0.052233  \n",
      "..             ...            ...  \n",
      "489      -0.281551       0.105335  \n",
      "495      -0.985636      -0.136073  \n",
      "496      -0.414119      -0.090169  \n",
      "497      -1.183013      -0.155031  \n",
      "498      -0.312669       0.077980  \n",
      "\n",
      "[248 rows x 241 columns]\n"
     ]
    }
   ],
   "source": [
    "non_drowsy = pd.read_csv(\"7319612/Exp1/Exp1/Preprocessed/Physio/windows/features_window_120s_overlap_0.csv\")\n",
    "col_name = ['subject_id', 'label_relaxation', 'label_passenger', 'period', 'segment_id', 'time_start', 'time_end']\n",
    "for i in non_drowsy.columns.values:\n",
    "    if (\"ECG\" in i) or (\"HRV\" in i) or (\"HR\" in i):\n",
    "        col_name.append(i)\n",
    "non_drowsy = non_drowsy.loc[:, non_drowsy.columns.isin(col_name)]\n",
    "non_drowsy = non_drowsy.query('period == \"Driving\"')\n",
    "print(non_drowsy)"
   ]
  },
  {
   "cell_type": "code",
   "execution_count": 240,
   "id": "3477b0c2-13e5-437b-b4d6-74e0f1dec9bb",
   "metadata": {
    "tags": []
   },
   "outputs": [
    {
     "name": "stdout",
     "output_type": "stream",
     "text": [
      "     subject_id   period  segment_id  time_start  time_end  ECG_Rate_Mean_Bl  \\\n",
      "0             1  Driving           0           0       180         87.703360   \n",
      "1             1  Driving           1         180       360         87.703360   \n",
      "2             1  Driving           2         360       540         87.703360   \n",
      "3             1  Driving           3         540       720         87.703360   \n",
      "4             1  Driving           4         720       900         87.703360   \n",
      "..          ...      ...         ...         ...       ...               ...   \n",
      "517          90  Driving           1         180       360         73.490392   \n",
      "518          90  Driving           2         360       540         73.490392   \n",
      "519          90  Driving           3         540       720         73.490392   \n",
      "520          90  Driving           4         720       900         73.490392   \n",
      "521          90  Driving           5         900      1080         73.490392   \n",
      "\n",
      "     HRV_MeanNN_Bl  HRV_SDNN_Bl  HRV_SDANN1_Bl  HRV_SDNNI1_Bl  ...  \\\n",
      "0       684.177677    27.315598        5.55512      26.791463  ...   \n",
      "1       684.177677    27.315598        5.55512      26.791463  ...   \n",
      "2       684.177677    27.315598        5.55512      26.791463  ...   \n",
      "3       684.177677    27.315598        5.55512      26.791463  ...   \n",
      "4       684.177677    27.315598        5.55512      26.791463  ...   \n",
      "..             ...          ...            ...            ...  ...   \n",
      "517     816.403270    49.417324       27.07081      42.755284  ...   \n",
      "518     816.403270    49.417324       27.07081      42.755284  ...   \n",
      "519     816.403270    49.417324       27.07081      42.755284  ...   \n",
      "520     816.403270    49.417324       27.07081      42.755284  ...   \n",
      "521     816.403270    49.417324       27.07081      42.755284  ...   \n",
      "\n",
      "     HRV_SampEn_Dr-Bl  HRV_ShanEn_Dr-Bl  HRV_FuzzyEn_Dr-Bl  HRV_MSE_Dr-Bl  \\\n",
      "0            0.007627         -0.338994          -0.137723      -0.440507   \n",
      "1           -0.505472          0.030107          -0.277942      -0.670069   \n",
      "2           -0.364962         -0.045206          -0.252193      -0.675867   \n",
      "3            0.002376         -0.127675          -0.120519      -0.329055   \n",
      "4           -0.249931          0.079829          -0.234486      -0.547372   \n",
      "..                ...               ...                ...            ...   \n",
      "517         -0.118336         -0.249204           0.039457      -0.090828   \n",
      "518         -0.066124         -0.294322           0.055901      -0.190772   \n",
      "519          0.058529         -0.219404           0.062172      -0.171806   \n",
      "520         -0.102955         -0.109661           0.038672      -0.153080   \n",
      "521         -0.198990         -0.241214          -0.100998      -0.198671   \n",
      "\n",
      "     HRV_CMSE_Dr-Bl  HRV_RCMSE_Dr-Bl  HRV_CD_Dr-Bl  HRV_HFD_Dr-Bl  \\\n",
      "0         -0.047502        -0.104145     -0.004692      -0.080186   \n",
      "1         -0.341306        -0.600686     -0.130934      -0.087912   \n",
      "2         -0.302089         0.101747     -0.156066      -0.149606   \n",
      "3         -0.098722         0.080921      0.051025      -0.095155   \n",
      "4         -0.257684        -0.024408     -0.015977      -0.120099   \n",
      "..              ...              ...           ...            ...   \n",
      "517        0.133142         0.293149      0.250035       0.039370   \n",
      "518       -0.009507         0.155832      0.168683       0.114165   \n",
      "519        0.120432        -0.016784      0.178487       0.042859   \n",
      "520        0.187921         0.378445      0.151939       0.059084   \n",
      "521        0.047125         0.193965      0.083552       0.000499   \n",
      "\n",
      "     HRV_KFD_Dr-Bl  HRV_LZC_Dr-Bl  \n",
      "0        -0.311349       0.017910  \n",
      "1        -0.539903      -0.175425  \n",
      "2        -0.403281      -0.169711  \n",
      "3        -0.484906      -0.163881  \n",
      "4        -0.191713      -0.045078  \n",
      "..             ...            ...  \n",
      "517       0.059850      -0.026086  \n",
      "518       0.290405       0.138598  \n",
      "519       0.463174       0.088121  \n",
      "520       0.100612       0.022451  \n",
      "521      -0.140956       0.022451  \n",
      "\n",
      "[522 rows x 239 columns]\n"
     ]
    }
   ],
   "source": [
    "non_drowsy = pd.read_csv(\"7319612/Exp2/Exp2/Preprocessed/Physio/windows/features_window_180s_overlap_0.csv\")\n",
    "col_name = ['subject_id', 'label_relaxation', 'label_passenger', 'period', 'segment_id', 'time_start', 'time_end']\n",
    "for i in non_drowsy.columns.values:\n",
    "    if (\"ECG\" in i) or (\"HRV\" in i) or (\"HR\" in i):\n",
    "        col_name.append(i)\n",
    "non_drowsy = non_drowsy.loc[:, non_drowsy.columns.isin(col_name)]\n",
    "non_drowsy = non_drowsy.query('period == \"Driving\"')\n",
    "print(non_drowsy)"
   ]
  },
  {
   "cell_type": "code",
   "execution_count": null,
   "id": "99857315-aaf3-4c4c-812d-d42626736f67",
   "metadata": {
    "tags": []
   },
   "outputs": [],
   "source": []
  },
  {
   "cell_type": "code",
   "execution_count": null,
   "id": "90031d08-c56d-4229-9604-2b41a8070481",
   "metadata": {
    "tags": []
   },
   "outputs": [],
   "source": []
  },
  {
   "cell_type": "code",
   "execution_count": null,
   "id": "b6cf4a70-b66e-4997-82a3-b7bff4f64818",
   "metadata": {
    "tags": []
   },
   "outputs": [],
   "source": []
  },
  {
   "cell_type": "code",
   "execution_count": null,
   "id": "d0d5bbcc-6ba3-4168-8716-cd867dfa0827",
   "metadata": {
    "tags": []
   },
   "outputs": [],
   "source": []
  },
  {
   "cell_type": "code",
   "execution_count": null,
   "id": "6604fd80-2714-445d-8ac4-ca74653e0533",
   "metadata": {},
   "outputs": [],
   "source": []
  },
  {
   "cell_type": "code",
   "execution_count": null,
   "id": "4922d7aa-a9ef-4815-9586-8e538ed0420d",
   "metadata": {},
   "outputs": [],
   "source": []
  },
  {
   "cell_type": "code",
   "execution_count": null,
   "id": "6f1a7791-e96d-4815-9ee9-9c4afd869b4f",
   "metadata": {},
   "outputs": [],
   "source": []
  }
 ],
 "metadata": {
  "kernelspec": {
   "display_name": "Python 3 (ipykernel)",
   "language": "python",
   "name": "python3"
  },
  "language_info": {
   "codemirror_mode": {
    "name": "ipython",
    "version": 3
   },
   "file_extension": ".py",
   "mimetype": "text/x-python",
   "name": "python",
   "nbconvert_exporter": "python",
   "pygments_lexer": "ipython3",
   "version": "3.11.7"
  }
 },
 "nbformat": 4,
 "nbformat_minor": 5
}
